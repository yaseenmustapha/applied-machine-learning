{
 "cells": [
  {
   "cell_type": "markdown",
   "metadata": {},
   "source": [
    "# CPSC 330 - Applied Machine Learning \n",
    "\n",
    "## Homework 1: Programming with Python  \n",
    "\n",
    "**Due date: Monday January 17, 2022 at 11:59pm.**"
   ]
  },
  {
   "cell_type": "markdown",
   "metadata": {},
   "source": [
    "### About this assignment:\n",
    "The main purpose of this assignment is to check whether your programming knowledge is adequate to take CPSC 330. This assignment covers two python packages, `numpy` and `pandas`, which we'll be using throughout the course. For some of you, Python/numpy/pandas will be familiar; for others, it will be new. Either way, if you find this assignment very difficult then that could be a sign that you will struggle later on in the course. While CPSC 330 is a machine learning course rather than a programming course, programming will be an essential part of it.\n",
    "\n",
    "Also, as part of this assignment you will likely need to consult the documentation for various Python packages we're using. This is, of course, totally OK and in fact strongly encouraged. Reading and interpreting documentation is an important skill, and in fact is one of the skills this assignment is meant to assess. For Python refresher, check out [Python notes](https://ubc-cs.github.io/cpsc330/docs/python_notes.html) and [Python resources](https://ubc-cs.github.io/cpsc330/docs/resources.html#python-resources). "
   ]
  },
  {
   "cell_type": "markdown",
   "metadata": {},
   "source": [
    "### Set-up\n",
    "\n",
    "In order to do this assignment, you will need to set up the CPSC 330 software stack, which is Python and Jupyter. For software install help, see [here](https://ubc-cs.github.io/cpsc330/docs/setup.html). One you have the software stack installed, you should be able to run the next cell, which imports some packages needed for the assignment."
   ]
  },
  {
   "cell_type": "markdown",
   "metadata": {},
   "source": [
    "Imports\n",
    "------"
   ]
  },
  {
   "cell_type": "code",
   "execution_count": 1,
   "metadata": {},
   "outputs": [],
   "source": [
    "import matplotlib.pyplot as plt\n",
    "import numpy as np\n",
    "import pandas as pd"
   ]
  },
  {
   "cell_type": "markdown",
   "metadata": {},
   "source": [
    "Points\n",
    "------\n",
    "\n",
    "Each question or sub-question will have a number of points allocated to it, which is indicated right below the question name. "
   ]
  },
  {
   "cell_type": "markdown",
   "metadata": {},
   "source": [
    "## Instructions\n",
    "rubric={points:6}\n",
    "\n",
    "Follow the [CPSC 330 homework instructions](https://ubc-cs.github.io/cpsc330/docs/homework_instructions.html), which include information on how to do your assignment and how to submit your assignment. "
   ]
  },
  {
   "cell_type": "markdown",
   "metadata": {},
   "source": [
    "<br><br>"
   ]
  },
  {
   "cell_type": "markdown",
   "metadata": {
    "toc-hr-collapsed": true
   },
   "source": [
    "## Exercise 1: Loading files with Pandas\n",
    "rubric={points:12}\n",
    "\n",
    "When working with tabular data, you will typically be creating Pandas dataframes by reading data from .csv files using `pd.read_csv()`. The documentation for this function is available [here](https://pandas.pydata.org/pandas-docs/stable/reference/api/pandas.read_csv.html)."
   ]
  },
  {
   "cell_type": "markdown",
   "metadata": {
    "nbgrader": {
     "grade": false,
     "grade_id": "cell-e9d5646932eee4f9",
     "locked": true,
     "schema_version": 3,
     "solution": false
    }
   },
   "source": [
    "In the \"data\" folder in this homework repository there are 6 different .csv files named `wine_#.csv/.txt`. Look at each of these files and use `pd.read_csv()` to load these data so that they resemble the following:\n",
    "\n",
    "| Bottle | Grape | Origin | Alcohol | pH | Colour | Aroma |\n",
    "| :---: | :---: | :---: | :---: | :---: | :---: | :---: |\n",
    "| 1 |  Chardonnay | Australia | 14.23 | 3.51 | White | Floral |\n",
    "| 2 |  Pinot Grigio | Italy | 13.20 | 3.30 | White | Fruity |\n",
    "| 3 |  Pinot Blanc | France | 13.16 | 3.16 | White | Citrus |\n",
    "| 4 |  Shiraz | Chile | 14.91 | 3.39 | Red | Berry |\n",
    "| 5 |  Malbec | Argentina | 13.83 | 3.28 | Red | Fruity |\n",
    "\n",
    "You are provided with tests that use `df.equals()` to check that all the dataframes are identical. If you're in a situation where the two dataframes look identical but `df.equals()` is returning `False`, it may be an issue of types - try checking `df.index`, `df.columns`, or `df.info()`."
   ]
  },
  {
   "cell_type": "code",
   "execution_count": 33,
   "metadata": {},
   "outputs": [],
   "source": [
    "df1 = pd.read_csv(\"./data/wine_1.csv\", delimiter=\",\")\n",
    "df2 = pd.read_csv(\"./data/wine_2.csv\", delimiter=\",\", header=1)\n",
    "df3 = pd.read_csv(\"./data/wine_3.csv\", delimiter=\",\", skipfooter=2, engine='python')\n",
    "df4 = pd.read_csv(\"./data/wine_4.txt\", delimiter=\"\t\")\n",
    "df5 = pd.read_csv(\"./data/wine_5.csv\", delimiter=\",\", usecols=[0,1,2,3,4,5,6])\n",
    "df6 = pd.read_csv(\"./data/wine_6.txt\", delimiter=\"\t\", header=1, skipfooter=2, usecols=[1,2,3,4,5,6,7])"
   ]
  },
  {
   "cell_type": "code",
   "execution_count": null,
   "metadata": {
    "nbgrader": {
     "grade": false,
     "grade_id": "cell-464ad2febe587f69",
     "locked": false,
     "schema_version": 3,
     "solution": true
    }
   },
   "outputs": [],
   "source": []
  },
  {
   "cell_type": "code",
   "execution_count": 34,
   "metadata": {},
   "outputs": [
    {
     "name": "stdout",
     "output_type": "stream",
     "text": [
      "All tests passed.\n"
     ]
    }
   ],
   "source": [
    "for i, df in enumerate([df2, df3, df4, df5, df6]):\n",
    "    assert df1.equals(df), f\"df1 not equal to df{i + 2}\"\n",
    "print(\"All tests passed.\")"
   ]
  },
  {
   "cell_type": "code",
   "execution_count": null,
   "metadata": {},
   "outputs": [],
   "source": []
  },
  {
   "cell_type": "markdown",
   "metadata": {},
   "source": [
    "<br><br>"
   ]
  },
  {
   "cell_type": "markdown",
   "metadata": {
    "toc-hr-collapsed": true
   },
   "source": [
    "## Exercise 2: The Titanic dataset\n",
    "\n",
    "The file *titanic.csv* contains data of 1309 passengers who were on the Titanic's unfortunate voyage. For each passenger, the following data are recorded:\n",
    "\n",
    "* survival - Survival (0 = No; 1 = Yes)\n",
    "* class - Passenger Class (1 = 1st; 2 = 2nd; 3 = 3rd)\n",
    "* name - Name\n",
    "* sex - Sex\n",
    "* age - Age\n",
    "* sibsp - Number of Siblings/Spouses Aboard\n",
    "* parch - Number of Parents/Children Aboard\n",
    "* ticket - Ticket Number\n",
    "* fare - Passenger Fare\n",
    "* cabin - Cabin\n",
    "* embarked - Port of Embarkation (C = Cherbourg; Q = Queenstown; S = Southampton)\n",
    "* boat - Lifeboat (if survived)\n",
    "* body - Body number (if did not survive and body was recovered)\n",
    "\n",
    "In this exercise you will perform a number of wrangling operations to manipulate and extract subsets of the data.\n",
    "\n",
    "Note: many popular datasets have sex as a feature where the possible values are male and female. This representation reflects how the data were collected and is not meant to imply that, for example, gender is binary."
   ]
  },
  {
   "cell_type": "markdown",
   "metadata": {
    "nbgrader": {
     "grade": false,
     "grade_id": "cell-8f49a0571a8d666f",
     "locked": true,
     "schema_version": 3,
     "solution": false
    }
   },
   "source": [
    "#### 2(a)\n",
    "rubric={points:1}\n",
    "\n",
    "Load the `titanic.csv` dataset into a pandas dataframe named `titanic_df`."
   ]
  },
  {
   "cell_type": "code",
   "execution_count": 6,
   "metadata": {
    "nbgrader": {
     "grade": false,
     "grade_id": "cell-b6e4d3bb99cced81",
     "locked": false,
     "schema_version": 3,
     "solution": true
    }
   },
   "outputs": [],
   "source": [
    "titanic_df = pd.read_csv(\"./data/titanic.csv\", delimiter=\",\")\n",
    "\n"
   ]
  },
  {
   "cell_type": "code",
   "execution_count": 7,
   "metadata": {
    "nbgrader": {
     "grade": true,
     "grade_id": "cell-0abb41f189217e1a",
     "locked": true,
     "points": 1,
     "schema_version": 3,
     "solution": false
    }
   },
   "outputs": [
    {
     "name": "stdout",
     "output_type": "stream",
     "text": [
      "Success\n"
     ]
    }
   ],
   "source": [
    "assert set(titanic_df.columns) == set(\n",
    "    [\n",
    "        \"pclass\",\n",
    "        \"survived\",\n",
    "        \"name\",\n",
    "        \"sex\",\n",
    "        \"age\",\n",
    "        \"sibsp\",\n",
    "        \"parch\",\n",
    "        \"ticket\",\n",
    "        \"fare\",\n",
    "        \"cabin\",\n",
    "        \"embarked\",\n",
    "        \"boat\",\n",
    "        \"body\",\n",
    "        \"home.dest\",\n",
    "    ]\n",
    "), \"All required columns are not present\"\n",
    "assert len(titanic_df.index) == 1309, \"Wrong number of rows in dataframe\"\n",
    "print(\"Success\")"
   ]
  },
  {
   "cell_type": "markdown",
   "metadata": {
    "nbgrader": {
     "grade": false,
     "grade_id": "cell-093e1ca409a216a2",
     "locked": true,
     "schema_version": 3,
     "solution": false
    }
   },
   "source": [
    "#### 2(b)\n",
    "rubric={points:2}\n",
    "\n",
    "The column names `sibsp` and `parch` are not very descriptive. Use `df.rename()` to rename these columns to `siblings_spouses` and `parents_children` respectively."
   ]
  },
  {
   "cell_type": "code",
   "execution_count": 8,
   "metadata": {
    "nbgrader": {
     "grade": false,
     "grade_id": "cell-99e694773668d8a1",
     "locked": false,
     "schema_version": 3,
     "solution": true
    }
   },
   "outputs": [],
   "source": [
    "titanic_df = titanic_df.rename(columns={\"sibsp\" : \"siblings_spouses\", \"parch\" : \"parents_children\"})"
   ]
  },
  {
   "cell_type": "code",
   "execution_count": 9,
   "metadata": {
    "nbgrader": {
     "grade": true,
     "grade_id": "cell-6c0798bceeeab962",
     "locked": true,
     "points": 1,
     "schema_version": 3,
     "solution": false
    }
   },
   "outputs": [
    {
     "name": "stdout",
     "output_type": "stream",
     "text": [
      "Success\n"
     ]
    }
   ],
   "source": [
    "assert set([\"siblings_spouses\", \"parents_children\"]).issubset(\n",
    "    titanic_df.columns\n",
    "), \"Column names were not changed properly\"\n",
    "print(\"Success\")"
   ]
  },
  {
   "cell_type": "markdown",
   "metadata": {
    "nbgrader": {
     "grade": false,
     "grade_id": "cell-35f94190fc8af3fb",
     "locked": true,
     "schema_version": 3,
     "solution": false
    }
   },
   "source": [
    "#### 2(c)\n",
    "rubric={points:2}\n",
    "\n",
    "We will practice indexing different subsets of the dataframe in the following questions.\n",
    "\n",
    "Select the column `age` using single bracket notation `[]`. What type of object is returned?"
   ]
  },
  {
   "cell_type": "code",
   "execution_count": 10,
   "metadata": {
    "nbgrader": {
     "grade": true,
     "grade_id": "cell-18b067281f9e13ac",
     "locked": false,
     "points": 0,
     "schema_version": 3,
     "solution": true
    }
   },
   "outputs": [
    {
     "data": {
      "text/plain": [
       "0       29.0000\n",
       "1        0.9167\n",
       "2        2.0000\n",
       "3       30.0000\n",
       "4       25.0000\n",
       "         ...   \n",
       "1304    14.5000\n",
       "1305        NaN\n",
       "1306    26.5000\n",
       "1307    27.0000\n",
       "1308    29.0000\n",
       "Name: age, Length: 1309, dtype: float64"
      ]
     },
     "execution_count": 10,
     "metadata": {},
     "output_type": "execute_result"
    }
   ],
   "source": [
    "titanic_df[\"age\"]"
   ]
  },
  {
   "cell_type": "markdown",
   "metadata": {
    "nbgrader": {
     "grade": false,
     "grade_id": "cell-5b123152df1d576a",
     "locked": true,
     "schema_version": 3,
     "solution": false
    }
   },
   "source": [
    "#### 2(d)\n",
    "rubric={points:2}\n",
    "\n",
    "Now select the `age` using double bracket notation `[[]]`. What type of object is returned?"
   ]
  },
  {
   "cell_type": "code",
   "execution_count": 11,
   "metadata": {
    "nbgrader": {
     "grade": true,
     "grade_id": "cell-0d32262f000b09f4",
     "locked": false,
     "points": 0,
     "schema_version": 3,
     "solution": true
    }
   },
   "outputs": [
    {
     "data": {
      "text/html": [
       "<div>\n",
       "<style scoped>\n",
       "    .dataframe tbody tr th:only-of-type {\n",
       "        vertical-align: middle;\n",
       "    }\n",
       "\n",
       "    .dataframe tbody tr th {\n",
       "        vertical-align: top;\n",
       "    }\n",
       "\n",
       "    .dataframe thead th {\n",
       "        text-align: right;\n",
       "    }\n",
       "</style>\n",
       "<table border=\"1\" class=\"dataframe\">\n",
       "  <thead>\n",
       "    <tr style=\"text-align: right;\">\n",
       "      <th></th>\n",
       "      <th>age</th>\n",
       "    </tr>\n",
       "  </thead>\n",
       "  <tbody>\n",
       "    <tr>\n",
       "      <th>0</th>\n",
       "      <td>29.0000</td>\n",
       "    </tr>\n",
       "    <tr>\n",
       "      <th>1</th>\n",
       "      <td>0.9167</td>\n",
       "    </tr>\n",
       "    <tr>\n",
       "      <th>2</th>\n",
       "      <td>2.0000</td>\n",
       "    </tr>\n",
       "    <tr>\n",
       "      <th>3</th>\n",
       "      <td>30.0000</td>\n",
       "    </tr>\n",
       "    <tr>\n",
       "      <th>4</th>\n",
       "      <td>25.0000</td>\n",
       "    </tr>\n",
       "    <tr>\n",
       "      <th>...</th>\n",
       "      <td>...</td>\n",
       "    </tr>\n",
       "    <tr>\n",
       "      <th>1304</th>\n",
       "      <td>14.5000</td>\n",
       "    </tr>\n",
       "    <tr>\n",
       "      <th>1305</th>\n",
       "      <td>NaN</td>\n",
       "    </tr>\n",
       "    <tr>\n",
       "      <th>1306</th>\n",
       "      <td>26.5000</td>\n",
       "    </tr>\n",
       "    <tr>\n",
       "      <th>1307</th>\n",
       "      <td>27.0000</td>\n",
       "    </tr>\n",
       "    <tr>\n",
       "      <th>1308</th>\n",
       "      <td>29.0000</td>\n",
       "    </tr>\n",
       "  </tbody>\n",
       "</table>\n",
       "<p>1309 rows × 1 columns</p>\n",
       "</div>"
      ],
      "text/plain": [
       "          age\n",
       "0     29.0000\n",
       "1      0.9167\n",
       "2      2.0000\n",
       "3     30.0000\n",
       "4     25.0000\n",
       "...       ...\n",
       "1304  14.5000\n",
       "1305      NaN\n",
       "1306  26.5000\n",
       "1307  27.0000\n",
       "1308  29.0000\n",
       "\n",
       "[1309 rows x 1 columns]"
      ]
     },
     "execution_count": 11,
     "metadata": {},
     "output_type": "execute_result"
    }
   ],
   "source": [
    "titanic_df[[\"age\"]]"
   ]
  },
  {
   "cell_type": "markdown",
   "metadata": {
    "nbgrader": {
     "grade": false,
     "grade_id": "cell-5b9513513d0b0e22",
     "locked": true,
     "schema_version": 3,
     "solution": false
    }
   },
   "source": [
    "#### 2(e)\n",
    "rubric={points:1}\n",
    "\n",
    "Select the columns `pclass`, `survived`, and `age` using a single line of code."
   ]
  },
  {
   "cell_type": "code",
   "execution_count": 12,
   "metadata": {
    "nbgrader": {
     "grade": true,
     "grade_id": "cell-d3fdbdd8c0af6b49",
     "locked": false,
     "points": 0,
     "schema_version": 3,
     "solution": true
    }
   },
   "outputs": [
    {
     "data": {
      "text/html": [
       "<div>\n",
       "<style scoped>\n",
       "    .dataframe tbody tr th:only-of-type {\n",
       "        vertical-align: middle;\n",
       "    }\n",
       "\n",
       "    .dataframe tbody tr th {\n",
       "        vertical-align: top;\n",
       "    }\n",
       "\n",
       "    .dataframe thead th {\n",
       "        text-align: right;\n",
       "    }\n",
       "</style>\n",
       "<table border=\"1\" class=\"dataframe\">\n",
       "  <thead>\n",
       "    <tr style=\"text-align: right;\">\n",
       "      <th></th>\n",
       "      <th>pclass</th>\n",
       "      <th>survived</th>\n",
       "      <th>age</th>\n",
       "    </tr>\n",
       "  </thead>\n",
       "  <tbody>\n",
       "    <tr>\n",
       "      <th>0</th>\n",
       "      <td>1</td>\n",
       "      <td>1</td>\n",
       "      <td>29.0000</td>\n",
       "    </tr>\n",
       "    <tr>\n",
       "      <th>1</th>\n",
       "      <td>1</td>\n",
       "      <td>1</td>\n",
       "      <td>0.9167</td>\n",
       "    </tr>\n",
       "    <tr>\n",
       "      <th>2</th>\n",
       "      <td>1</td>\n",
       "      <td>0</td>\n",
       "      <td>2.0000</td>\n",
       "    </tr>\n",
       "    <tr>\n",
       "      <th>3</th>\n",
       "      <td>1</td>\n",
       "      <td>0</td>\n",
       "      <td>30.0000</td>\n",
       "    </tr>\n",
       "    <tr>\n",
       "      <th>4</th>\n",
       "      <td>1</td>\n",
       "      <td>0</td>\n",
       "      <td>25.0000</td>\n",
       "    </tr>\n",
       "    <tr>\n",
       "      <th>...</th>\n",
       "      <td>...</td>\n",
       "      <td>...</td>\n",
       "      <td>...</td>\n",
       "    </tr>\n",
       "    <tr>\n",
       "      <th>1304</th>\n",
       "      <td>3</td>\n",
       "      <td>0</td>\n",
       "      <td>14.5000</td>\n",
       "    </tr>\n",
       "    <tr>\n",
       "      <th>1305</th>\n",
       "      <td>3</td>\n",
       "      <td>0</td>\n",
       "      <td>NaN</td>\n",
       "    </tr>\n",
       "    <tr>\n",
       "      <th>1306</th>\n",
       "      <td>3</td>\n",
       "      <td>0</td>\n",
       "      <td>26.5000</td>\n",
       "    </tr>\n",
       "    <tr>\n",
       "      <th>1307</th>\n",
       "      <td>3</td>\n",
       "      <td>0</td>\n",
       "      <td>27.0000</td>\n",
       "    </tr>\n",
       "    <tr>\n",
       "      <th>1308</th>\n",
       "      <td>3</td>\n",
       "      <td>0</td>\n",
       "      <td>29.0000</td>\n",
       "    </tr>\n",
       "  </tbody>\n",
       "</table>\n",
       "<p>1309 rows × 3 columns</p>\n",
       "</div>"
      ],
      "text/plain": [
       "      pclass  survived      age\n",
       "0          1         1  29.0000\n",
       "1          1         1   0.9167\n",
       "2          1         0   2.0000\n",
       "3          1         0  30.0000\n",
       "4          1         0  25.0000\n",
       "...      ...       ...      ...\n",
       "1304       3         0  14.5000\n",
       "1305       3         0      NaN\n",
       "1306       3         0  26.5000\n",
       "1307       3         0  27.0000\n",
       "1308       3         0  29.0000\n",
       "\n",
       "[1309 rows x 3 columns]"
      ]
     },
     "execution_count": 12,
     "metadata": {},
     "output_type": "execute_result"
    }
   ],
   "source": [
    "titanic_df[[\"pclass\", \"survived\", \"age\"]]"
   ]
  },
  {
   "cell_type": "markdown",
   "metadata": {
    "nbgrader": {
     "grade": false,
     "grade_id": "cell-a7b37913a746262d",
     "locked": true,
     "schema_version": 3,
     "solution": false
    }
   },
   "source": [
    "#### 2(f)\n",
    "rubric={points:2}\n",
    "\n",
    "Use the `iloc` method to obtain the first 5 rows of the columns `name`, `sex` and `age` using a single line of code."
   ]
  },
  {
   "cell_type": "code",
   "execution_count": 13,
   "metadata": {},
   "outputs": [
    {
     "data": {
      "text/html": [
       "<div>\n",
       "<style scoped>\n",
       "    .dataframe tbody tr th:only-of-type {\n",
       "        vertical-align: middle;\n",
       "    }\n",
       "\n",
       "    .dataframe tbody tr th {\n",
       "        vertical-align: top;\n",
       "    }\n",
       "\n",
       "    .dataframe thead th {\n",
       "        text-align: right;\n",
       "    }\n",
       "</style>\n",
       "<table border=\"1\" class=\"dataframe\">\n",
       "  <thead>\n",
       "    <tr style=\"text-align: right;\">\n",
       "      <th></th>\n",
       "      <th>name</th>\n",
       "      <th>sex</th>\n",
       "      <th>age</th>\n",
       "    </tr>\n",
       "  </thead>\n",
       "  <tbody>\n",
       "    <tr>\n",
       "      <th>0</th>\n",
       "      <td>Allen, Miss. Elisabeth Walton</td>\n",
       "      <td>female</td>\n",
       "      <td>29.0000</td>\n",
       "    </tr>\n",
       "    <tr>\n",
       "      <th>1</th>\n",
       "      <td>Allison, Master. Hudson Trevor</td>\n",
       "      <td>male</td>\n",
       "      <td>0.9167</td>\n",
       "    </tr>\n",
       "    <tr>\n",
       "      <th>2</th>\n",
       "      <td>Allison, Miss. Helen Loraine</td>\n",
       "      <td>female</td>\n",
       "      <td>2.0000</td>\n",
       "    </tr>\n",
       "    <tr>\n",
       "      <th>3</th>\n",
       "      <td>Allison, Mr. Hudson Joshua Creighton</td>\n",
       "      <td>male</td>\n",
       "      <td>30.0000</td>\n",
       "    </tr>\n",
       "    <tr>\n",
       "      <th>4</th>\n",
       "      <td>Allison, Mrs. Hudson J C (Bessie Waldo Daniels)</td>\n",
       "      <td>female</td>\n",
       "      <td>25.0000</td>\n",
       "    </tr>\n",
       "  </tbody>\n",
       "</table>\n",
       "</div>"
      ],
      "text/plain": [
       "                                              name     sex      age\n",
       "0                    Allen, Miss. Elisabeth Walton  female  29.0000\n",
       "1                   Allison, Master. Hudson Trevor    male   0.9167\n",
       "2                     Allison, Miss. Helen Loraine  female   2.0000\n",
       "3             Allison, Mr. Hudson Joshua Creighton    male  30.0000\n",
       "4  Allison, Mrs. Hudson J C (Bessie Waldo Daniels)  female  25.0000"
      ]
     },
     "execution_count": 13,
     "metadata": {},
     "output_type": "execute_result"
    }
   ],
   "source": [
    "titanic_df.iloc[:5, 2:5]"
   ]
  },
  {
   "cell_type": "code",
   "execution_count": null,
   "metadata": {
    "nbgrader": {
     "grade": true,
     "grade_id": "cell-a59f3080f818f34a",
     "locked": false,
     "points": 0,
     "schema_version": 3,
     "solution": true
    }
   },
   "outputs": [],
   "source": []
  },
  {
   "cell_type": "markdown",
   "metadata": {
    "nbgrader": {
     "grade": false,
     "grade_id": "cell-37f2418e03a50b60",
     "locked": true,
     "schema_version": 3,
     "solution": false
    }
   },
   "source": [
    "#### 2(g)\n",
    "rubric={points:2}\n",
    "\n",
    "Now use the `loc` method to obtain the first 5 rows of the columns `name`, `sex` and `age` using a single line of code."
   ]
  },
  {
   "cell_type": "code",
   "execution_count": 14,
   "metadata": {},
   "outputs": [
    {
     "data": {
      "text/html": [
       "<div>\n",
       "<style scoped>\n",
       "    .dataframe tbody tr th:only-of-type {\n",
       "        vertical-align: middle;\n",
       "    }\n",
       "\n",
       "    .dataframe tbody tr th {\n",
       "        vertical-align: top;\n",
       "    }\n",
       "\n",
       "    .dataframe thead th {\n",
       "        text-align: right;\n",
       "    }\n",
       "</style>\n",
       "<table border=\"1\" class=\"dataframe\">\n",
       "  <thead>\n",
       "    <tr style=\"text-align: right;\">\n",
       "      <th></th>\n",
       "      <th>name</th>\n",
       "      <th>sex</th>\n",
       "      <th>age</th>\n",
       "    </tr>\n",
       "  </thead>\n",
       "  <tbody>\n",
       "    <tr>\n",
       "      <th>0</th>\n",
       "      <td>Allen, Miss. Elisabeth Walton</td>\n",
       "      <td>female</td>\n",
       "      <td>29.0000</td>\n",
       "    </tr>\n",
       "    <tr>\n",
       "      <th>1</th>\n",
       "      <td>Allison, Master. Hudson Trevor</td>\n",
       "      <td>male</td>\n",
       "      <td>0.9167</td>\n",
       "    </tr>\n",
       "    <tr>\n",
       "      <th>2</th>\n",
       "      <td>Allison, Miss. Helen Loraine</td>\n",
       "      <td>female</td>\n",
       "      <td>2.0000</td>\n",
       "    </tr>\n",
       "    <tr>\n",
       "      <th>3</th>\n",
       "      <td>Allison, Mr. Hudson Joshua Creighton</td>\n",
       "      <td>male</td>\n",
       "      <td>30.0000</td>\n",
       "    </tr>\n",
       "    <tr>\n",
       "      <th>4</th>\n",
       "      <td>Allison, Mrs. Hudson J C (Bessie Waldo Daniels)</td>\n",
       "      <td>female</td>\n",
       "      <td>25.0000</td>\n",
       "    </tr>\n",
       "  </tbody>\n",
       "</table>\n",
       "</div>"
      ],
      "text/plain": [
       "                                              name     sex      age\n",
       "0                    Allen, Miss. Elisabeth Walton  female  29.0000\n",
       "1                   Allison, Master. Hudson Trevor    male   0.9167\n",
       "2                     Allison, Miss. Helen Loraine  female   2.0000\n",
       "3             Allison, Mr. Hudson Joshua Creighton    male  30.0000\n",
       "4  Allison, Mrs. Hudson J C (Bessie Waldo Daniels)  female  25.0000"
      ]
     },
     "execution_count": 14,
     "metadata": {},
     "output_type": "execute_result"
    }
   ],
   "source": [
    "titanic_df.loc[[0, 1, 2, 3, 4], ['name', 'sex', 'age']]"
   ]
  },
  {
   "cell_type": "code",
   "execution_count": null,
   "metadata": {
    "nbgrader": {
     "grade": true,
     "grade_id": "cell-01f92751cc57fded",
     "locked": false,
     "points": 0,
     "schema_version": 3,
     "solution": true
    }
   },
   "outputs": [],
   "source": []
  },
  {
   "cell_type": "markdown",
   "metadata": {
    "nbgrader": {
     "grade": false,
     "grade_id": "cell-07036a85b1202239",
     "locked": true,
     "schema_version": 3,
     "solution": false
    }
   },
   "source": [
    "#### 2(h)\n",
    "rubric={points:2}\n",
    "\n",
    "How many passengers survived (`survived = 1`) the disaster? Hint: try using `df.query()` or `[]` notation to subset the dataframe and then `df.shape` to check its size."
   ]
  },
  {
   "cell_type": "code",
   "execution_count": 15,
   "metadata": {},
   "outputs": [
    {
     "data": {
      "text/plain": [
       "500"
      ]
     },
     "execution_count": 15,
     "metadata": {},
     "output_type": "execute_result"
    }
   ],
   "source": [
    "titanic_df[[\"survived\"]].loc[titanic_df['survived'] == 1].shape[0]"
   ]
  },
  {
   "cell_type": "code",
   "execution_count": null,
   "metadata": {
    "nbgrader": {
     "grade": true,
     "grade_id": "cell-5677d8dc540bc7ec",
     "locked": false,
     "points": 0,
     "schema_version": 3,
     "solution": true,
     "task": false
    }
   },
   "outputs": [],
   "source": []
  },
  {
   "cell_type": "markdown",
   "metadata": {
    "nbgrader": {
     "grade": false,
     "grade_id": "cell-560ca2c33cf74784",
     "locked": true,
     "schema_version": 3,
     "solution": false
    }
   },
   "source": [
    "#### 2(i)\n",
    "rubric={points:1}\n",
    "\n",
    "How many passengers that survived the disaster (`survived = 1`) were over 60 years of age?"
   ]
  },
  {
   "cell_type": "code",
   "execution_count": 16,
   "metadata": {
    "nbgrader": {
     "grade": true,
     "grade_id": "cell-123d66686c410308",
     "locked": false,
     "points": 0,
     "schema_version": 3,
     "solution": true,
     "task": false
    }
   },
   "outputs": [
    {
     "data": {
      "text/plain": [
       "8"
      ]
     },
     "execution_count": 16,
     "metadata": {},
     "output_type": "execute_result"
    }
   ],
   "source": [
    "titanic_df[[\"survived\"]].loc[(titanic_df['survived'] == 1) & (titanic_df['age'] > 60)].shape[0]"
   ]
  },
  {
   "cell_type": "markdown",
   "metadata": {
    "nbgrader": {
     "grade": false,
     "grade_id": "cell-64aa731d50112f88",
     "locked": true,
     "schema_version": 3,
     "solution": false
    }
   },
   "source": [
    "#### 2(j)\n",
    "rubric={points:2}\n",
    "\n",
    "What was the lowest and highest fare paid to board the titanic? Store your answers as floats in the variables `lowest` and `highest`."
   ]
  },
  {
   "cell_type": "code",
   "execution_count": 38,
   "metadata": {
    "nbgrader": {
     "grade": false,
     "grade_id": "cell-54dc8e011e41a6b5",
     "locked": false,
     "schema_version": 3,
     "solution": true
    }
   },
   "outputs": [
    {
     "data": {
      "text/plain": [
       "(fare    0.0\n",
       " dtype: float64,\n",
       " fare    512.3292\n",
       " dtype: float64)"
      ]
     },
     "execution_count": 38,
     "metadata": {},
     "output_type": "execute_result"
    }
   ],
   "source": [
    "lowest = titanic_df[[\"fare\"]].min()\n",
    "highest = titanic_df[[\"fare\"]].max()\n",
    "lowest, highest"
   ]
  },
  {
   "cell_type": "markdown",
   "metadata": {
    "nbgrader": {
     "grade": false,
     "grade_id": "cell-2f06f5b42b270b44",
     "locked": true,
     "schema_version": 3,
     "solution": false
    }
   },
   "source": [
    "#### 2(k)\n",
    "rubric={points:1}\n",
    "\n",
    "Sort the dataframe by fare paid (most to least)."
   ]
  },
  {
   "cell_type": "code",
   "execution_count": 18,
   "metadata": {},
   "outputs": [
    {
     "data": {
      "text/html": [
       "<div>\n",
       "<style scoped>\n",
       "    .dataframe tbody tr th:only-of-type {\n",
       "        vertical-align: middle;\n",
       "    }\n",
       "\n",
       "    .dataframe tbody tr th {\n",
       "        vertical-align: top;\n",
       "    }\n",
       "\n",
       "    .dataframe thead th {\n",
       "        text-align: right;\n",
       "    }\n",
       "</style>\n",
       "<table border=\"1\" class=\"dataframe\">\n",
       "  <thead>\n",
       "    <tr style=\"text-align: right;\">\n",
       "      <th></th>\n",
       "      <th>pclass</th>\n",
       "      <th>survived</th>\n",
       "      <th>name</th>\n",
       "      <th>sex</th>\n",
       "      <th>age</th>\n",
       "      <th>siblings_spouses</th>\n",
       "      <th>parents_children</th>\n",
       "      <th>ticket</th>\n",
       "      <th>fare</th>\n",
       "      <th>cabin</th>\n",
       "      <th>embarked</th>\n",
       "      <th>boat</th>\n",
       "      <th>body</th>\n",
       "      <th>home.dest</th>\n",
       "    </tr>\n",
       "  </thead>\n",
       "  <tbody>\n",
       "    <tr>\n",
       "      <th>183</th>\n",
       "      <td>1</td>\n",
       "      <td>1</td>\n",
       "      <td>Lesurer, Mr. Gustave J</td>\n",
       "      <td>male</td>\n",
       "      <td>35.0</td>\n",
       "      <td>0</td>\n",
       "      <td>0</td>\n",
       "      <td>PC 17755</td>\n",
       "      <td>512.3292</td>\n",
       "      <td>B101</td>\n",
       "      <td>C</td>\n",
       "      <td>3</td>\n",
       "      <td>NaN</td>\n",
       "      <td>NaN</td>\n",
       "    </tr>\n",
       "    <tr>\n",
       "      <th>302</th>\n",
       "      <td>1</td>\n",
       "      <td>1</td>\n",
       "      <td>Ward, Miss. Anna</td>\n",
       "      <td>female</td>\n",
       "      <td>35.0</td>\n",
       "      <td>0</td>\n",
       "      <td>0</td>\n",
       "      <td>PC 17755</td>\n",
       "      <td>512.3292</td>\n",
       "      <td>NaN</td>\n",
       "      <td>C</td>\n",
       "      <td>3</td>\n",
       "      <td>NaN</td>\n",
       "      <td>NaN</td>\n",
       "    </tr>\n",
       "    <tr>\n",
       "      <th>49</th>\n",
       "      <td>1</td>\n",
       "      <td>1</td>\n",
       "      <td>Cardeza, Mr. Thomas Drake Martinez</td>\n",
       "      <td>male</td>\n",
       "      <td>36.0</td>\n",
       "      <td>0</td>\n",
       "      <td>1</td>\n",
       "      <td>PC 17755</td>\n",
       "      <td>512.3292</td>\n",
       "      <td>B51 B53 B55</td>\n",
       "      <td>C</td>\n",
       "      <td>3</td>\n",
       "      <td>NaN</td>\n",
       "      <td>Austria-Hungary / Germantown, Philadelphia, PA</td>\n",
       "    </tr>\n",
       "    <tr>\n",
       "      <th>50</th>\n",
       "      <td>1</td>\n",
       "      <td>1</td>\n",
       "      <td>Cardeza, Mrs. James Warburton Martinez (Charlo...</td>\n",
       "      <td>female</td>\n",
       "      <td>58.0</td>\n",
       "      <td>0</td>\n",
       "      <td>1</td>\n",
       "      <td>PC 17755</td>\n",
       "      <td>512.3292</td>\n",
       "      <td>B51 B53 B55</td>\n",
       "      <td>C</td>\n",
       "      <td>3</td>\n",
       "      <td>NaN</td>\n",
       "      <td>Germantown, Philadelphia, PA</td>\n",
       "    </tr>\n",
       "    <tr>\n",
       "      <th>113</th>\n",
       "      <td>1</td>\n",
       "      <td>1</td>\n",
       "      <td>Fortune, Miss. Mabel Helen</td>\n",
       "      <td>female</td>\n",
       "      <td>23.0</td>\n",
       "      <td>3</td>\n",
       "      <td>2</td>\n",
       "      <td>19950</td>\n",
       "      <td>263.0000</td>\n",
       "      <td>C23 C25 C27</td>\n",
       "      <td>S</td>\n",
       "      <td>10</td>\n",
       "      <td>NaN</td>\n",
       "      <td>Winnipeg, MB</td>\n",
       "    </tr>\n",
       "    <tr>\n",
       "      <th>...</th>\n",
       "      <td>...</td>\n",
       "      <td>...</td>\n",
       "      <td>...</td>\n",
       "      <td>...</td>\n",
       "      <td>...</td>\n",
       "      <td>...</td>\n",
       "      <td>...</td>\n",
       "      <td>...</td>\n",
       "      <td>...</td>\n",
       "      <td>...</td>\n",
       "      <td>...</td>\n",
       "      <td>...</td>\n",
       "      <td>...</td>\n",
       "      <td>...</td>\n",
       "    </tr>\n",
       "    <tr>\n",
       "      <th>363</th>\n",
       "      <td>2</td>\n",
       "      <td>0</td>\n",
       "      <td>Campbell, Mr. William</td>\n",
       "      <td>male</td>\n",
       "      <td>NaN</td>\n",
       "      <td>0</td>\n",
       "      <td>0</td>\n",
       "      <td>239853</td>\n",
       "      <td>0.0000</td>\n",
       "      <td>NaN</td>\n",
       "      <td>S</td>\n",
       "      <td>NaN</td>\n",
       "      <td>NaN</td>\n",
       "      <td>Belfast</td>\n",
       "    </tr>\n",
       "    <tr>\n",
       "      <th>384</th>\n",
       "      <td>2</td>\n",
       "      <td>0</td>\n",
       "      <td>Cunningham, Mr. Alfred Fleming</td>\n",
       "      <td>male</td>\n",
       "      <td>NaN</td>\n",
       "      <td>0</td>\n",
       "      <td>0</td>\n",
       "      <td>239853</td>\n",
       "      <td>0.0000</td>\n",
       "      <td>NaN</td>\n",
       "      <td>S</td>\n",
       "      <td>NaN</td>\n",
       "      <td>NaN</td>\n",
       "      <td>Belfast</td>\n",
       "    </tr>\n",
       "    <tr>\n",
       "      <th>581</th>\n",
       "      <td>2</td>\n",
       "      <td>0</td>\n",
       "      <td>Watson, Mr. Ennis Hastings</td>\n",
       "      <td>male</td>\n",
       "      <td>NaN</td>\n",
       "      <td>0</td>\n",
       "      <td>0</td>\n",
       "      <td>239856</td>\n",
       "      <td>0.0000</td>\n",
       "      <td>NaN</td>\n",
       "      <td>S</td>\n",
       "      <td>NaN</td>\n",
       "      <td>NaN</td>\n",
       "      <td>Belfast</td>\n",
       "    </tr>\n",
       "    <tr>\n",
       "      <th>410</th>\n",
       "      <td>2</td>\n",
       "      <td>0</td>\n",
       "      <td>Frost, Mr. Anthony Wood \"Archie\"</td>\n",
       "      <td>male</td>\n",
       "      <td>NaN</td>\n",
       "      <td>0</td>\n",
       "      <td>0</td>\n",
       "      <td>239854</td>\n",
       "      <td>0.0000</td>\n",
       "      <td>NaN</td>\n",
       "      <td>S</td>\n",
       "      <td>NaN</td>\n",
       "      <td>NaN</td>\n",
       "      <td>Belfast</td>\n",
       "    </tr>\n",
       "    <tr>\n",
       "      <th>1225</th>\n",
       "      <td>3</td>\n",
       "      <td>0</td>\n",
       "      <td>Storey, Mr. Thomas</td>\n",
       "      <td>male</td>\n",
       "      <td>60.5</td>\n",
       "      <td>0</td>\n",
       "      <td>0</td>\n",
       "      <td>3701</td>\n",
       "      <td>NaN</td>\n",
       "      <td>NaN</td>\n",
       "      <td>S</td>\n",
       "      <td>NaN</td>\n",
       "      <td>261.0</td>\n",
       "      <td>NaN</td>\n",
       "    </tr>\n",
       "  </tbody>\n",
       "</table>\n",
       "<p>1309 rows × 14 columns</p>\n",
       "</div>"
      ],
      "text/plain": [
       "      pclass  survived                                               name  \\\n",
       "183        1         1                             Lesurer, Mr. Gustave J   \n",
       "302        1         1                                   Ward, Miss. Anna   \n",
       "49         1         1                 Cardeza, Mr. Thomas Drake Martinez   \n",
       "50         1         1  Cardeza, Mrs. James Warburton Martinez (Charlo...   \n",
       "113        1         1                         Fortune, Miss. Mabel Helen   \n",
       "...      ...       ...                                                ...   \n",
       "363        2         0                              Campbell, Mr. William   \n",
       "384        2         0                     Cunningham, Mr. Alfred Fleming   \n",
       "581        2         0                         Watson, Mr. Ennis Hastings   \n",
       "410        2         0                   Frost, Mr. Anthony Wood \"Archie\"   \n",
       "1225       3         0                                 Storey, Mr. Thomas   \n",
       "\n",
       "         sex   age  siblings_spouses  parents_children    ticket      fare  \\\n",
       "183     male  35.0                 0                 0  PC 17755  512.3292   \n",
       "302   female  35.0                 0                 0  PC 17755  512.3292   \n",
       "49      male  36.0                 0                 1  PC 17755  512.3292   \n",
       "50    female  58.0                 0                 1  PC 17755  512.3292   \n",
       "113   female  23.0                 3                 2     19950  263.0000   \n",
       "...      ...   ...               ...               ...       ...       ...   \n",
       "363     male   NaN                 0                 0    239853    0.0000   \n",
       "384     male   NaN                 0                 0    239853    0.0000   \n",
       "581     male   NaN                 0                 0    239856    0.0000   \n",
       "410     male   NaN                 0                 0    239854    0.0000   \n",
       "1225    male  60.5                 0                 0      3701       NaN   \n",
       "\n",
       "            cabin embarked boat   body  \\\n",
       "183          B101        C    3    NaN   \n",
       "302           NaN        C    3    NaN   \n",
       "49    B51 B53 B55        C    3    NaN   \n",
       "50    B51 B53 B55        C    3    NaN   \n",
       "113   C23 C25 C27        S   10    NaN   \n",
       "...           ...      ...  ...    ...   \n",
       "363           NaN        S  NaN    NaN   \n",
       "384           NaN        S  NaN    NaN   \n",
       "581           NaN        S  NaN    NaN   \n",
       "410           NaN        S  NaN    NaN   \n",
       "1225          NaN        S  NaN  261.0   \n",
       "\n",
       "                                           home.dest  \n",
       "183                                              NaN  \n",
       "302                                              NaN  \n",
       "49    Austria-Hungary / Germantown, Philadelphia, PA  \n",
       "50                      Germantown, Philadelphia, PA  \n",
       "113                                     Winnipeg, MB  \n",
       "...                                              ...  \n",
       "363                                          Belfast  \n",
       "384                                          Belfast  \n",
       "581                                          Belfast  \n",
       "410                                          Belfast  \n",
       "1225                                             NaN  \n",
       "\n",
       "[1309 rows x 14 columns]"
      ]
     },
     "execution_count": 18,
     "metadata": {},
     "output_type": "execute_result"
    }
   ],
   "source": [
    "titanic_df.sort_values(by=['fare'], ascending=False)"
   ]
  },
  {
   "cell_type": "markdown",
   "metadata": {},
   "source": [
    "#### 2(l)\n",
    "rubric={points:1}\n",
    "\n",
    "Save the sorted dataframe to a .csv file called 'titanic_fares.csv' using `to_csv()`."
   ]
  },
  {
   "cell_type": "code",
   "execution_count": 19,
   "metadata": {
    "nbgrader": {
     "grade": true,
     "grade_id": "cell-4be555e930c36650",
     "locked": false,
     "points": 0,
     "schema_version": 3,
     "solution": true
    }
   },
   "outputs": [
    {
     "data": {
      "text/plain": [
       "',pclass,survived,name,sex,age,siblings_spouses,parents_children,ticket,fare,cabin,embarked,boat,body,home.dest\\r\\n183,1,1,\"Lesurer, Mr. Gustave J\",male,35.0,0,0,PC 17755,512.3292,B101,C,3,,\\r\\n302,1,1,\"Ward, Miss. Anna\",female,35.0,0,0,PC 17755,512.3292,,C,3,,\\r\\n49,1,1,\"Cardeza, Mr. Thomas Drake Martinez\",male,36.0,0,1,PC 17755,512.3292,B51 B53 B55,C,3,,\"Austria-Hungary / Germantown, Philadelphia, PA\"\\r\\n50,1,1,\"Cardeza, Mrs. James Warburton Martinez (Charlotte Wardle Drake)\",female,58.0,0,1,PC 17755,512.3292,B51 B53 B55,C,3,,\"Germantown, Philadelphia, PA\"\\r\\n113,1,1,\"Fortune, Miss. Mabel Helen\",female,23.0,3,2,19950,263.0,C23 C25 C27,S,10,,\"Winnipeg, MB\"\\r\\n114,1,0,\"Fortune, Mr. Charles Alexander\",male,19.0,3,2,19950,263.0,C23 C25 C27,S,,,\"Winnipeg, MB\"\\r\\n115,1,0,\"Fortune, Mr. Mark\",male,64.0,1,4,19950,263.0,C23 C25 C27,S,,,\"Winnipeg, MB\"\\r\\n116,1,1,\"Fortune, Mrs. Mark (Mary McDougald)\",female,60.0,1,4,19950,263.0,C23 C25 C27,S,10,,\"Winnipeg, MB\"\\r\\n111,1,1,\"Fortune, Miss. Alice Elizabeth\",female,24.0,3,2,19950,263.0,C23 C25 C27,S,10,,\"Winnipeg, MB\"\\r\\n112,1,1,\"Fortune, Miss. Ethel Flora\",female,28.0,3,2,19950,263.0,C23 C25 C27,S,10,,\"Winnipeg, MB\"\\r\\n66,1,1,\"Chaudanson, Miss. Victorine\",female,36.0,0,0,PC 17608,262.375,B61,C,4,,\\r\\n253,1,1,\"Ryerson, Mrs. Arthur Larned (Emily Maria Borie)\",female,48.0,1,3,PC 17608,262.375,B57 B59 B63 B66,C,4,,\"Haverford, PA / Cooperstown, NY\"\\r\\n252,1,0,\"Ryerson, Mr. Arthur Larned\",male,61.0,1,3,PC 17608,262.375,B57 B59 B63 B66,C,,,\"Haverford, PA / Cooperstown, NY\"\\r\\n251,1,1,\"Ryerson, Miss. Susan Parker \"\"Suzette\"\"\",female,21.0,2,2,PC 17608,262.375,B57 B59 B63 B66,C,4,,\"Haverford, PA / Cooperstown, NY\"\\r\\n250,1,1,\"Ryerson, Miss. Emily Borie\",female,18.0,2,2,PC 17608,262.375,B57 B59 B63 B66,C,4,,\"Haverford, PA / Cooperstown, NY\"\\r\\n249,1,1,\"Ryerson, Master. John Borie\",male,13.0,2,2,PC 17608,262.375,B57 B59 B63 B66,C,4,,\"Haverford, PA / Cooperstown, NY\"\\r\\n35,1,1,\"Bowen, Miss. Grace Scott\",female,45.0,0,0,PC 17608,262.375,,C,4,,\"Cooperstown, NY\"\\r\\n97,1,1,\"Douglas, Mrs. Frederick Charles (Mary Helene Baxter)\",female,27.0,1,1,PC 17558,247.5208,B58 B60,C,6,,\"Montreal, PQ\"\\r\\n16,1,0,\"Baxter, Mr. Quigg Edmond\",male,24.0,0,1,PC 17558,247.5208,B58 B60,C,,,\"Montreal, PQ\"\\r\\n17,1,1,\"Baxter, Mrs. James (Helene DeLaudeniere Chaput)\",female,50.0,0,1,PC 17558,247.5208,B58 B60,C,6,,\"Montreal, PQ\"\\r\\n103,1,1,\"Endres, Miss. Caroline Louise\",female,38.0,0,0,PC 17757,227.525,C45,C,4,,\"New York, NY\"\\r\\n11,1,1,\"Astor, Mrs. John Jacob (Madeleine Talmadge Force)\",female,18.0,1,0,PC 17757,227.525,C62 C64,C,4,,\"New York, NY\"\\r\\n23,1,1,\"Bidois, Miss. Rosalie\",female,42.0,0,0,PC 17757,227.525,,C,4,,\\r\\n10,1,0,\"Astor, Col. John Jacob\",male,47.0,1,0,PC 17757,227.525,C62 C64,C,,124.0,\"New York, NY\"\\r\\n237,1,0,\"Robbins, Mr. Victor\",male,,0,0,PC 17757,227.525,,C,,,\\r\\n106,1,0,\"Farthing, Mr. John\",male,,0,0,PC 17483,221.7792,C95,S,,,\\r\\n24,1,1,\"Bird, Miss. Ellen\",female,29.0,0,0,PC 17483,221.7792,C97,S,8,,\\r\\n285,1,0,\"Straus, Mr. Isidor\",male,67.0,1,0,PC 17483,221.7792,C55 C57,S,,96.0,\"New York, NY\"\\r\\n286,1,0,\"Straus, Mrs. Isidor (Rosalie Ida Blun)\",female,63.0,1,0,PC 17483,221.7792,C55 C57,S,,,\"New York, NY\"\\r\\n312,1,0,\"Widener, Mr. George Dunton\",male,50.0,1,1,113503,211.5,C80,C,,,\"Elkins Park, PA\"\\r\\n129,1,1,\"Geiger, Miss. Amalie\",female,35.0,0,0,113503,211.5,C130,C,4,,\\r\\n173,1,0,\"Keeping, Mr. Edwin\",male,32.5,0,0,113503,211.5,C132,C,,45.0,\\r\\n313,1,0,\"Widener, Mr. Harry Elkins\",male,27.0,0,2,113503,211.5,C82,C,,,\"Elkins Park, PA\"\\r\\n314,1,1,\"Widener, Mrs. George Dunton (Eleanor Elkins)\",female,50.0,1,1,113503,211.5,C80,C,4,,\"Elkins Park, PA\"\\r\\n193,1,1,\"Madill, Miss. Georgette Alexandra\",female,15.0,0,1,24160,211.3375,B5,S,2,,\"St Louis, MO\"\\r\\n238,1,1,\"Robert, Mrs. Edward Scott (Elisabeth Walton McMillan)\",female,43.0,0,1,24160,211.3375,B3,S,2,,\"St Louis, MO\"\\r\\n180,1,1,\"Kreuchen, Miss. Emilie\",female,39.0,0,0,24160,211.3375,,S,2,,\\r\\n0,1,1,\"Allen, Miss. Elisabeth Walton\",female,29.0,0,0,24160,211.3375,B5,S,2,,\"St Louis, MO\"\\r\\n310,1,0,\"Wick, Mr. George Dennick\",male,57.0,1,1,36928,164.8667,,S,,,\"Youngstown, OH\"\\r\\n309,1,1,\"Wick, Miss. Mary Natalie\",female,31.0,0,2,36928,164.8667,C7,S,8,,\"Youngstown, OH\"\\r\\n311,1,1,\"Wick, Mrs. George Dennick (Mary Hitchcock)\",female,45.0,1,1,36928,164.8667,,S,8,,\"Youngstown, OH\"\\r\\n32,1,1,\"Bonnell, Miss. Caroline\",female,30.0,0,0,36928,164.8667,C7,S,8,,\"Youngstown, OH\"\\r\\n138,1,0,\"Graham, Mr. George Edward\",male,38.0,0,1,PC 17582,153.4625,C91,S,,147.0,\"Winnipeg, MB\"\\r\\n139,1,1,\"Graham, Mrs. William Thompson (Edith Junkins)\",female,58.0,0,1,PC 17582,153.4625,C125,S,3,,\"Greenwich, CT\"\\r\\n260,1,1,\"Shutes, Miss. Elizabeth W\",female,40.0,0,0,PC 17582,153.4625,C125,S,3,,\"New York, NY / Greenwich CT\"\\r\\n88,1,1,\"Daniels, Miss. Sarah\",female,33.0,0,0,113781,151.55,,S,8,,\\r\\n1,1,1,\"Allison, Master. Hudson Trevor\",male,0.9167,1,2,113781,151.55,C22 C26,S,11,,\"Montreal, PQ / Chesterville, ON\"\\r\\n3,1,0,\"Allison, Mr. Hudson Joshua Creighton\",male,30.0,1,2,113781,151.55,C22 C26,S,,135.0,\"Montreal, PQ / Chesterville, ON\"\\r\\n73,1,1,\"Cleaver, Miss. Alice\",female,22.0,0,0,113781,151.55,,S,11,,\\r\\n4,1,0,\"Allison, Mrs. Hudson J C (Bessie Waldo Daniels)\",female,25.0,1,2,113781,151.55,C22 C26,S,,,\"Montreal, PQ / Chesterville, ON\"\\r\\n2,1,0,\"Allison, Miss. Helen Loraine\",female,2.0,1,2,113781,151.55,C22 C26,S,,,\"Montreal, PQ / Chesterville, ON\"\\r\\n192,1,1,\"Lurette, Miss. Elise\",female,58.0,0,0,PC 17569,146.5208,B80,C,,,\\r\\n276,1,0,\"Spencer, Mr. William Augustus\",male,57.0,1,0,PC 17569,146.5208,B78,C,,,\"Paris, France\"\\r\\n277,1,1,\"Spencer, Mrs. William Augustus (Marie Eugenie)\",female,,1,0,PC 17569,146.5208,B78,C,6,,\"Paris, France\"\\r\\n71,1,0,\"Clark, Mr. Walter Miller\",male,27.0,1,0,13508,136.7792,C89,C,,,\"Los Angeles, CA\"\\r\\n72,1,1,\"Clark, Mrs. Walter Miller (Virginia McDowell)\",female,26.0,1,0,13508,136.7792,C89,C,4,,\"Los Angeles, CA\"\\r\\n308,1,1,\"White, Mrs. John Stuart (Ella Holmes)\",female,55.0,0,0,PC 17760,135.6333,C32,C,8,,\"New York, NY / Briarcliff Manor NY\"\\r\\n322,1,1,\"Young, Miss. Marie Grice\",female,36.0,0,0,PC 17760,135.6333,C32,C,8,,\"New York, NY / Washington, DC\"\\r\\n236,1,0,\"Ringhini, Mr. Sante\",male,22.0,0,0,PC 17760,135.6333,,C,,232.0,\\r\\n28,1,1,\"Bissette, Miss. Amelia\",female,35.0,0,0,PC 17760,135.6333,C99,S,8,,\\r\\n319,1,1,\"Wilson, Miss. Helen Alice\",female,31.0,0,0,16966,134.5,E39 E41,C,3,,\\r\\n275,1,1,\"Spedden, Mrs. Frederic Oakley (Margaretta Corning Stone)\",female,40.0,1,1,16966,134.5,E34,C,3,,\"Tuxedo Park, NY\"\\r\\n44,1,1,\"Burns, Miss. Elizabeth Margaret\",female,41.0,0,0,16966,134.5,E40,C,3,,\\r\\n274,1,1,\"Spedden, Mr. Frederic Oakley\",male,45.0,1,1,16966,134.5,E34,C,3,,\"Tuxedo Park, NY\"\\r\\n273,1,1,\"Spedden, Master. Robert Douglas\",male,6.0,0,2,16966,134.5,E34,C,3,,\"Tuxedo Park, NY\"\\r\\n119,1,1,\"Frauenthal, Dr. Henry William\",male,50.0,2,0,PC 17611,133.65,,S,5,,\"New York, NY\"\\r\\n121,1,1,\"Frauenthal, Mrs. Henry William (Clara Heinsheimer)\",female,,1,0,PC 17611,133.65,,S,5,,\"New York, NY\"\\r\\n56,1,1,\"Carter, Mr. William Ernest\",male,36.0,1,2,113760,120.0,B96 B98,S,C,,\"Bryn Mawr, PA\"\\r\\n55,1,1,\"Carter, Miss. Lucile Polk\",female,14.0,1,2,113760,120.0,B96 B98,S,4,,\"Bryn Mawr, PA\"\\r\\n54,1,1,\"Carter, Master. William Thornton II\",male,11.0,1,2,113760,120.0,B96 B98,S,4,,\"Bryn Mawr, PA\"\\r\\n57,1,1,\"Carter, Mrs. William Ernest (Lucile Polk)\",female,36.0,1,2,113760,120.0,B96 B98,S,4,,\"Bryn Mawr, PA\"\\r\\n213,1,1,\"Newell, Miss. Madeleine\",female,31.0,1,0,35273,113.275,D36,C,6,,\"Lexington, MA\"\\r\\n214,1,1,\"Newell, Miss. Marjorie\",female,23.0,1,0,35273,113.275,D36,C,6,,\"Lexington, MA\"\\r\\n215,1,0,\"Newell, Mr. Arthur Webster\",male,58.0,0,2,35273,113.275,D48,C,,122.0,\"Lexington, MA\"\\r\\n296,1,1,\"Thayer, Mrs. John Borland (Marian Longstreth Morris)\",female,39.0,1,1,17421,110.8833,C68,C,4,,\"Haverford, PA\"\\r\\n108,1,1,\"Fleming, Miss. Margaret\",female,,0,0,17421,110.8833,,C,4,,\\r\\n295,1,1,\"Thayer, Mr. John Borland Jr\",male,17.0,0,2,17421,110.8833,C70,C,B,,\"Haverford, PA\"\\r\\n294,1,0,\"Thayer, Mr. John Borland\",male,49.0,1,1,17421,110.8833,C68,C,,,\"Haverford, PA\"\\r\\n218,1,1,\"Oliva y Ocana, Dona. Fermina\",female,39.0,0,0,PC 17758,108.9,C105,C,8,,\\r\\n228,1,0,\"Penasco y Castellana, Mr. Victor de Satode\",male,18.0,1,0,PC 17758,108.9,C65,C,,,\"Madrid, Spain\"\\r\\n229,1,1,\"Penasco y Castellana, Mrs. Victor de Satode (Maria Josefa Perez de Soto y Vallejo)\",female,17.0,1,0,PC 17758,108.9,C65,C,8,,\"Madrid, Spain\"\\r\\n98,1,1,\"Douglas, Mrs. Walter Donald (Mahala Dutton)\",female,48.0,1,0,PC 17761,106.425,C86,C,2,,\"Deephaven, MN / Cedar Rapids, IA\"\\r\\n182,1,1,\"LeRoy, Miss. Bertha\",female,30.0,0,0,PC 17761,106.425,,C,2,,\\r\\n96,1,0,\"Douglas, Mr. Walter Donald\",male,50.0,1,0,PC 17761,106.425,C86,C,,62.0,\"Deephaven, MN / Cedar Rapids, IA\"\\r\\n225,1,0,\"Payne, Mr. Vivian Ponsonby\",male,23.0,0,0,12749,93.5,B24,S,,,\"Montreal, PQ\"\\r\\n230,1,1,\"Perreault, Miss. Anne\",female,30.0,0,0,12749,93.5,B73,S,3,,\\r\\n155,1,1,\"Hays, Mrs. Charles Melville (Clara Jennings Gregg)\",female,52.0,1,1,12749,93.5,B69,S,3,,\"Montreal, PQ\"\\r\\n154,1,0,\"Hays, Mr. Charles Melville\",male,55.0,1,1,12749,93.5,B69,S,,307.0,\"Montreal, PQ\"\\r\\n27,1,1,\"Bishop, Mrs. Dickinson H (Helen Walton)\",female,19.0,1,0,11967,91.0792,B49,C,7,,\"Dowagiac, MI\"\\r\\n26,1,1,\"Bishop, Mr. Dickinson H\",male,25.0,1,0,11967,91.0792,B49,C,7,,\"Dowagiac, MI\"\\r\\n167,1,1,\"Hoyt, Mrs. Frederick Maxfield (Jane Anne Forby)\",female,35.0,1,0,19943,90.0,C93,S,D,,\"New York, NY /  Stamford CT\"\\r\\n165,1,1,\"Hoyt, Mr. Frederick Maxfield\",male,38.0,1,0,19943,90.0,C93,S,D,,\"New York, NY /  Stamford CT\"\\r\\n207,1,1,\"Minahan, Miss. Daisy E\",female,33.0,1,0,19928,90.0,C78,Q,14,,\"Green Bay, WI\"\\r\\n206,1,0,\"Minahan, Dr. William Edward\",male,44.0,2,0,19928,90.0,C78,Q,,230.0,\"Fond du Lac, WI\"\\r\\n208,1,1,\"Minahan, Mrs. William Edward (Lillian E Thorpe)\",female,37.0,1,0,19928,90.0,C78,Q,14,,\"Fond du Lac, WI\"\\r\\n134,1,1,\"Goldenberg, Mrs. Samuel L (Edwiga Grabowska)\",female,,1,0,17453,89.1042,C92,C,5,,\"Paris, France / New York, NY\"\\r\\n133,1,1,\"Goldenberg, Mr. Samuel L\",male,49.0,1,0,17453,89.1042,C92,C,5,,\"Paris, France / New York, NY\"\\r\\n195,1,1,\"Maioni, Miss. Roberta\",female,16.0,0,0,110152,86.5,B79,S,8,,\\r\\n245,1,1,\"Rothes, the Countess. of (Lucy Noel Martha Dyer-Edwards)\",female,33.0,0,0,110152,86.5,B77,S,8,,\"London  Vancouver, BC\"\\r\\n67,1,1,\"Cherry, Miss. Gladys\",female,30.0,0,0,110152,86.5,B77,S,8,,\"London, England\"\\r\\n148,1,0,\"Harris, Mr. Henry Birkhardt\",male,45.0,1,0,36973,83.475,C83,S,,,\"New York, NY\"\\r\\n149,1,1,\"Harris, Mrs. Henry Birkhardt (Irene Wallach)\",female,35.0,1,0,36973,83.475,C83,S,D,,\"New York, NY\"\\r\\n77,1,0,\"Compton, Mr. Alexander Taylor Jr\",male,37.0,1,1,PC 17756,83.1583,E52,C,,,\"Lakewood, NJ\"\\r\\n76,1,1,\"Compton, Miss. Sara Rebecca\",female,39.0,1,1,PC 17756,83.1583,E49,C,14,,\"Lakewood, NJ\"\\r\\n233,1,1,\"Potter, Mrs. Thomas Jr (Lily Alexenia Wilson)\",female,56.0,0,1,11767,83.1583,C50,C,7,,\"Mt Airy, Philadelphia, PA\"\\r\\n78,1,1,\"Compton, Mrs. Alexander Taylor (Mary Eliza Ingersoll)\",female,64.0,0,2,PC 17756,83.1583,E45,C,14,,\"Lakewood, NJ\"\\r\\n153,1,1,\"Hays, Miss. Margaret Bechstein\",female,24.0,0,0,11767,83.1583,C54,C,7,,\"New York, NY\"\\r\\n102,1,1,\"Earnshaw, Mrs. Boulton (Olive Potter)\",female,23.0,0,1,11767,83.1583,C54,C,7,,\"Mt Airy, Philadelphia, PA\"\\r\\n271,1,1,\"Snyder, Mr. John Pillsbury\",male,24.0,1,0,21228,82.2667,B45,S,7,,\"Minneapolis, MN\"\\r\\n272,1,1,\"Snyder, Mrs. John Pillsbury (Nelle Stevenson)\",female,23.0,1,0,21228,82.2667,B45,S,7,,\"Minneapolis, MN\"\\r\\n204,1,1,\"Meyer, Mrs. Edgar Joseph (Leila Saks)\",female,,1,0,PC 17604,82.1708,,C,6,,\"New York, NY\"\\r\\n203,1,0,\"Meyer, Mr. Edgar Joseph\",male,28.0,1,0,PC 17604,82.1708,,C,,,\"New York, NY\"\\r\\n94,1,1,\"Dodge, Master. Washington\",male,4.0,0,2,33638,81.8583,A34,S,5,,\"San Francisco, CA\"\\r\\n95,1,1,\"Dodge, Mrs. Washington (Ruth Vidaver)\",female,54.0,1,1,33638,81.8583,A34,S,5,,\"San Francisco, CA\"\\r\\n93,1,1,\"Dodge, Dr. Washington\",male,53.0,1,1,33638,81.8583,A34,S,13,,\"San Francisco, CA\"\\r\\n168,1,1,\"Icard, Miss. Amelie\",female,38.0,0,0,113572,80.0,B28,,6,,\\r\\n284,1,1,\"Stone, Mrs. George Nelson (Martha Evelyn)\",female,62.0,0,0,113572,80.0,B28,,6,,\"Cincinatti, OH\"\\r\\n289,1,1,\"Taussig, Miss. Ruth\",female,18.0,0,2,110413,79.65,E68,S,8,,\"New York, NY\"\\r\\n290,1,0,\"Taussig, Mr. Emil\",male,52.0,1,1,110413,79.65,E67,S,,,\"New York, NY\"\\r\\n291,1,1,\"Taussig, Mrs. Emil (Tillie Mandelbaum)\",female,39.0,1,1,110413,79.65,E67,S,8,,\"New York, NY\"\\r\\n243,1,0,\"Rosenshine, Mr. George (\"\"Mr George Thorne\"\")\",male,46.0,0,0,PC 17585,79.2,,C,,16.0,\"New York, NY\"\\r\\n123,1,1,\"Frolicher-Stehli, Mr. Maxmillian\",male,60.0,1,1,13567,79.2,B41,C,5,,\"Zurich, Switzerland\"\\r\\n124,1,1,\"Frolicher-Stehli, Mrs. Maxmillian (Margaretha Emerentia Stehli)\",female,48.0,1,1,13567,79.2,B41,C,5,,\"Zurich, Switzerland\"\\r\\n297,1,1,\"Thorne, Mrs. Gertrude Maybelle\",female,,0,0,PC 17585,79.2,,C,D,,\"New York, NY\"\\r\\n142,1,0,\"Guggenheim, Mr. Benjamin\",male,46.0,0,0,PC 17593,79.2,B82 B84,C,,,\"New York, NY\"\\r\\n132,1,0,\"Giglio, Mr. Victor\",male,24.0,0,0,PC 17593,79.2,B86,C,,,\\r\\n61,1,1,\"Cavendish, Mrs. Tyrell William (Julia Florence Siegel)\",female,76.0,1,0,19877,78.85,C46,S,6,,\"Little Onn Hall, Staffs\"\\r\\n60,1,0,\"Cavendish, Mr. Tyrell William\",male,36.0,1,0,19877,78.85,C46,S,,172.0,\"Little Onn Hall, Staffs\"\\r\\n13,1,1,\"Barber, Miss. Ellen \"\"Nellie\"\"\",female,26.0,0,0,19877,78.85,,S,6,,\\r\\n104,1,1,\"Eustis, Miss. Elizabeth Mussey\",female,54.0,1,0,36947,78.2667,D20,C,4,,\"Brookline, MA\"\\r\\n282,1,1,\"Stephenson, Mrs. Walter Bertram (Martha Eustis)\",female,52.0,1,0,36947,78.2667,D20,C,4,,\"Haverford, PA\"\\r\\n190,1,1,\"Longley, Miss. Gretchen Fiske\",female,21.0,0,0,13502,77.9583,D9,S,10,,\"Hudson, NY\"\\r\\n6,1,1,\"Andrews, Miss. Kornelia Theodosia\",female,63.0,1,0,13502,77.9583,D7,S,10,,\"Hudson, NY\"\\r\\n161,1,1,\"Hogeboom, Mrs. John C (Anna Andrews)\",female,51.0,1,0,13502,77.9583,D11,S,10,,\"Hudson, NY\"\\r\\n306,1,0,\"White, Mr. Percival Wayland\",male,54.0,0,1,35281,77.2875,D26,S,,,\"Brunswick, ME\"\\r\\n307,1,0,\"White, Mr. Richard Frasar\",male,21.0,0,1,35281,77.2875,D26,S,,169.0,\"Brunswick, ME\"\\r\\n146,1,1,\"Harper, Mrs. Henry Sleeper (Myna Haxtun)\",female,49.0,1,0,PC 17572,76.7292,D33,C,3,,\"New York, NY\"\\r\\n145,1,1,\"Harper, Mr. Henry Sleeper\",male,48.0,1,0,PC 17572,76.7292,D33,C,3,,\"New York, NY\"\\r\\n151,1,1,\"Hassab, Mr. Hammad\",male,27.0,0,0,PC 17572,76.7292,D49,C,3,,\\r\\n43,1,1,\"Bucknell, Mrs. William Robert (Emma Eliza Ward)\",female,60.0,0,0,11813,76.2917,D15,C,8,,\"Philadelphia, PA\"\\r\\n18,1,1,\"Bazzani, Miss. Albina\",female,32.0,0,0,11813,76.2917,D15,C,8,,\\r\\n304,1,1,\"Warren, Mrs. Frank Manley (Anna Sophia Atkinson)\",female,60.0,1,0,110813,75.25,D37,C,5,,\"Portland, OR\"\\r\\n303,1,0,\"Warren, Mr. Frank Manley\",male,64.0,1,0,110813,75.25,D37,C,,,\"Portland, OR\"\\r\\n19,1,0,\"Beattie, Mr. Thomson\",male,36.0,0,0,13050,75.2417,C6,C,A,,\"Winnipeg, MN\"\\r\\n200,1,0,\"McCaffry, Mr. Thomas Francis\",male,46.0,0,0,13050,75.2417,C6,C,,292.0,\"Vancouver, BC\"\\r\\n442,2,0,\"Hickman, Mr. Leonard Mark\",male,24.0,2,0,S.O.C. 14879,73.5,,S,,,\"West Hampstead, London / Neepawa, MB\"\\r\\n453,2,0,\"Hood, Mr. Ambrose Jr\",male,21.0,0,0,S.O.C. 14879,73.5,,S,,,\"New Forest, England\"\\r\\n394,2,0,\"Dibden, Mr. William\",male,18.0,0,0,S.O.C. 14879,73.5,,S,,,\"New Forest, England\"\\r\\n443,2,0,\"Hickman, Mr. Lewis\",male,32.0,2,0,S.O.C. 14879,73.5,,S,,256.0,\"West Hampstead, London / Neepawa, MB\"\\r\\n390,2,0,\"Deacon, Mr. Percy William\",male,17.0,0,0,S.O.C. 14879,73.5,,S,,,\\r\\n386,2,0,\"Davies, Mr. Charles Henry\",male,18.0,0,0,S.O.C. 14879,73.5,,S,,,\"Lyndhurst, England\"\\r\\n444,2,0,\"Hickman, Mr. Stanley George\",male,21.0,2,0,S.O.C. 14879,73.5,,S,,,\"West Hampstead, London / Neepawa, MB\"\\r\\n85,1,1,\"Cumings, Mrs. John Bradley (Florence Briggs Thayer)\",female,38.0,1,0,PC 17599,71.2833,C85,C,4,,\"New York, NY\"\\r\\n84,1,0,\"Cumings, Mr. John Bradley\",male,39.0,1,0,PC 17599,71.2833,C85,C,,,\"New York, NY\"\\r\\n82,1,1,\"Crosby, Miss. Harriet R\",female,36.0,0,2,WE/P 5735,71.0,B22,S,7,,\"Milwaukee, WI\"\\r\\n81,1,0,\"Crosby, Capt. Edward Gifford\",male,70.0,1,1,WE/P 5735,71.0,B22,S,,269.0,\"Milwaukee, WI\"\\r\\n1173,3,0,\"Sage, Miss. Constance Gladys\",female,,8,2,CA. 2343,69.55,,S,,,\\r\\n1180,3,0,\"Sage, Mrs. John (Annie Bullen)\",female,,1,9,CA. 2343,69.55,,S,,,\\r\\n1175,3,0,\"Sage, Miss. Stella Anna\",female,,8,2,CA. 2343,69.55,,S,,,\\r\\n1171,3,0,\"Sage, Master. William Henry\",male,14.5,8,2,CA. 2343,69.55,,S,,67.0,\\r\\n1172,3,0,\"Sage, Miss. Ada\",female,,8,2,CA. 2343,69.55,,S,,,\\r\\n1176,3,0,\"Sage, Mr. Douglas Bullen\",male,,8,2,CA. 2343,69.55,,S,,,\\r\\n1177,3,0,\"Sage, Mr. Frederick\",male,,8,2,CA. 2343,69.55,,S,,,\\r\\n1174,3,0,\"Sage, Miss. Dorothy Edith \"\"Dolly\"\"\",female,,8,2,CA. 2343,69.55,,S,,,\\r\\n1178,3,0,\"Sage, Mr. George John Jr\",male,,8,2,CA. 2343,69.55,,S,,,\\r\\n1179,3,0,\"Sage, Mr. John George\",male,,1,9,CA. 2343,69.55,,S,,,\\r\\n1170,3,0,\"Sage, Master. Thomas Henry\",male,,8,2,CA. 2343,69.55,,S,,,\\r\\n255,1,1,\"Sagesser, Mlle. Emma\",female,24.0,0,0,PC 17477,69.3,B35,C,9,,\\r\\n12,1,1,\"Aubart, Mme. Leontine Pauline\",female,24.0,0,0,PC 17477,69.3,B35,C,9,,\"Paris, France\"\\r\\n226,1,0,\"Pears, Mr. Thomas Clinton\",male,29.0,1,0,113776,66.6,C2,S,,,\"Isleworth, England\"\\r\\n227,1,1,\"Pears, Mrs. Thomas (Edith Wearne)\",female,22.0,1,0,113776,66.6,C2,S,8,,\"Isleworth, England\"\\r\\n440,2,1,\"Herman, Mrs. Samuel (Jane Laver)\",female,48.0,1,2,220845,65.0,,S,9,,\"Somerset / Bernardsville, NJ\"\\r\\n438,2,1,\"Herman, Miss. Kate\",female,24.0,1,2,220845,65.0,,S,9,,\"Somerset / Bernardsville, NJ\"\\r\\n437,2,1,\"Herman, Miss. Alice\",female,24.0,1,2,220845,65.0,,S,9,,\"Somerset / Bernardsville, NJ\"\\r\\n439,2,0,\"Herman, Mr. Samuel\",male,49.0,1,2,220845,65.0,,S,,,\"Somerset / Bernardsville, NJ\"\\r\\n569,2,0,\"Sweet, Mr. George Frederick\",male,14.0,0,0,220845,65.0,,S,,,\"Somerset / Bernardsville, NJ\"\\r\\n141,1,1,\"Greenfield, Mrs. Leo David (Blanche Strouse)\",female,45.0,0,1,PC 17759,63.3583,D10 D12,C,7,,\"New York, NY\"\\r\\n140,1,1,\"Greenfield, Mr. William Bertram\",male,23.0,0,1,PC 17759,63.3583,D10 D12,C,7,,\"New York, NY\"\\r\\n220,1,1,\"Ostby, Miss. Helene Ragnhild\",female,22.0,0,1,113509,61.9792,B36,C,5,,\"Providence, RI\"\\r\\n221,1,0,\"Ostby, Mr. Engelhart Cornelius\",male,65.0,0,1,113509,61.9792,B30,C,,234.0,\"Providence, RI\"\\r\\n317,1,1,\"Williams, Mr. Richard Norris II\",male,21.0,0,1,PC 17597,61.3792,,C,A,,\"Geneva, Switzerland / Radnor, PA\"\\r\\n316,1,0,\"Williams, Mr. Charles Duane\",male,51.0,0,1,PC 17597,61.3792,,C,,,\"Geneva, Switzerland / Radnor, PA\"\\r\\n62,1,0,\"Chaffee, Mr. Herbert Fuller\",male,46.0,1,0,W.E.P. 5734,61.175,E31,S,,,\"Amenia, ND\"\\r\\n63,1,1,\"Chaffee, Mrs. Herbert Fuller (Carrie Constance Toogood)\",female,47.0,1,0,W.E.P. 5734,61.175,E31,S,4,,\"Amenia, ND\"\\r\\n270,1,1,\"Smith, Mrs. Lucien Philip (Mary Eloise Hughes)\",female,18.0,1,0,13695,60.0,C31,S,6,,\"Huntington, WV\"\\r\\n268,1,0,\"Smith, Mr. Lucien Philip\",male,24.0,1,0,13695,60.0,C31,S,,,\"Huntington, WV\"\\r\\n246,1,0,\"Rothschild, Mr. Martin\",male,55.0,1,0,PC 17603,59.4,,C,,,\"New York, NY\"\\r\\n247,1,1,\"Rothschild, Mrs. Martin (Elizabeth L. Barrett)\",female,54.0,1,0,PC 17603,59.4,,C,6,,\"New York, NY\"\\r\\n131,1,1,\"Gibson, Mrs. Leonard (Pauline C Boeson)\",female,45.0,0,1,112378,59.4,,C,7,,\"New York, NY\"\\r\\n130,1,1,\"Gibson, Miss. Dorothy Winifred\",female,22.0,0,1,112378,59.4,,C,7,,\"New York, NY\"\\r\\n160,1,1,\"Hippach, Mrs. Louis Albert (Ida Sophia Fischer)\",female,44.0,0,1,111361,57.9792,B18,C,4,,\"Chicago, IL\"\\r\\n159,1,1,\"Hippach, Miss. Jean Gertrude\",female,16.0,0,1,111361,57.9792,B18,C,4,,\"Chicago, IL\"\\r\\n209,1,1,\"Mock, Mr. Philipp Edmund\",male,30.0,1,0,13236,57.75,C78,C,11,,\"New York, NY\"\\r\\n257,1,1,\"Schabert, Mrs. Paul (Emma Mock)\",female,35.0,1,0,13236,57.75,C28,C,11,,\"New York, NY\"\\r\\n92,1,1,\"Dick, Mrs. Albert Adrian (Vera Gillespie)\",female,17.0,1,0,17474,57.0,B20,S,3,,\"Calgary, AB\"\\r\\n91,1,1,\"Dick, Mr. Albert Adrian\",male,31.0,1,0,17474,57.0,B20,S,3,,\"Calgary, AB\"\\r\\n100,1,1,\"Duff Gordon, Sir. Cosmo Edmund (\"\"Mr Morgan\"\")\",male,49.0,1,0,PC 17485,56.9292,A20,C,1,,London / Paris\\r\\n117,1,1,\"Francatelli, Miss. Laura Mabel\",female,30.0,0,0,PC 17485,56.9292,E36,C,1,,\\r\\n945,3,1,\"Lam, Mr. Ali\",male,,0,0,1601,56.4958,,S,C,,\\r\\n714,3,1,\"Chip, Mr. Chang\",male,32.0,0,0,1601,56.4958,,S,C,,\"Hong Kong New York, NY\"\\r\\n949,3,1,\"Lang, Mr. Fang\",male,26.0,0,0,1601,56.4958,,S,14,,\\r\\n805,3,1,\"Foo, Mr. Choong\",male,,0,0,1601,56.4958,,S,13,,\"Hong Kong New York, NY\"\\r\\n946,3,0,\"Lam, Mr. Len\",male,,0,0,1601,56.4958,,S,,,\\r\\n674,3,1,\"Bing, Mr. Lee\",male,32.0,0,0,1601,56.4958,,S,C,,\"Hong Kong New York, NY\"\\r\\n858,3,1,\"Hee, Mr. Ling\",male,,0,0,1601,56.4958,,S,C,,\\r\\n972,3,0,\"Ling, Mr. Lee\",male,28.0,0,0,1601,56.4958,,S,,,\\r\\n263,1,1,\"Silvey, Mrs. William Baird (Alice Munger)\",female,39.0,1,0,13507,55.9,E44,S,11,,\"Duluth, MN\"\\r\\n262,1,0,\"Silvey, Mr. William Baird\",male,50.0,1,0,13507,55.9,E44,S,,,\"Duluth, MN\"\\r\\n144,1,1,\"Harder, Mrs. George Achilles (Dorothy Annan)\",female,25.0,1,0,11765,55.4417,E50,C,5,,\"Brooklyn, NY\"\\r\\n143,1,1,\"Harder, Mr. George Achilles\",male,25.0,1,0,11765,55.4417,E50,C,5,,\"Brooklyn, NY\"\\r\\n280,1,1,\"Stengel, Mr. Charles Emil Henry\",male,54.0,1,0,11778,55.4417,C116,C,1,,\"Newark, NJ\"\\r\\n281,1,1,\"Stengel, Mrs. Charles Emil Henry (Annie May Morris)\",female,43.0,1,0,11778,55.4417,C116,C,5,,\"Newark, NJ\"\\r\\n36,1,1,\"Bowerman, Miss. Elsie Edith\",female,22.0,0,1,113505,55.0,E33,S,6,,\"St Leonards-on-Sea, England Ohio\"\\r\\n69,1,1,\"Chibnall, Mrs. (Edith Martha Bowerman)\",female,,0,1,113505,55.0,E33,S,6,,\"St Leonards-on-Sea, England Ohio\"\\r\\n126,1,0,\"Futrelle, Mr. Jacques Heath\",male,37.0,1,0,113803,53.1,C123,S,,,\"Scituate, MA\"\\r\\n64,1,1,\"Chambers, Mr. Norman Campbell\",male,27.0,1,0,113806,53.1,E8,S,5,,\"New York, NY / Ithaca, NY\"\\r\\n127,1,1,\"Futrelle, Mrs. Jacques Heath (Lily May Peel)\",female,35.0,1,0,113803,53.1,C123,S,D,,\"Scituate, MA\"\\r\\n65,1,1,\"Chambers, Mrs. Norman Campbell (Bertha Griggs)\",female,33.0,1,0,113806,53.1,E8,S,5,,\"New York, NY / Ithaca, NY\"\\r\\n197,1,0,\"Marvin, Mr. Daniel Warner\",male,19.0,1,0,113773,53.1,D30,S,,,\"New York, NY\"\\r\\n198,1,1,\"Marvin, Mrs. Daniel Warner (Mary Graham Carmichael Farquarson)\",female,18.0,1,0,113773,53.1,D30,S,10,,\"New York, NY\"\\r\\n21,1,1,\"Beckwith, Mrs. Richard Leonard (Sallie Monypeny)\",female,47.0,1,1,11751,52.5542,D35,S,5,,\"New York, NY\"\\r\\n20,1,1,\"Beckwith, Mr. Richard Leonard\",male,37.0,1,1,11751,52.5542,D35,S,5,,\"New York, NY\"\\r\\n178,1,1,\"Kimball, Mrs. Edwin Nelson Jr (Gertrude Parsons)\",female,45.0,1,0,11753,52.5542,D19,S,5,,\"Boston, MA\"\\r\\n177,1,1,\"Kimball, Mr. Edwin Nelson Jr\",male,42.0,1,0,11753,52.5542,D19,S,5,,\"Boston, MA\"\\r\\n162,1,0,\"Holverson, Mr. Alexander Oskar\",male,42.0,1,0,113789,52.0,,S,,38.0,\"New York, NY\"\\r\\n90,1,1,\"Davidson, Mrs. Thornton (Orian Hays)\",female,27.0,1,2,F.C. 12750,52.0,B71,S,3,,\"Montreal, PQ\"\\r\\n89,1,0,\"Davidson, Mr. Thornton\",male,31.0,1,0,F.C. 12750,52.0,B71,S,,,\"Montreal, PQ\"\\r\\n292,1,1,\"Taylor, Mr. Elmer Zebley\",male,48.0,1,0,19996,52.0,C126,S,5 7,,\"London /  East Orange, NJ\"\\r\\n74,1,0,\"Clifford, Mr. George Quincy\",male,,0,0,110465,52.0,A14,S,,,\"Stoughton, MA\"\\r\\n293,1,1,\"Taylor, Mrs. Elmer Zebley (Juliet Cummins Wright)\",female,,1,0,19996,52.0,C126,S,5 7,,\"London /  East Orange, NJ\"\\r\\n163,1,1,\"Holverson, Mrs. Alexander Oskar (Mary Aline Towner)\",female,35.0,1,0,113789,52.0,,S,8,,\"New York, NY\"\\r\\n232,1,0,\"Porter, Mr. Walter Chamberlain\",male,47.0,0,0,110465,52.0,C110,S,,207.0,\"Worcester, MA\"\\r\\n157,1,0,\"Hilliard, Mr. Herbert Henry\",male,,0,0,17463,51.8625,E46,S,,,\"Brighton, MA\"\\r\\n201,1,0,\"McCarthy, Mr. Timothy J\",male,54.0,0,0,17463,51.8625,E46,S,,175.0,\"Dorchester, MA\"\\r\\n176,1,1,\"Kenyon, Mrs. Frederick R (Marion)\",female,,1,0,17464,51.8625,D21,S,8,,\"Southington / Noank, CT\"\\r\\n175,1,0,\"Kenyon, Mr. Frederick R\",male,41.0,1,0,17464,51.8625,D21,S,,,\"Southington / Noank, CT\"\\r\\n42,1,1,\"Brown, Mrs. John Murray (Caroline Lane Lamson)\",female,59.0,2,0,11769,51.4792,C101,S,D,,\"Belmont, MA\"\\r\\n8,1,1,\"Appleton, Mrs. Edward Dale (Charlotte Lamson)\",female,53.0,2,0,11769,51.4792,C101,S,D,,\"Bayside, Queens, NY\"\\r\\n39,1,0,\"Brandeis, Mr. Emil\",male,48.0,0,0,PC 17591,50.4958,B10,C,,208.0,\"Omaha, NE\"\\r\\n239,1,0,\"Roebling, Mr. Washington Augustus II\",male,31.0,0,0,PC 17590,50.4958,A24,S,,,\"Trenton, NJ\"\\r\\n241,1,0,\"Rood, Mr. Hugh Roscoe\",male,,0,0,113767,50.0,A32,S,,,\"Seattle, WA\"\\r\\n158,1,0,\"Hipkins, Mr. William Edward\",male,55.0,0,0,680,50.0,C39,S,,,London / Birmingham\\r\\n199,1,1,\"Mayne, Mlle. Berthe Antonine (\"\"Mrs de Villiers\"\")\",female,24.0,0,0,PC 17482,49.5042,C90,C,6,,\"Belgium  Montreal, PQ\"\\r\\n9,1,0,\"Artagaveytia, Mr. Ramon\",male,71.0,0,0,PC 17609,49.5042,,C,,22.0,\"Montevideo, Uruguay\"\\r\\n122,1,1,\"Frolicher, Miss. Hedwig Margaritha\",female,22.0,0,2,13568,49.5,B39,C,5,,\"Zurich, Switzerland\"\\r\\n52,1,0,\"Carrau, Mr. Francisco M\",male,28.0,0,0,113059,47.1,,S,,,\"Montevideo, Uruguay\"\\r\\n53,1,0,\"Carrau, Mr. Jose Pedro\",male,17.0,0,0,113059,47.1,,S,,,\"Montevideo, Uruguay\"\\r\\n830,3,0,\"Goodwin, Mr. Charles Edward\",male,14.0,5,2,CA 2144,46.9,,S,,,\"Wiltshire, England Niagara Falls, NY\"\\r\\n831,3,0,\"Goodwin, Mr. Charles Frederick\",male,40.0,1,6,CA 2144,46.9,,S,,,\"Wiltshire, England Niagara Falls, NY\"\\r\\n832,3,0,\"Goodwin, Mrs. Frederick (Augusta Tyler)\",female,43.0,1,6,CA 2144,46.9,,S,,,\"Wiltshire, England Niagara Falls, NY\"\\r\\n829,3,0,\"Goodwin, Miss. Lillian Amy\",female,16.0,5,2,CA 2144,46.9,,S,,,\"Wiltshire, England Niagara Falls, NY\"\\r\\n827,3,0,\"Goodwin, Master. William Frederick\",male,11.0,5,2,CA 2144,46.9,,S,,,\"Wiltshire, England Niagara Falls, NY\"\\r\\n825,3,0,\"Goodwin, Master. Harold Victor\",male,9.0,5,2,CA 2144,46.9,,S,,,\"Wiltshire, England Niagara Falls, NY\"\\r\\n828,3,0,\"Goodwin, Miss. Jessie Allis\",female,10.0,5,2,CA 2144,46.9,,S,,,\"Wiltshire, England Niagara Falls, NY\"\\r\\n826,3,0,\"Goodwin, Master. Sidney Leonard\",male,1.0,5,2,CA 2144,46.9,,S,,,\"Wiltshire, England Niagara Falls, NY\"\\r\\n191,1,0,\"Loring, Mr. Joseph Holland\",male,30.0,0,0,113801,45.5,,S,,,\"London / New York, NY\"\\r\\n156,1,0,\"Head, Mr. Christopher\",male,42.0,0,0,113038,42.5,B11,S,,,London / Middlesex\\r\\n147,1,0,\"Harrington, Mr. Charles H\",male,,0,0,113796,42.4,,S,,,\\r\\n211,1,0,\"Moore, Mr. Clarence Bloomfield\",male,47.0,0,0,113796,42.4,,S,,,\"Washington, DC\"\\r\\n478,2,1,\"Laroche, Miss. Louise\",female,1.0,1,2,SC/Paris 2123,41.5792,,C,14,,Paris / Haiti\\r\\n481,2,1,\"Laroche, Mrs. Joseph (Juliette Marie Louise Lafargue)\",female,22.0,1,2,SC/Paris 2123,41.5792,,C,14,,Paris / Haiti\\r\\n480,2,0,\"Laroche, Mr. Joseph Philippe Lemercier\",male,25.0,1,2,SC/Paris 2123,41.5792,,C,,,Paris / Haiti\\r\\n479,2,1,\"Laroche, Miss. Simonne Marie Anne Andree\",female,3.0,1,2,SC/Paris 2123,41.5792,,C,14,,Paris / Haiti\\r\\n244,1,0,\"Ross, Mr. John Hugo\",male,36.0,0,0,13049,40.125,A10,C,,,\"Winnipeg, MB\"\\r\\n1106,3,0,\"Panula, Mrs. Juha (Maria Emilia Ojala)\",female,41.0,0,5,3101295,39.6875,,S,,,\\r\\n1103,3,0,\"Panula, Master. Urho Abraham\",male,2.0,4,1,3101295,39.6875,,S,,,\\r\\n1101,3,0,\"Panula, Master. Eino Viljami\",male,1.0,4,1,3101295,39.6875,,S,,,\\r\\n1102,3,0,\"Panula, Master. Juha Niilo\",male,7.0,4,1,3101295,39.6875,,S,,,\\r\\n1104,3,0,\"Panula, Mr. Ernesti Arvid\",male,16.0,4,1,3101295,39.6875,,S,,,\\r\\n1147,3,0,\"Riihivouri, Miss. Susanna Juhantytar \"\"Sanni\"\"\",female,22.0,0,0,3101295,39.6875,,S,,,\\r\\n1105,3,0,\"Panula, Mr. Jaako Arnold\",male,14.0,4,1,3101295,39.6875,,S,,,\\r\\n40,1,0,\"Brewe, Dr. Arthur Jackson\",male,,0,0,112379,39.6,,C,,,\"Philadelphia, PA\"\\r\\n99,1,1,\"Duff Gordon, Lady. (Lucille Christiana Sutherland) (\"\"Mrs Morgan\"\")\",female,48.0,1,0,11755,39.6,A16,C,1,,London / Paris\\r\\n235,1,1,\"Rheims, Mr. George Alexander Lucien\",male,,0,0,PC 17607,39.6,,S,A,,\"Paris /  New York, NY\"\\r\\n188,1,1,\"Lines, Mrs. Ernest H (Elizabeth Lindsey James)\",female,51.0,0,1,PC 17592,39.4,D28,S,9,,\"Paris, France\"\\r\\n187,1,1,\"Lines, Miss. Mary Conover\",female,16.0,0,1,PC 17592,39.4,D28,S,9,,\"Paris, France\"\\r\\n341,2,1,\"Becker, Miss. Ruth Elizabeth\",female,12.0,2,1,230136,39.0,F4,S,13,,\"Guntur, India / Benton Harbour, MI\"\\r\\n342,2,1,\"Becker, Mrs. Allen Oliver (Nellie E Baumgardner)\",female,36.0,0,3,230136,39.0,F4,S,11,,\"Guntur, India / Benton Harbour, MI\"\\r\\n352,2,1,\"Brown, Mrs. Thomas William Solomon (Elizabeth Catherine Ford)\",female,40.0,1,1,29750,39.0,,S,14,,\"Cape Town, South Africa / Seattle, WA\"\\r\\n339,2,1,\"Becker, Master. Richard F\",male,1.0,2,1,230136,39.0,F4,S,11,,\"Guntur, India / Benton Harbour, MI\"\\r\\n351,2,0,\"Brown, Mr. Thomas William Solomon\",male,60.0,1,1,29750,39.0,,S,,,\"Cape Town, South Africa / Seattle, WA\"\\r\\n350,2,1,\"Brown, Miss. Edith Eileen\",female,15.0,0,2,29750,39.0,,S,14,,\"Cape Town, South Africa / Seattle, WA\"\\r\\n340,2,1,\"Becker, Miss. Marion Louise\",female,4.0,2,1,230136,39.0,F4,S,11,,\"Guntur, India / Benton Harbour, MI\"\\r\\n128,1,0,\"Gee, Mr. Arthur H\",male,47.0,0,0,111320,38.5,E63,S,,275.0,\"St Anne\\'s-on-Sea, Lancashire\"\\r\\n494,2,1,\"Mallet, Mrs. Albert (Antoinette Magnin)\",female,24.0,1,1,S.C./PARIS 2079,37.0042,,C,10,,\"Paris / Montreal, PQ\"\\r\\n492,2,1,\"Mallet, Master. Andre\",male,1.0,0,2,S.C./PARIS 2079,37.0042,,C,10,,\"Paris / Montreal, PQ\"\\r\\n493,2,0,\"Mallet, Mr. Albert\",male,31.0,1,1,S.C./PARIS 2079,37.0042,,C,,,\"Paris / Montreal, PQ\"\\r\\n385,2,1,\"Davies, Master. John Morgan Jr\",male,8.0,1,1,C.A. 33112,36.75,,S,14,,\"St Ives, Cornwall / Hancock, MI\"\\r\\n387,2,1,\"Davies, Mrs. John Morgan (Elizabeth Agnes Mary White) \",female,48.0,0,2,C.A. 33112,36.75,,S,14,,\"St Ives, Cornwall / Hancock, MI\"\\r\\n559,2,1,\"Sincock, Miss. Maude\",female,20.0,0,0,C.A. 33112,36.75,,S,11,,\"Cornwall / Hancock, MI\"\\r\\n518,2,0,\"Nicholls, Mr. Joseph Charles\",male,19.0,1,1,C.A. 33112,36.75,,S,,101.0,\"Cornwall / Hancock, MI\"\\r\\n320,1,1,\"Woolner, Mr. Hugh\",male,,0,0,19947,35.5,C52,S,D,,\"London, England\"\\r\\n265,1,1,\"Sloper, Mr. William Thompson\",male,28.0,0,0,113788,35.5,A6,S,7,,\"New Britain, CT\"\\r\\n264,1,1,\"Simonius-Blumer, Col. Oberst Alfons\",male,56.0,0,0,13213,35.5,A26,C,3,,\"Basel, Switzerland\"\\r\\n30,1,0,\"Blackwell, Mr. Stephen Weart\",male,45.0,0,0,113784,35.5,T,S,,,\"Trenton, NJ\"\\r\\n318,1,0,\"Williams-Lambert, Mr. Fletcher Fellows\",male,,0,0,113510,35.0,C128,S,,,\"London, England\"\\r\\n135,1,0,\"Goldschmidt, Mr. George B\",male,71.0,0,0,PC 17754,34.6542,A5,C,,,\"New York, NY\"\\r\\n811,3,0,\"Ford, Mrs. Edward (Margaret Ann Watson)\",female,48.0,1,3,W./C. 6608,34.375,,S,,,\"Rotherfield, Sussex, England Essex Co, MA\"\\r\\n810,3,0,\"Ford, Mr. William Neal\",male,16.0,1,3,W./C. 6608,34.375,,S,,,\"Rotherfield, Sussex, England Essex Co, MA\"\\r\\n809,3,0,\"Ford, Mr. Edward Watson\",male,18.0,2,2,W./C. 6608,34.375,,S,,,\"Rotherfield, Sussex, England Essex Co, MA\"\\r\\n807,3,0,\"Ford, Miss. Robina Maggie \"\"Ruby\"\"\",female,9.0,2,2,W./C. 6608,34.375,,S,,,\"Rotherfield, Sussex, England Essex Co, MA\"\\r\\n806,3,0,\"Ford, Miss. Doolina Margaret \"\"Daisy\"\"\",female,21.0,2,2,W./C. 6608,34.375,,S,,,\"Rotherfield, Sussex, England Essex Co, MA\"\\r\\n301,1,0,\"Walker, Mr. William Anderson\",male,47.0,0,0,36967,34.0208,D46,S,,,\"East Orange, NJ\"\\r\\n300,1,0,\"Van der hoef, Mr. Wyckoff\",male,61.0,0,0,111240,33.5,B19,S,,245.0,\"Brooklyn, NY\"\\r\\n430,2,1,\"Harper, Miss. Annie Jessie \"\"Nina\"\"\",female,6.0,0,1,248727,33.0,,S,11,,\"Denmark Hill, Surrey / Chicago\"\\r\\n483,2,1,\"Leitch, Miss. Jessie Wills\",female,,0,0,248727,33.0,,S,11,,\"London / Chicago, IL\"\\r\\n431,2,0,\"Harper, Rev. John\",male,28.0,0,1,248727,33.0,,S,,,\"Denmark Hill, Surrey / Chicago\"\\r\\n399,2,0,\"Drew, Mr. James Vivian\",male,42.0,1,1,28220,32.5,,S,,,\"Greenport, NY\"\\r\\n398,2,1,\"Drew, Master. Marshall Brines\",male,8.0,0,2,28220,32.5,,S,10,,\"Greenport, NY\"\\r\\n400,2,1,\"Drew, Mrs. James Vivian (Lulu Thorne Christian)\",female,34.0,1,1,28220,32.5,,S,10,,\"Greenport, NY\"\\r\\n287,1,0,\"Sutton, Mr. Frederick\",male,61.0,0,0,36963,32.3208,D50,S,,46.0,\"Haddenfield, NJ\"\\r\\n107,1,1,\"Flegenheim, Mrs. Alfred (Antoinette)\",female,,0,0,PC 17598,31.6833,,S,7,,\"New York, NY\"\\r\\n105,1,0,\"Evans, Miss. Edith Corse\",female,36.0,0,0,PC 17531,31.6792,A29,C,,,\"New York, NY\"\\r\\n463,2,0,\"Jefferys, Mr. Ernest Wilfred\",male,22.0,2,0,C.A. 31029,31.5,,S,,,\"Guernsey / Elizabeth, NJ\"\\r\\n462,2,0,\"Jefferys, Mr. Clifford Thomas\",male,24.0,2,0,C.A. 31029,31.5,,S,,,\"Guernsey / Elizabeth, NJ\"\\r\\n393,2,0,\"Denbury, Mr. Herbert\",male,25.0,0,0,C.A. 31029,31.5,,S,,,\"Guernsey / Elizabeth, NJ\"\\r\\n641,3,1,\"Asplund, Master. Edvin Rojj Felix\",male,3.0,4,2,347077,31.3875,,S,15,,\"Sweden Worcester, MA\"\\r\\n646,3,1,\"Asplund, Mrs. Carl Oscar (Selma Augusta Emilia Johansson)\",female,38.0,1,5,347077,31.3875,,S,15,,\"Sweden  Worcester, MA\"\\r\\n639,3,0,\"Asplund, Master. Carl Edgar\",male,5.0,4,2,347077,31.3875,,S,,,\"Sweden  Worcester, MA\"\\r\\n644,3,0,\"Asplund, Mr. Carl Oscar Vilhelm Gustafsson\",male,40.0,1,5,347077,31.3875,,S,,142.0,\"Sweden  Worcester, MA\"\\r\\n640,3,0,\"Asplund, Master. Clarence Gustaf Hugo\",male,9.0,4,2,347077,31.3875,,S,,,\"Sweden Worcester, MA\"\\r\\n643,3,1,\"Asplund, Miss. Lillian Gertrud\",female,5.0,4,2,347077,31.3875,,S,15,,\"Sweden Worcester, MA\"\\r\\n642,3,0,\"Asplund, Master. Filip Oscar\",male,13.0,4,2,347077,31.3875,,S,,,\"Sweden Worcester, MA\"\\r\\n629,3,0,\"Andersson, Mr. Anders Johan\",male,39.0,1,5,347082,31.275,,S,,,\"Sweden Winnipeg, MN\"\\r\\n627,3,0,\"Andersson, Miss. Ingeborg Constanzia\",female,9.0,4,2,347082,31.275,,S,,,\"Sweden Winnipeg, MN\"\\r\\n624,3,0,\"Andersson, Miss. Ellis Anna Maria\",female,2.0,4,2,347082,31.275,,S,,,\"Sweden Winnipeg, MN\"\\r\\n623,3,0,\"Andersson, Miss. Ebba Iris Alfrida\",female,6.0,4,2,347082,31.275,,S,,,\"Sweden Winnipeg, MN\"\\r\\n622,3,0,\"Andersson, Master. Sigvard Harald Elias\",male,4.0,4,2,347082,31.275,,S,,,\"Sweden Winnipeg, MN\"\\r\\n632,3,0,\"Andersson, Mrs. Anders Johan (Alfrida Konstantia Brogren)\",female,39.0,1,5,347082,31.275,,S,,,\"Sweden Winnipeg, MN\"\\r\\n628,3,0,\"Andersson, Miss. Sigrid Elisabeth\",female,11.0,4,2,347082,31.275,,S,,,\"Sweden Winnipeg, MN\"\\r\\n46,1,0,\"Cairns, Mr. Alexander\",male,,0,0,113798,31.0,,S,,,\\r\\n258,1,1,\"Serepeca, Miss. Augusta\",female,30.0,0,0,113798,31.0,,C,4,,\\r\\n31,1,1,\"Blank, Mr. Henry\",male,40.0,0,0,112277,31.0,A31,C,7,,\"Glen Ridge, NJ\"\\r\\n267,1,0,\"Smith, Mr. James Clinch\",male,56.0,0,0,17764,30.6958,A7,C,,,\"St James, Long Island, NY\"\\r\\n166,1,0,\"Hoyt, Mr. William Fisher\",male,,0,0,PC 17600,30.6958,,C,14,,\"New York, NY\"\\r\\n210,1,0,\"Molson, Mr. Harry Markland\",male,55.0,0,0,113787,30.5,C30,S,,,\"Montreal, PQ\"\\r\\n87,1,1,\"Daniel, Mr. Robert Williams\",male,27.0,0,0,113804,30.5,,S,3,,\"Philadelphia, PA\"\\r\\n38,1,0,\"Brady, Mr. John Bertram\",male,41.0,0,0,113054,30.5,A21,S,,,\"Pomeroy, WA\"\\r\\n278,1,1,\"Stahelin-Maeglin, Dr. Max\",male,32.0,0,0,13214,30.5,B50,C,3,,\"Basel, Switzerland\"\\r\\n254,1,1,\"Saalfeld, Mr. Adolphe\",male,,0,0,19988,30.5,C106,S,3,,\"Manchester, England\"\\r\\n231,1,1,\"Peuchen, Major. Arthur Godfrey\",male,52.0,0,0,113786,30.5,C104,S,6,,\"Toronto, ON\"\\r\\n513,2,1,\"Nasser, Mrs. Nicholas (Adele Achem)\",female,14.0,1,0,237736,30.0708,,C,,,\"New York, NY\"\\r\\n512,2,0,\"Nasser, Mr. Nicholas\",male,32.5,1,0,237736,30.0708,,C,,43.0,\"New York, NY\"\\r\\n14,1,1,\"Barkworth, Mr. Algernon Henry Wilson\",male,80.0,0,0,27042,30.0,A23,S,B,,\"Hessle, Yorks\"\\r\\n370,2,1,\"Christy, Miss. Julie Rachel\",female,25.0,1,1,237789,30.0,,S,12,,London\\r\\n189,1,0,\"Long, Mr. Milton Clyde\",male,29.0,0,0,113501,30.0,D6,S,,126.0,\"Springfield, MA\"\\r\\n22,1,1,\"Behr, Mr. Karl Howell\",male,26.0,0,0,111369,30.0,C148,C,5,,\"New York, NY\"\\r\\n371,2,1,\"Christy, Mrs. (Alice Frances)\",female,45.0,0,2,237789,30.0,,S,12,,London\\r\\n137,1,1,\"Graham, Miss. Margaret Edith\",female,19.0,0,0,112053,30.0,B42,S,3,,\"Greenwich, CT\"\\r\\n152,1,1,\"Hawksford, Mr. Walter James\",male,,0,0,16988,30.0,D45,S,3,,\"Kingston, Surrey\"\\r\\n68,1,1,\"Chevre, Mr. Paul Romaine\",male,45.0,0,0,PC 17594,29.7,A9,C,7,,\"Paris, France\"\\r\\n101,1,0,\"Dulles, Mr. William Crothers\",male,39.0,0,0,PC 17580,29.7,A18,C,,133.0,\"Philadelphia, PA\"\\r\\n196,1,1,\"Marechal, Mr. Pierre\",male,,0,0,11774,29.7,C47,C,7,,\"Paris, France\"\\r\\n174,1,0,\"Kent, Mr. Edward Austin\",male,58.0,0,0,11771,29.7,B37,C,,258.0,\"Buffalo, NY\"\\r\\n212,1,0,\"Natsch, Mr. Charles H\",male,37.0,0,1,PC 17596,29.7,C118,C,,,\"Brooklyn, NY\"\\r\\n1145,3,0,\"Rice, Master. George Hugh\",male,8.0,4,1,382652,29.125,,Q,,,\\r\\n1141,3,0,\"Rice, Master. Albert\",male,10.0,4,1,382652,29.125,,Q,,,\\r\\n1142,3,0,\"Rice, Master. Arthur\",male,4.0,4,1,382652,29.125,,Q,,,\\r\\n1143,3,0,\"Rice, Master. Eric\",male,7.0,4,1,382652,29.125,,Q,,,\\r\\n1146,3,0,\"Rice, Mrs. William (Margaret Norton)\",female,39.0,0,5,382652,29.125,,Q,,327.0,\\r\\n1144,3,0,\"Rice, Master. Eugene\",male,2.0,4,1,382652,29.125,,Q,,,\\r\\n359,2,1,\"Caldwell, Master. Alden Gates\",male,0.8333,0,2,248738,29.0,,S,13,,\"Bangkok, Thailand / Roseville, IL\"\\r\\n360,2,1,\"Caldwell, Mr. Albert Francis\",male,26.0,1,1,248738,29.0,,S,13,,\"Bangkok, Thailand / Roseville, IL\"\\r\\n361,2,1,\"Caldwell, Mrs. Albert Francis (Sylvia Mae Harbaugh)\",female,22.0,1,1,248738,29.0,,S,13,,\"Bangkok, Thailand / Roseville, IL\"\\r\\n169,1,0,\"Isham, Miss. Ann Elizabeth\",female,50.0,0,0,PC 17595,28.7125,C49,C,,,\"Paris, France New York, NY\"\\r\\n298,1,1,\"Tucker, Mr. Gilbert Milligan Jr\",male,31.0,0,0,2543,28.5375,C53,C,7,,\"Albany, NY\"\\r\\n224,1,0,\"Partner, Mr. Austen\",male,45.5,0,0,113043,28.5,C124,S,,166.0,\"Surbiton Hill, Surrey\"\\r\\n136,1,1,\"Gracie, Col. Archibald IV\",male,53.0,0,0,113780,28.5,C51,C,B,,\"Washington, DC\"\\r\\n1207,3,0,\"Skoog, Master. Karl Thorsten\",male,10.0,3,2,347088,27.9,,S,,,\\r\\n1210,3,0,\"Skoog, Mr. Wilhelm\",male,40.0,1,4,347088,27.9,,S,,,\\r\\n1206,3,0,\"Skoog, Master. Harald\",male,4.0,3,2,347088,27.9,,S,,,\\r\\n1211,3,0,\"Skoog, Mrs. William (Anna Bernhardina Karlsson)\",female,45.0,1,4,347088,27.9,,S,,,\\r\\n1208,3,0,\"Skoog, Miss. Mabel\",female,9.0,3,2,347088,27.9,,S,,,\\r\\n1209,3,0,\"Skoog, Miss. Margit Elizabeth\",female,2.0,3,2,347088,27.9,,S,,,\\r\\n110,1,0,\"Foreman, Mr. Benjamin Laventall\",male,30.0,0,0,113051,27.75,C111,C,,,\"New York, NY\"\\r\\n590,2,1,\"West, Miss. Barbara J\",female,0.9167,1,2,C.A. 34651,27.75,,S,10,,\"Bournmouth, England\"\\r\\n593,2,1,\"West, Mrs. Edwy Arthur (Ada Mary Worth)\",female,33.0,1,2,C.A. 34651,27.75,,S,10,,\"Bournmouth, England\"\\r\\n592,2,0,\"West, Mr. Edwy Arthur\",male,36.0,1,2,C.A. 34651,27.75,,S,,,\"Bournmouth, England\"\\r\\n591,2,1,\"West, Miss. Constance Mirium\",female,5.0,1,2,C.A. 34651,27.75,,S,10,,\"Bournmouth, England\"\\r\\n41,1,1,\"Brown, Mrs. James Joseph (Margaret Tobin)\",female,44.0,0,0,PC 17610,27.7208,B4,C,6,,\"Denver, CO\"\\r\\n59,1,1,\"Cassebeer, Mrs. Henry Arthur Jr (Eleanor Genevieve Fosdick)\",female,,0,0,17770,27.7208,,C,5,,\"New York, NY\"\\r\\n120,1,1,\"Frauenthal, Mr. Isaac Gerald\",male,43.0,1,0,17765,27.7208,D40,C,5,,\"New York, NY\"\\r\\n184,1,0,\"Lewy, Mr. Ervin G\",male,,0,0,PC 17612,27.7208,,C,,,\"Chicago, IL\"\\r\\n222,1,0,\"Ovies y Rodriguez, Mr. Servando\",male,28.5,0,0,PC 17562,27.7208,D43,C,,189.0,\"?Havana, Cuba\"\\r\\n242,1,1,\"Rosenbaum, Miss. Edith Louise\",female,33.0,0,0,PC 17613,27.7208,A11,C,11,,\"Paris, France\"\\r\\n392,2,1,\"del Carlo, Mrs. Sebastiano (Argenia Genovesi)\",female,24.0,1,0,SC/PARIS 2167,27.7208,,C,12,,\"Lucca, Italy / California\"\\r\\n391,2,0,\"del Carlo, Mr. Sebastiano\",male,29.0,1,0,SC/PARIS 2167,27.7208,,C,,295.0,\"Lucca, Italy / California\"\\r\\n186,1,1,\"Lindstrom, Mrs. Carl Johan (Sigrid Posse)\",female,55.0,0,0,112377,27.7208,,C,6,,\"Stockholm, Sweden\"\\r\\n299,1,0,\"Uruchurtu, Don. Manuel E\",male,40.0,0,0,PC 17601,27.7208,,C,,,\"Mexico City, Mexico\"\\r\\n283,1,0,\"Stewart, Mr. Albert A\",male,,0,0,PC 17605,27.7208,,C,,,\"Gallipolis, Ohio / ? Paris / New York\"\\r\\n48,1,1,\"Candee, Mrs. Edward (Helen Churchill Hungerford)\",female,53.0,0,0,PC 17606,27.4458,,C,6,,\"Washington, DC\"\\r\\n460,2,1,\"Jacobsohn, Mrs. Sidney Samuel (Amy Frances Christy)\",female,24.0,2,1,243847,27.0,,S,12,,London\\r\\n459,2,0,\"Jacobsohn, Mr. Sidney Samuel\",male,42.0,1,0,243847,27.0,,S,,,London\\r\\n179,1,0,\"Klaber, Mr. Herman\",male,,0,0,113028,26.55,C124,S,,,\"Portland, OR\"\\r\\n321,1,0,\"Wright, Mr. George\",male,62.0,0,0,113807,26.55,,S,,,\"Halifax, NS\"\\r\\n83,1,1,\"Crosby, Mrs. Edward Gifford (Catherine Elizabeth Halstead)\",female,64.0,1,1,112901,26.55,B26,S,7,,\"Milwaukee, WI\"\\r\\n45,1,0,\"Butt, Major. Archibald Willingham\",male,45.0,0,0,113050,26.55,B38,S,,,\"Washington, DC\"\\r\\n185,1,0,\"Lindeberg-Lind, Mr. Erik Gustaf (\"\"Mr Edward Lingrey\"\")\",male,42.0,0,0,17475,26.55,,S,,,\"Stockholm, Sweden\"\\r\\n259,1,1,\"Seward, Mr. Frederic Kimber\",male,34.0,0,0,113794,26.55,,S,7,,\"New York, NY\"\\r\\n164,1,1,\"Homer, Mr. Harry (\"\"Mr E Haven\"\")\",male,35.0,0,0,111426,26.55,,C,15,,\"Indianapolis, IN\"\\r\\n118,1,0,\"Franklin, Mr. Thomas Parham\",male,,0,0,113778,26.55,D34,S,,,\"Westcliff-on-Sea, Essex\"\\r\\n305,1,0,\"Weir, Col. John\",male,60.0,0,0,113800,26.55,,S,,,\"England Salt Lake City, Utah\"\\r\\n86,1,1,\"Daly, Mr. Peter Denis \",male,51.0,0,0,113055,26.55,E17,S,5 9,,\"Lima, Peru\"\\r\\n315,1,1,\"Willard, Miss. Constance\",female,21.0,0,0,113795,26.55,,S,8 10,,\"Duluth, MN\"\\r\\n37,1,1,\"Bradley, Mr. George (\"\"George Arthur Brayton\"\")\",male,,0,0,111427,26.55,,S,9,,\"Los Angeles, CA\"\\r\\n80,1,0,\"Crafton, Mr. John Bertram\",male,,0,0,113791,26.55,,S,,,\"Roachdale, IN\"\\r\\n34,1,0,\"Borebank, Mr. John James\",male,42.0,0,0,110489,26.55,D22,S,,,\"London / Winnipeg, MB\"\\r\\n5,1,1,\"Anderson, Mr. Harry\",male,48.0,0,0,19952,26.55,E12,S,3,,\"New York, NY\"\\r\\n29,1,1,\"Bjornstrom-Steffansson, Mr. Mauritz Hakan\",male,28.0,0,0,110564,26.55,C52,S,D,,\"Stockholm, Sweden / Washington, DC\"\\r\\n248,1,0,\"Rowe, Mr. Alfred G\",male,33.0,0,0,113790,26.55,,S,,109.0,London\\r\\n266,1,0,\"Smart, Mr. John Montgomery\",male,56.0,0,0,113792,26.55,,S,,,\"New York, NY\"\\r\\n205,1,0,\"Millet, Mr. Francis Davis\",male,65.0,0,0,13509,26.55,E38,S,,249.0,\"East Bridgewater, MA\"\\r\\n33,1,1,\"Bonnell, Miss. Elizabeth\",female,58.0,0,0,113783,26.55,C103,S,8,,\"Birkdale, England Cleveland, Ohio\"\\r\\n279,1,0,\"Stead, Mr. William Thomas\",male,62.0,0,0,113514,26.55,C87,S,,,\"Wimbledon Park, London / Hayling Island, Hants\"\\r\\n240,1,1,\"Romaine, Mr. Charles Hallace (\"\"Mr C Rolmane\"\")\",male,45.0,0,0,111428,26.55,,S,9,,\"New York, NY\"\\r\\n109,1,1,\"Flynn, Mr. John Irwin (\"\"Irving\"\")\",male,36.0,0,0,PC 17474,26.3875,E25,S,5,,\"Brooklyn, NY\"\\r\\n47,1,1,\"Calderhead, Mr. Edward Pennington\",male,42.0,0,0,PC 17476,26.2875,E24,S,5,,\"New York, NY\"\\r\\n202,1,1,\"McGough, Mr. James Robert\",male,36.0,0,0,PC 17473,26.2875,E25,S,7,,\"Philadelphia, PA\"\\r\\n261,1,1,\"Silverthorne, Mr. Spencer Victor\",male,35.0,0,0,PC 17475,26.2875,E24,S,5,,\"St Louis, MO\"\\r\\n216,1,1,\"Newsom, Miss. Helen Monypeny\",female,19.0,0,2,11752,26.2833,D47,S,5,,\"New York, NY\"\\r\\n377,2,1,\"Collyer, Miss. Marjorie \"\"Lottie\"\"\",female,8.0,0,2,C.A. 31921,26.25,,S,14,,\"Bishopstoke, Hants / Fayette Valley, ID\"\\r\\n434,2,1,\"Hart, Miss. Eva Miriam\",female,7.0,0,2,F.C.C. 13529,26.25,,S,14,,\"Ilford, Essex / Winnipeg, MB\"\\r\\n435,2,0,\"Hart, Mr. Benjamin\",male,43.0,1,1,F.C.C. 13529,26.25,,S,,,\"Ilford, Essex / Winnipeg, MB\"\\r\\n436,2,1,\"Hart, Mrs. Benjamin (Esther Ada Bloomfield)\",female,45.0,1,1,F.C.C. 13529,26.25,,S,14,,\"Ilford, Essex / Winnipeg, MB\"\\r\\n378,2,0,\"Collyer, Mr. Harvey\",male,31.0,1,1,C.A. 31921,26.25,,S,,,\"Bishopstoke, Hants / Fayette Valley, ID\"\\r\\n379,2,1,\"Collyer, Mrs. Harvey (Charlotte Annie Tate)\",female,31.0,1,1,C.A. 31921,26.25,,S,14,,\"Bishopstoke, Hants / Fayette Valley, ID\"\\r\\n455,2,0,\"Howard, Mr. Benjamin\",male,63.0,1,0,24065,26.0,,S,,,\"Swindon, England\"\\r\\n456,2,0,\"Howard, Mrs. Benjamin (Ellen Truelove Arman)\",female,60.0,1,0,24065,26.0,,S,,,\"Swindon, England\"\\r\\n489,2,1,\"Louch, Mrs. Charles Alexander (Alice Adelaide Slow)\",female,42.0,1,0,SC/AH 3085,26.0,,S,,,\"Weston-Super-Mare, Somerset\"\\r\\n466,2,0,\"Kantor, Mr. Sinai\",male,34.0,1,0,244367,26.0,,S,,283.0,\"Moscow / Bronx, NY\"\\r\\n467,2,1,\"Kantor, Mrs. Sinai (Miriam Sternin)\",female,24.0,1,0,244367,26.0,,S,12,,\"Moscow / Bronx, NY\"\\r\\n585,2,0,\"Weisz, Mr. Leopold\",male,27.0,1,0,228414,26.0,,S,,293.0,\"Bromsgrove, England / Montreal, PQ\"\\r\\n451,2,0,\"Hold, Mr. Stephen\",male,44.0,1,0,26707,26.0,,S,,,\"England / Sacramento, CA\"\\r\\n557,2,1,\"Shelley, Mrs. William (Imanita Parrish Hall)\",female,25.0,0,1,230433,26.0,,S,12,,\"Deer Lodge, MT\"\\r\\n556,2,0,\"Sharp, Mr. Percival James R\",male,27.0,0,0,244358,26.0,,S,,,\"Hornsey, England\"\\r\\n542,2,1,\"Quick, Mrs. Frederick Charles (Jane Richards)\",female,33.0,0,2,26360,26.0,,S,11,,\"Plymouth, Devon / Detroit, MI\"\\r\\n541,2,1,\"Quick, Miss. Winifred Vera\",female,8.0,1,1,26360,26.0,,S,11,,\"Plymouth, Devon / Detroit, MI\"\\r\\n540,2,1,\"Quick, Miss. Phyllis May\",female,2.0,1,1,26360,26.0,,S,11,,\"Plymouth, Devon / Detroit, MI\"\\r\\n534,2,1,\"Phillips, Miss. Kate Florence (\"\"Mrs Kate Louise Phillips Marshall\"\")\",female,19.0,0,0,250655,26.0,,S,11,,\"Worcester, England\"\\r\\n529,2,1,\"Parrish, Mrs. (Lutie Davis)\",female,50.0,0,1,230433,26.0,,S,12,,\"Woodford County, KY\"\\r\\n515,2,1,\"Navratil, Master. Michel M\",male,3.0,1,1,230080,26.0,F2,S,D,,\"Nice, France\"\\r\\n514,2,1,\"Navratil, Master. Edmond Roger\",male,2.0,1,1,230080,26.0,F2,S,D,,\"Nice, France\"\\r\\n509,2,0,\"Morley, Mr. Henry Samuel (\"\"Mr Henry Marshall\"\")\",male,39.0,0,0,250655,26.0,,S,,,\\r\\n500,2,0,\"McKane, Mr. Peter David\",male,46.0,0,0,28403,26.0,,S,,,\"Rochester, NY\"\\r\\n586,2,1,\"Weisz, Mrs. Leopold (Mathilde Francoise Pede)\",female,29.0,1,0,228414,26.0,,S,10,,\"Bromsgrove, England / Montreal, PQ\"\\r\\n488,2,0,\"Louch, Mr. Charles Alexander\",male,50.0,1,0,SC/AH 3085,26.0,,S,,121.0,\"Weston-Super-Mare, Somerset\"\\r\\n476,2,0,\"Lahtinen, Rev. William\",male,30.0,1,1,250651,26.0,,S,,,\"Minneapolis, MN\"\\r\\n475,2,0,\"Lahtinen, Mrs. William (Anna Sylfven)\",female,26.0,1,1,250651,26.0,,S,,,\"Minneapolis, MN\"\\r\\n452,2,1,\"Hold, Mrs. Stephen (Annie Margaret Hill)\",female,29.0,1,0,26707,26.0,,S,10,,\"England / Sacramento, CA\"\\r\\n516,2,0,\"Navratil, Mr. Michel (\"\"Louis M Hoffman\"\")\",male,36.5,0,2,230080,26.0,F2,S,,15.0,\"Nice, France\"\\r\\n416,2,0,\"Gaskell, Mr. Alfred\",male,16.0,0,0,239865,26.0,,S,,,\"Liverpool / Montreal, PQ\"\\r\\n368,2,0,\"Chapman, Mr. John Henry\",male,37.0,1,0,SC/AH 29037,26.0,,S,,17.0,\"Cornwall / Spokane, WA\"\\r\\n171,1,0,\"Jones, Mr. Charles Cresson\",male,46.0,0,0,694,26.0,,S,,80.0,\"Bennington, VT\"\\r\\n172,1,0,\"Julian, Mr. Henry Forbes\",male,50.0,0,0,113044,26.0,E60,S,,,London\\r\\n194,1,0,\"Maguire, Mr. John Edward\",male,30.0,0,0,110469,26.0,C106,S,,,\"Brockton, MA\"\\r\\n372,2,0,\"Clarke, Mr. Charles Valentine\",male,29.0,1,0,2003,26.0,,S,,,\"England / San Francisco, CA\"\\r\\n217,1,0,\"Nicholson, Mr. Arthur Ernest\",male,64.0,0,0,693,26.0,,S,,263.0,\"Isle of Wight, England\"\\r\\n269,1,0,\"Smith, Mr. Richard William\",male,,0,0,113056,26.0,A19,S,,,\"Streatham, Surrey\"\\r\\n328,2,0,\"Angle, Mr. William A\",male,34.0,1,0,226875,26.0,,S,,,\"Warwick, England\"\\r\\n407,2,1,\"Faunthorpe, Mrs. Lizzie (Elizabeth Anne Wilkinson)\",female,29.0,1,0,2926,26.0,,S,16,,\\r\\n336,2,1,\"Beane, Mr. Edward\",male,32.0,1,0,2908,26.0,,S,13,,\"Norwich / New York, NY\"\\r\\n25,1,0,\"Birnbaum, Mr. Jakob\",male,25.0,0,0,13905,26.0,,C,,148.0,\"San Francisco, CA\"\\r\\n337,2,1,\"Beane, Mrs. Edward (Ethel Clarke)\",female,19.0,1,0,2908,26.0,,S,13,,\"Norwich / New York, NY\"\\r\\n338,2,0,\"Beauchamp, Mr. Henry James\",male,28.0,0,0,244358,26.0,,S,,,England\\r\\n397,2,0,\"Downton, Mr. William James\",male,54.0,0,0,28403,26.0,,S,,,\"Holley, NY\"\\r\\n58,1,0,\"Case, Mr. Howard Brown\",male,49.0,0,0,19924,26.0,,S,,,\"Ascot, Berkshire / Rochester, NY\"\\r\\n412,2,0,\"Fynney, Mr. Joseph J\",male,35.0,0,0,239865,26.0,,S,,322.0,\"Liverpool / Montreal, PQ\"\\r\\n369,2,0,\"Chapman, Mrs. John Henry (Sara Elizabeth Lawry)\",female,29.0,1,0,SC/AH 29037,26.0,,S,,,\"Cornwall / Spokane, WA\"\\r\\n373,2,1,\"Clarke, Mrs. Charles V (Ada Maria Winfield)\",female,28.0,1,0,2003,26.0,,S,14,,\"England / San Francisco, CA\"\\r\\n366,2,0,\"Carter, Rev. Ernest Courtenay\",male,54.0,1,0,244252,26.0,,S,,,London\\r\\n353,2,1,\"Bryhl, Miss. Dagmar Jenny Ingeborg \",female,20.0,1,0,236853,26.0,,S,12,,\"Skara, Sweden / Rockford, IL\"\\r\\n329,2,1,\"Angle, Mrs. William A (Florence \"\"Mary\"\" Agnes Hughes)\",female,36.0,1,0,226875,26.0,,S,11,,\"Warwick, England\"\\r\\n406,2,0,\"Faunthorpe, Mr. Harry\",male,40.0,1,0,2926,26.0,,S,,286.0,\"England / Philadelphia, PA\"\\r\\n365,2,0,\"Carter, Mrs. Ernest Courtenay (Lilian Hughes)\",female,44.0,1,0,244252,26.0,,S,,,London\\r\\n354,2,0,\"Bryhl, Mr. Kurt Arnold Gottfrid\",male,25.0,1,0,236853,26.0,,S,,,\"Skara, Sweden / Rockford, IL\"\\r\\n256,1,1,\"Salomon, Mr. Abraham L\",male,,0,0,111163,26.0,,S,1,,\"New York, NY\"\\r\\n181,1,1,\"Leader, Dr. Alice (Farnham)\",female,49.0,0,0,17465,25.9292,D17,S,8,,\"New York, NY\"\\r\\n288,1,1,\"Swift, Mrs. Frederick Joel (Margaret Welles Barron)\",female,48.0,0,0,17466,25.9292,D17,S,8,,\"Brooklyn, NY\"\\r\\n15,1,0,\"Baumann, Mr. John D\",male,,0,0,PC 17318,25.925,,S,,,\"New York, NY\"\\r\\n219,1,1,\"Omont, Mr. Alfred Fernand\",male,,0,0,F.C. 12998,25.7417,,C,7,,\"Paris, France\"\\r\\n79,1,1,\"Cornell, Mrs. Robert Clifford (Malvina Helen Lamson)\",female,55.0,2,0,11770,25.7,C101,S,2,,\"New York, NY\"\\r\\n75,1,0,\"Colley, Mr. Edward Pomeroy\",male,47.0,0,0,5727,25.5875,E58,S,,,\"Victoria, BC\"\\r\\n955,3,0,\"Lefebre, Miss. Ida\",female,,3,1,4133,25.4667,,S,,,\\r\\n958,3,0,\"Lefebre, Mrs. Frank (Frances)\",female,,0,4,4133,25.4667,,S,,,\\r\\n957,3,0,\"Lefebre, Miss. Mathilde\",female,,3,1,4133,25.4667,,S,,,\\r\\n956,3,0,\"Lefebre, Miss. Jeannie\",female,,3,1,4133,25.4667,,S,,,\\r\\n954,3,0,\"Lefebre, Master. Henry Forbes\",male,,3,1,4133,25.4667,,S,,,\\r\\n1265,3,0,\"Van Impe, Miss. Catharina\",female,10.0,0,2,345773,24.15,,S,,,\\r\\n964,3,0,\"Lester, Mr. James\",male,39.0,0,0,A/4 48871,24.15,,S,,,\\r\\n1029,3,0,\"Moran, Mr. Daniel J\",male,,1,0,371110,24.15,,Q,,,\\r\\n1266,3,0,\"Van Impe, Mr. Jean Baptiste\",male,36.0,1,1,345773,24.15,,S,,,\\r\\n1028,3,1,\"Moran, Miss. Bertha\",female,,1,0,371110,24.15,,Q,16,,\\r\\n1163,3,0,\"Ryan, Mr. Patrick\",male,,0,0,371110,24.15,,Q,,,\\r\\n754,3,0,\"Davies, Mr. John Samuel\",male,21.0,2,0,A/4 48871,24.15,,S,,,\"West Bromwich, England Pontiac, MI\"\\r\\n752,3,0,\"Davies, Mr. Alfred J\",male,24.0,2,0,A/4 48871,24.15,,S,,,\"West Bromwich, England Pontiac, MI\"\\r\\n1267,3,0,\"Van Impe, Mrs. Jean Baptiste (Rosalie Paula Govaert)\",female,30.0,1,1,345773,24.15,,S,,,\\r\\n323,2,0,\"Abelson, Mr. Samuel\",male,30.0,1,0,P/PP 3381,24.0,,C,,,\"Russia New York, NY\"\\r\\n324,2,1,\"Abelson, Mrs. Samuel (Hannah Wizosky)\",female,28.0,1,0,P/PP 3381,24.0,,C,10,,\"Russia New York, NY\"\\r\\n903,3,0,\"Johnston, Mrs. Andrew G (Elizabeth \"\"Lily\"\" Watson)\",female,,1,2,W./C. 6607,23.45,,S,,,\\r\\n901,3,0,\"Johnston, Miss. Catherine Helen \"\"Carrie\"\"\",female,,1,2,W./C. 6607,23.45,,S,,,\\r\\n902,3,0,\"Johnston, Mr. Andrew G\",male,,1,2,W./C. 6607,23.45,,S,,,\\r\\n900,3,0,\"Johnston, Master. William Arthur \"\"Willie\"\"\",male,,1,2,W./C. 6607,23.45,,S,,,\\r\\n1001,3,1,\"McCoy, Miss. Agnes\",female,,2,0,367226,23.25,,Q,16,,\\r\\n1002,3,1,\"McCoy, Miss. Alicia\",female,,2,0,367226,23.25,,Q,16,,\\r\\n1003,3,1,\"McCoy, Mr. Bernard\",male,,2,0,367226,23.25,,Q,16,,\\r\\n587,2,1,\"Wells, Master. Ralph Lester\",male,2.0,1,1,29103,23.0,,S,14,,\"Cornwall / Akron, OH\"\\r\\n588,2,1,\"Wells, Miss. Joan\",female,4.0,1,1,29103,23.0,,S,14,,\"Cornwall / Akron, OH\"\\r\\n446,2,1,\"Hocking, Miss. Ellen \"\"Nellie\"\"\",female,20.0,2,1,29105,23.0,,S,4,,\"Cornwall / Akron, OH\"\\r\\n589,2,1,\"Wells, Mrs. Arthur Henry (\"\"Addie\"\" Dart Trevaskis)\",female,29.0,0,2,29103,23.0,,S,14,,\"Cornwall / Akron, OH\"\\r\\n449,2,1,\"Hocking, Mrs. Elizabeth (Eliza Needs)\",female,54.0,1,3,29105,23.0,,S,4,,\"Cornwall / Akron, OH\"\\r\\n396,2,1,\"Doling, Mrs. John T (Ada Julia Bone)\",female,34.0,0,1,231919,23.0,,S,,,Southampton\\r\\n395,2,1,\"Doling, Miss. Elsie\",female,18.0,0,1,231919,23.0,,S,,,Southampton\\r\\n869,3,0,\"Holthen, Mr. Johan Martin\",male,28.0,0,0,C 4001,22.525,,S,,,\\r\\n620,3,0,\"Andersen, Mr. Albert Karvin\",male,32.0,0,0,C 4001,22.525,,S,,260.0,\"Bergen, Norway\"\\r\\n1083,3,0,\"Olsen, Mr. Henry Margido\",male,28.0,0,0,C 4001,22.525,,S,,173.0,\\r\\n1122,3,1,\"Peter, Miss. Anna\",female,,1,1,2668,22.3583,F E69,C,D,,\\r\\n1123,3,1,\"Peter, Mrs. Catherine (Catherine Rizk)\",female,,0,2,2668,22.3583,,C,D,,\\r\\n1121,3,1,\"Peter, Master. Michael J\",male,,1,1,2668,22.3583,,C,C,,\\r\\n935,3,1,\"Kink-Heilmann, Mr. Anton\",male,29.0,3,1,315153,22.025,,S,2,,\\r\\n934,3,1,\"Kink-Heilmann, Miss. Luise Gretchen\",female,4.0,0,2,315153,22.025,,S,2,,\\r\\n936,3,1,\"Kink-Heilmann, Mrs. Anton (Luise Heilmann)\",female,26.0,1,1,315153,22.025,,S,2,,\\r\\n1186,3,0,\"Samaan, Mr. Youssef\",male,,2,0,2662,21.6792,,C,,,\\r\\n1184,3,0,\"Samaan, Mr. Elias\",male,,2,0,2662,21.6792,,C,,,\\r\\n1185,3,0,\"Samaan, Mr. Hanna\",male,,2,0,2662,21.6792,,C,,,\\r\\n1100,3,0,\"Palsson, Mrs. Nils (Alma Cornelia Berglund)\",female,29.0,0,4,349909,21.075,,S,,206.0,\\r\\n1098,3,0,\"Palsson, Miss. Stina Viola\",female,3.0,3,1,349909,21.075,,S,,,\\r\\n1096,3,0,\"Palsson, Master. Gosta Leonard\",male,2.0,3,1,349909,21.075,,S,,4.0,\\r\\n1099,3,0,\"Palsson, Miss. Torborg Danira\",female,8.0,3,1,349909,21.075,,S,,,\\r\\n1097,3,0,\"Palsson, Master. Paul Folke\",male,6.0,3,1,349909,21.075,,S,,,\\r\\n578,2,0,\"Ware, Mr. John James\",male,30.0,1,0,CA 31352,21.0,,S,,,\"Bristol, England / New Britain, CT\"\\r\\n580,2,1,\"Ware, Mrs. John James (Florence Louise Long)\",female,31.0,0,0,CA 31352,21.0,,S,10,,\"Bristol, England / New Britain, CT\"\\r\\n574,2,0,\"Turpin, Mr. William John Robert\",male,29.0,1,0,11668,21.0,,S,,,\"Plymouth, England\"\\r\\n545,2,1,\"Renouf, Mrs. Peter Henry (Lillian Jefferys)\",female,30.0,3,0,31027,21.0,,S,,,\"Elizabeth, NJ\"\\r\\n382,2,0,\"Corey, Mrs. Percy C (Mary Phyllis Elizabeth Miller)\",female,,0,0,F.C.C. 13534,21.0,,S,,,\"Upper Burma, India Pittsburgh, PA\"\\r\\n362,2,1,\"Cameron, Miss. Clear Annie\",female,35.0,0,0,F.C.C. 13528,21.0,,S,14,,\"Mamaroneck, NY\"\\r\\n544,2,0,\"Renouf, Mr. Peter Henry\",male,34.0,1,0,31027,21.0,,S,12,,\"Elizabeth, NJ\"\\r\\n577,2,1,\"Walcroft, Miss. Nellie\",female,31.0,0,0,F.C.C. 13528,21.0,,S,14,,\"Mamaroneck, NY\"\\r\\n575,2,0,\"Turpin, Mrs. William John Robert (Dorothy Ann Wonnacott)\",female,27.0,1,0,11668,21.0,,S,,,\"Plymouth, England\"\\r\\n413,2,0,\"Gale, Mr. Harry\",male,38.0,1,0,28664,21.0,,S,,,\"Cornwall / Clear Creek, CO\"\\r\\n535,2,0,\"Phillips, Mr. Escott Robert\",male,43.0,0,1,S.O./P.P. 2,21.0,,S,,,\"Ilfracombe, Devon\"\\r\\n414,2,0,\"Gale, Mr. Shadrach\",male,34.0,1,0,28664,21.0,,S,,,\"Cornwall / Clear Creek, CO\"\\r\\n468,2,0,\"Karnes, Mrs. J Frank (Claire Bennett)\",female,22.0,0,0,F.C.C. 13534,21.0,,S,,,\"India / Pittsburgh, PA\"\\r\\n533,2,1,\"Phillips, Miss. Alice Frances Louisa\",female,21.0,0,1,S.O./P.P. 2,21.0,,S,12,,\"Ilfracombe, Devon\"\\r\\n763,3,1,\"Dean, Miss. Elizabeth Gladys \"\"Millvina\"\"\",female,0.1667,1,2,C.A. 2315,20.575,,S,10,,\"Devon, England Wichita, KS\"\\r\\n765,3,1,\"Dean, Mrs. Bertram (Eva Georgetta Light)\",female,33.0,1,2,C.A. 2315,20.575,,S,10,,\"Devon, England Wichita, KS\"\\r\\n764,3,0,\"Dean, Mr. Bertram Frank\",male,26.0,1,2,C.A. 2315,20.575,,S,,,\"Devon, England Wichita, KS\"\\r\\n762,3,1,\"Dean, Master. Bertram Vere\",male,1.0,1,2,C.A. 2315,20.575,,S,10,,\"Devon, England Wichita, KS\"\\r\\n823,3,1,\"Goldsmith, Mrs. Frank John (Emily Alice Brown)\",female,31.0,1,1,363291,20.525,,S,C D,,\"Strood, Kent, England Detroit, MI\"\\r\\n820,3,1,\"Goldsmith, Master. Frank John William \"\"Frankie\"\"\",male,9.0,0,2,363291,20.525,,S,C D,,\"Strood, Kent, England Detroit, MI\"\\r\\n821,3,0,\"Goldsmith, Mr. Frank John\",male,33.0,1,1,363291,20.525,,S,,,\"Strood, Kent, England Detroit, MI\"\\r\\n601,3,0,\"Abbott, Master. Eugene Joseph\",male,13.0,0,2,C.A. 2673,20.25,,S,,,\"East Providence, RI\"\\r\\n602,3,0,\"Abbott, Mr. Rossmore Edward\",male,16.0,1,1,C.A. 2673,20.25,,S,,190.0,\"East Providence, RI\"\\r\\n603,3,1,\"Abbott, Mrs. Stanton (Rosa Hunt)\",female,35.0,1,1,C.A. 2673,20.25,,S,A,,\"East Providence, RI\"\\r\\n1157,3,0,\"Rosblom, Mr. Viktor Richard\",male,18.0,1,1,370129,20.2125,,S,,,\\r\\n1156,3,0,\"Rosblom, Miss. Salli Helena\",female,2.0,1,1,370129,20.2125,,S,,,\\r\\n1158,3,0,\"Rosblom, Mrs. Viktor (Helena Wilhelmina)\",female,41.0,0,2,370129,20.2125,,S,,,\\r\\n842,3,0,\"Hagland, Mr. Ingvald Olai Olsen\",male,,1,0,65303,19.9667,,S,,,\\r\\n843,3,0,\"Hagland, Mr. Konrad Mathias Reiersen\",male,,1,0,65304,19.9667,,S,,,\\r\\n502,2,1,\"Mellinger, Mrs. (Elizabeth Anne Maidment)\",female,41.0,0,1,250644,19.5,,S,14,,\"England / Bennington, VT\"\\r\\n501,2,1,\"Mellinger, Miss. Madeleine Violet\",female,13.0,0,1,250644,19.5,,S,14,,\"England / Bennington, VT\"\\r\\n657,3,1,\"Baclini, Miss. Eugenie\",female,0.75,2,1,2666,19.2583,,C,C,,\"Syria New York, NY\"\\r\\n658,3,1,\"Baclini, Miss. Helene Barbara\",female,0.75,2,1,2666,19.2583,,C,C,,\"Syria New York, NY\"\\r\\n659,3,1,\"Baclini, Miss. Marie Catherine\",female,5.0,2,1,2666,19.2583,,C,C,,\"Syria New York, NY\"\\r\\n660,3,1,\"Baclini, Mrs. Solomon (Latifa Qurban)\",female,24.0,0,3,2666,19.2583,,C,C,,\"Syria New York, NY\"\\r\\n613,3,1,\"Albimona, Mr. Nassef Cassem\",male,26.0,0,0,2699,18.7875,,C,15,,\"Syria Fredericksburg, VA\"\\r\\n855,3,0,\"Hassan, Mr. Houssein G N\",male,11.0,0,0,2699,18.7875,,C,,,\\r\\n550,2,1,\"Richards, Mrs. Sidney (Emily Hocking)\",female,24.0,2,3,29106,18.75,,S,4,,\"Cornwall / Akron, OH\"\\r\\n549,2,1,\"Richards, Master. William Rowe\",male,3.0,1,1,29106,18.75,,S,4,,\"Cornwall / Akron, OH\"\\r\\n548,2,1,\"Richards, Master. George Sibley\",male,0.8333,1,1,29106,18.75,,S,4,,\"Cornwall / Akron, OH\"\\r\\n1273,3,0,\"Vander Planke, Miss. Augusta Maria\",female,18.0,2,0,345764,18.0,,S,,,\\r\\n1276,3,0,\"Vander Planke, Mrs. Julius (Emelia Maria Vandemoortele)\",female,31.0,1,0,345763,18.0,,S,,,\\r\\n1275,3,0,\"Vander Planke, Mr. Leo Edmondus\",male,16.0,2,0,345764,18.0,,S,,,\\r\\n1274,3,0,\"Vander Planke, Mr. Julius\",male,31.0,3,0,345763,18.0,,S,,,\\r\\n636,3,0,\"Arnold-Franchi, Mrs. Josef (Josefine Franchi)\",female,18.0,1,0,349237,17.8,,S,,,\"Altdorf, Switzerland\"\\r\\n635,3,0,\"Arnold-Franchi, Mr. Josef\",male,25.0,1,0,349237,17.8,,S,,,\"Altdorf, Switzerland\"\\r\\n758,3,1,\"de Messemaeker, Mr. Guillaume Joseph\",male,36.5,1,0,345572,17.4,,S,15,,\"Tampico, MT\"\\r\\n759,3,1,\"de Messemaeker, Mrs. Guillaume Joseph (Emma)\",female,36.0,1,0,345572,17.4,,S,13,,\"Tampico, MT\"\\r\\n1189,3,1,\"Sandstrom, Miss. Marguerite Rut\",female,4.0,1,1,PP 9549,16.7,G6,S,13,,\\r\\n1188,3,1,\"Sandstrom, Mrs. Hjalmar (Agnes Charlotta Bengtsson)\",female,24.0,0,2,PP 9549,16.7,G6,S,13,,\\r\\n1187,3,1,\"Sandstrom, Miss. Beatrice Irene\",female,1.0,1,1,PP 9549,16.7,G6,S,13,,\\r\\n756,3,0,\"Davison, Mr. Thomas Henry\",male,,1,0,386525,16.1,,S,,,\"Liverpool, England Bedford, OH\"\\r\\n757,3,1,\"Davison, Mrs. Thomas Henry (Mary E Finck)\",female,,1,0,386525,16.1,,S,16,,\"Liverpool, England Bedford, OH\"\\r\\n1010,3,0,\"McNamee, Mr. Neal\",male,24.0,1,0,376566,16.1,,S,,,\\r\\n975,3,0,\"Lobb, Mrs. William Arthur (Cordelia K Stanlick)\",female,26.0,1,0,A/5. 3336,16.1,,S,,,\\r\\n739,3,0,\"Cribb, Mr. John Hatfield\",male,44.0,0,1,371362,16.1,,S,,,\"Bournemouth, England Newark, NJ\"\\r\\n738,3,1,\"Cribb, Miss. Laura Alice\",female,17.0,0,1,371362,16.1,,S,12,,\"Bournemouth, England Newark, NJ\"\\r\\n974,3,0,\"Lobb, Mr. William Arthur\",male,30.0,1,0,A/5. 3336,16.1,,S,,,\\r\\n1011,3,0,\"McNamee, Mrs. Neal (Eileen O\\'Leary)\",female,19.0,1,0,376566,16.1,,S,,53.0,\\r\\n1246,3,0,\"Thorneycroft, Mr. Percival\",male,,1,0,376564,16.1,,S,,,\\r\\n1247,3,1,\"Thorneycroft, Mrs. Percival (Florence Kate White)\",female,,1,0,376564,16.1,,S,10,,\\r\\n685,3,0,\"Bowen, Mr. David John \"\"Dai\"\"\",male,21.0,0,0,54636,16.1,,S,,,\"Treherbert, Cardiff, Wales\"\\r\\n1294,3,0,\"Williams, Mr. Leslie\",male,28.5,0,0,54636,16.1,,S,,14.0,\\r\\n497,2,0,\"Maybery, Mr. Frank Hubert\",male,40.0,0,0,239059,16.0,,S,,,\"Weston-Super-Mare / Moose Jaw, SK\"\\r\\n441,2,1,\"Hewlett, Mrs. (Mary D Kingcome) \",female,55.0,0,0,248706,16.0,,S,13,,\"India / Rapid City, SD\"\\r\\n734,3,1,\"Coutts, Master. William Loch \"\"William\"\"\",male,3.0,1,1,C.A. 37671,15.9,,S,2,,\"England Brooklyn, NY\"\\r\\n733,3,1,\"Coutts, Master. Eden Leslie \"\"Neville\"\"\",male,9.0,1,1,C.A. 37671,15.9,,S,2,,\"England Brooklyn, NY\"\\r\\n735,3,1,\"Coutts, Mrs. William (Winnie \"\"Minnie\"\" Treanor)\",female,36.0,0,2,C.A. 37671,15.9,,S,2,,\"England Brooklyn, NY\"\\r\\n655,3,0,\"Backstrom, Mr. Karl Alfred\",male,32.0,1,0,3101278,15.85,,S,D,,\"Ruotsinphytaa, Finland New York, NY\"\\r\\n844,3,0,\"Hakkarainen, Mr. Pekka Pietari\",male,28.0,1,0,STON/O2. 3101279,15.85,,S,,,\\r\\n845,3,1,\"Hakkarainen, Mrs. Pekka Pietari (Elin Matilda Dolck)\",female,24.0,1,0,STON/O2. 3101279,15.85,,S,15,,\\r\\n656,3,1,\"Backstrom, Mrs. Karl Alfred (Maria Mathilda Gustafsson)\",female,33.0,3,0,3101278,15.85,,S,,,\"Ruotsinphytaa, Finland New York, NY\"\\r\\n583,2,1,\"Watt, Mrs. James (Elizabeth \"\"Bessie\"\" Inglis Milne)\",female,40.0,0,0,C.A. 33595,15.75,,S,9,,\"Aberdeen / Portland, OR\"\\r\\n582,2,1,\"Watt, Miss. Bertha J\",female,12.0,0,0,C.A. 33595,15.75,,S,9,,\"Aberdeen / Portland, OR\"\\r\\n1050,3,1,\"Nakid, Mrs. Said (Waika \"\"Mary\"\" Mowad)\",female,19.0,1,1,2653,15.7417,,C,C,,\\r\\n1048,3,1,\"Nakid, Miss. Maria (\"\"Mary\"\")\",female,1.0,0,2,2653,15.7417,,C,C,,\\r\\n1049,3,1,\"Nakid, Mr. Sahid\",male,20.0,1,1,2653,15.7417,,C,C,,\\r\\n495,2,0,\"Mangiavacchi, Mr. Serafino Emilio\",male,,0,0,SC/A.3 2861,15.5792,,C,,,\"New York, NY\"\\r\\n969,3,0,\"Lindell, Mrs. Edvard Bengtsson (Elin Gerda Persson)\",female,30.0,1,0,349910,15.55,,S,A,,\\r\\n968,3,0,\"Lindell, Mr. Edvard Bengtsson\",male,36.0,1,0,349910,15.55,,S,A,,\\r\\n961,3,0,\"Lennon, Miss. Mary\",female,,1,0,370371,15.5,,Q,,,\\r\\n962,3,0,\"Lennon, Mr. Denis\",male,,1,0,370371,15.5,,Q,,,\\r\\n1069,3,0,\"O\\'Brien, Mr. Thomas\",male,,1,0,370365,15.5,,Q,,,\\r\\n684,3,0,\"Bourke, Mrs. John (Catherine)\",female,32.0,1,1,364849,15.5,,Q,,,\"Ireland Chicago, IL\"\\r\\n1043,3,1,\"Murphy, Miss. Margaret Jane\",female,,1,0,367230,15.5,,Q,16,,\\r\\n1005,3,0,\"McEvoy, Mr. Michael\",male,,0,0,36568,15.5,,Q,,,\\r\\n1071,3,1,\"O\\'Brien, Mrs. Thomas (Johanna \"\"Hannah\"\" Godfrey)\",female,,1,0,370365,15.5,,Q,,,\\r\\n1042,3,1,\"Murphy, Miss. Katherine \"\"Kate\"\"\",female,,1,0,367230,15.5,,Q,16,,\\r\\n683,3,0,\"Bourke, Mr. John\",male,40.0,1,1,364849,15.5,,Q,,,\"Ireland Chicago, IL\"\\r\\n1044,3,1,\"Murphy, Miss. Nora\",female,,0,0,36568,15.5,,Q,16,,\\r\\n678,3,0,\"Boulos, Master. Akar\",male,6.0,1,1,2678,15.2458,,C,,,\"Syria Kent, ON\"\\r\\n1034,3,1,\"Moubarek, Master. Gerios\",male,,1,1,2661,15.2458,,C,C,,\\r\\n1258,3,1,\"Touma, Mrs. Darwis (Hanne Youssef Razi)\",female,29.0,0,2,2650,15.2458,,C,C,,\\r\\n1035,3,1,\"Moubarek, Master. Halim Gonios (\"\"William George\"\")\",male,,1,1,2661,15.2458,,C,C,,\\r\\n1256,3,1,\"Touma, Master. Georges Youssef\",male,7.0,1,1,2650,15.2458,,C,C,,\\r\\n679,3,0,\"Boulos, Miss. Nourelain\",female,9.0,1,1,2678,15.2458,,C,,,\"Syria Kent, ON\"\\r\\n681,3,0,\"Boulos, Mrs. Joseph (Sultana)\",female,,0,2,2678,15.2458,,C,,,\"Syria Kent, ON\"\\r\\n1257,3,1,\"Touma, Miss. Maria Youssef\",female,9.0,1,1,2650,15.2458,,C,C,,\\r\\n1036,3,1,\"Moubarek, Mrs. George (Omine \"\"Amenia\"\" Alexander)\",female,,0,2,2661,15.2458,,C,C,,\\r\\n796,3,0,\"Everett, Mr. Thomas James\",male,40.5,0,0,C.A. 6212,15.1,,S,,187.0,\\r\\n1197,3,0,\"Shellard, Mr. Frederick William\",male,,0,0,C.A. 6212,15.1,,S,,,\\r\\n531,2,0,\"Pernot, Mr. Rene\",male,,0,0,SC/PARIS 2131,15.05,,C,,,\\r\\n491,2,0,\"Malachard, Mr. Noel\",male,,0,0,237735,15.0458,D,C,,,Paris\\r\\n547,2,0,\"Richard, Mr. Emile\",male,23.0,0,0,SC/PARIS 2133,15.0458,,C,,,\"Paris / Montreal, PQ\"\\r\\n566,2,0,\"Stanton, Mr. Samuel Ward\",male,41.0,0,0,237734,15.0458,,C,,,\"New York, NY\"\\r\\n539,2,0,\"Pulbaum, Mr. Franz\",male,27.0,0,0,SC/PARIS 2168,15.0333,,C,,,Paris\\r\\n461,2,0,\"Jarvis, Mr. John Denzil\",male,47.0,0,0,237565,15.0,,S,,,\"North Evington, England\"\\r\\n1263,3,0,\"van Billiard, Master. Walter John\",male,11.5,1,1,A/5. 851,14.5,,S,,1.0,\\r\\n815,3,0,\"Garfirth, Mr. John\",male,,0,0,358585,14.5,,S,,,\\r\\n1262,3,0,\"van Billiard, Master. James William\",male,,1,1,A/5. 851,14.5,,S,,,\\r\\n428,2,1,\"Hamalainen, Mrs. William (Anna)\",female,24.0,0,2,250649,14.5,,S,4,,\"Detroit, MI\"\\r\\n427,2,1,\"Hamalainen, Master. Viljo\",male,0.6667,1,1,250649,14.5,,S,4,,\"Detroit, MI\"\\r\\n1152,3,0,\"Robins, Mr. Alexander A\",male,50.0,1,0,A/5. 3337,14.5,,S,,119.0,\\r\\n1150,3,0,\"Risien, Mr. Samuel Beard\",male,,0,0,364498,14.5,,S,,,\\r\\n1108,3,0,\"Patchett, Mr. George\",male,19.0,0,0,358585,14.5,,S,,,\\r\\n1264,3,0,\"van Billiard, Mr. Austin Blyler\",male,40.5,0,2,A/5. 851,14.5,,S,,255.0,\\r\\n1153,3,0,\"Robins, Mrs. Alexander A (Grace Charity Laury)\",female,47.0,1,0,A/5. 3337,14.5,,S,,7.0,\\r\\n1151,3,0,\"Risien, Mrs. Samuel (Emma)\",female,,0,0,364498,14.5,,S,,,\\r\\n650,3,0,\"Attalah, Miss. Malake\",female,17.0,0,0,2627,14.4583,,C,,,\\r\\n706,3,0,\"Caram, Mrs. Joseph (Maria Elias)\",female,,1,0,2689,14.4583,,C,,,\"Ottawa, ON\"\\r\\n705,3,0,\"Caram, Mr. Joseph\",male,,1,0,2689,14.4583,,C,,,\"Ottawa, ON\"\\r\\n1303,3,0,\"Yousseff, Mr. Gerious\",male,,0,0,2627,14.4583,,C,,,\\r\\n1300,3,1,\"Yasbeck, Mrs. Antoni (Selini Alexander)\",female,15.0,1,0,2659,14.4542,,C,,,\\r\\n1299,3,0,\"Yasbeck, Mr. Antoni\",male,27.0,1,0,2659,14.4542,,C,C,,\\r\\n716,3,0,\"Chronopoulos, Mr. Apostolos\",male,26.0,1,0,2680,14.4542,,C,,,Greece\\r\\n717,3,0,\"Chronopoulos, Mr. Demetrios\",male,18.0,1,0,2680,14.4542,,C,,,Greece\\r\\n665,3,0,\"Barbara, Miss. Saiide\",female,18.0,0,1,2691,14.4542,,C,,,\"Syria Ottawa, ON\"\\r\\n928,3,0,\"Khalil, Mrs. Betros (Zahie \"\"Maria\"\" Elias)\",female,,1,0,2660,14.4542,,C,,,\\r\\n927,3,0,\"Khalil, Mr. Betros\",male,,1,0,2660,14.4542,,C,,,\\r\\n1305,3,0,\"Zabour, Miss. Thamine\",female,,1,0,2665,14.4542,,C,,,\\r\\n1304,3,0,\"Zabour, Miss. Hileni\",female,14.5,1,0,2665,14.4542,,C,,328.0,\\r\\n666,3,0,\"Barbara, Mrs. (Catherine David)\",female,45.0,0,1,2691,14.4542,,C,,,\"Syria Ottawa, ON\"\\r\\n747,3,0,\"Danbom, Master. Gilbert Sigvard Emanuel\",male,0.3333,0,2,347080,14.4,,S,,,\"Stanton, IA\"\\r\\n748,3,0,\"Danbom, Mr. Ernst Gilbert\",male,34.0,1,1,347080,14.4,,S,,197.0,\"Stanton, IA\"\\r\\n749,3,0,\"Danbom, Mrs. Ernst Gilbert (Anna Sigrid Maria Brogren)\",female,28.0,1,1,347080,14.4,,S,,,\"Stanton, IA\"\\r\\n851,3,1,\"Hansen, Mrs. Claus Peter (Jennie L Howard)\",female,45.0,1,0,350026,14.1083,,S,11,,\\r\\n848,3,0,\"Hansen, Mr. Claus Peter\",male,41.0,2,0,350026,14.1083,,S,,,\\r\\n508,2,0,\"Moraweck, Dr. Ernest\",male,54.0,0,0,29011,14.0,,S,,,\"Frankfort, KY\"\\r\\n784,3,0,\"Dyker, Mr. Adolf Fredrik\",male,23.0,1,0,347072,13.9,,S,,,\"West Haven, CT\"\\r\\n785,3,1,\"Dyker, Mrs. Adolf Fredrik (Anna Elisabeth Judith Andersson)\",female,22.0,1,0,347072,13.9,,S,16,,\"West Haven, CT\"\\r\\n520,2,1,\"Nourney, Mr. Alfred (\"\"Baron von Drachstedt\"\")\",male,20.0,0,0,SC/PARIS 2166,13.8625,D38,C,7,,\"Cologne, Germany\"\\r\\n524,2,1,\"Padro y Manent, Mr. Julian\",male,,0,0,SC/PARIS 2146,13.8625,,C,9,,\"Spain / Havana, Cuba\"\\r\\n401,2,1,\"Duran y More, Miss. Asuncion\",female,27.0,1,0,SC/PARIS 2149,13.8583,,C,12,,\"Barcelona, Spain / Havana, Cuba\"\\r\\n402,2,1,\"Duran y More, Miss. Florentina\",female,30.0,1,0,SC/PARIS 2148,13.8583,,C,12,,\"Barcelona, Spain / Havana, Cuba\"\\r\\n526,2,1,\"Pallas y Castello, Mr. Emilio\",male,29.0,0,0,SC/PARIS 2147,13.8583,,C,9,,\"Spain / Havana, Cuba\"\\r\\n465,2,1,\"Jerwan, Mrs. Amin S (Marie Marthe Thuillard)\",female,23.0,0,0,SC/AH Basle 541,13.7917,D,C,11,,\"New York, NY\"\\r\\n1113,3,0,\"Peacock, Mrs. Benjamin (Edith Nile)\",female,26.0,0,2,SOTON/O.Q. 3101315,13.775,,S,,,\\r\\n1111,3,0,\"Peacock, Master. Alfred Edward\",male,0.75,1,1,SOTON/O.Q. 3101315,13.775,,S,,,\\r\\n1112,3,0,\"Peacock, Miss. Treasteall\",female,3.0,1,1,SOTON/O.Q. 3101315,13.775,,S,,,\\r\\n561,2,0,\"Sjostedt, Mr. Ernst Adolf\",male,59.0,0,0,237442,13.5,,S,,,\"Sault St Marie, ON\"\\r\\n367,2,0,\"Chapman, Mr. Charles Henry\",male,52.0,0,0,248731,13.5,,S,,130.0,\"Bronx, NY\"\\r\\n519,2,0,\"Norman, Mr. Robert Douglas\",male,28.0,0,0,218629,13.5,,S,,287.0,Glasgow\\r\\n421,2,0,\"Giles, Mr. Ralph\",male,24.0,0,0,248726,13.5,,S,,297.0,\"West Kensington, London\"\\r\\n498,2,0,\"McCrae, Mr. Arthur Gordon\",male,32.0,0,0,237216,13.5,,S,,209.0,\"Sydney, Australia\"\\r\\n471,2,1,\"Kelly, Mrs. Florence \"\"Fannie\"\"\",female,45.0,0,0,223596,13.5,,S,9,,\"London / New York, NY\"\\r\\n598,2,1,\"Wright, Miss. Marion\",female,26.0,0,0,220844,13.5,,S,9,,\"Yoevil, England / Cottage Grove, OR\"\\r\\n916,3,1,\"Karun, Miss. Manca\",female,4.0,0,1,349256,13.4167,,C,15,,\\r\\n917,3,1,\"Karun, Mr. Franz\",male,39.0,0,1,349256,13.4167,,C,15,,\\r\\n330,2,0,\"Ashby, Mr. John\",male,57.0,0,0,244346,13.0,,S,,,\"West Hoboken, NJ\"\\r\\n333,2,1,\"Ball, Mrs. (Ada E Hall)\",female,36.0,0,0,28551,13.0,D,S,10,,\"Bristol, Avon / Jacksonville, FL\"\\r\\n357,2,0,\"Byles, Rev. Thomas Roussel Davids\",male,42.0,0,0,244310,13.0,,S,,,London\\r\\n348,2,0,\"Bracken, Mr. James H\",male,27.0,0,0,220367,13.0,,S,,,\"Lake Arthur, Chavez County, NM\"\\r\\n349,2,1,\"Brown, Miss. Amelia \"\"Mildred\"\"\",female,24.0,0,0,248733,13.0,F33,S,11,,\"London / Montreal, PQ\"\\r\\n344,2,1,\"Bentham, Miss. Lilian W\",female,19.0,0,0,28404,13.0,,S,12,,\"Rochester, NY\"\\r\\n343,2,1,\"Beesley, Mr. Lawrence\",male,34.0,0,0,248698,13.0,D56,S,13,,London\\r\\n356,2,0,\"Butler, Mr. Reginald Fenton\",male,25.0,0,0,234686,13.0,,S,,97.0,\"Southsea, Hants\"\\r\\n345,2,0,\"Berriman, Mr. William John\",male,23.0,0,0,28425,13.0,,S,,,\"St Ives, Cornwall / Calumet, MI\"\\r\\n346,2,0,\"Botsford, Mr. William Hull\",male,26.0,0,0,237670,13.0,,S,,,\"Elmira, NY / Orange, NJ\"\\r\\n347,2,0,\"Bowenur, Mr. Solomon\",male,42.0,0,0,211535,13.0,,S,,,London\\r\\n325,2,0,\"Aldworth, Mr. Charles Augustus\",male,30.0,0,0,248744,13.0,,S,,,\"Bryn Mawr, PA, USA\"\\r\\n355,2,1,\"Buss, Miss. Kate\",female,36.0,0,0,27849,13.0,,S,9,,\"Sittingbourne, England / San Diego, CA\"\\r\\n450,2,0,\"Hodges, Mr. Henry Price\",male,50.0,0,0,250643,13.0,,S,,149.0,Southampton\\r\\n554,2,0,\"Schmidt, Mr. August\",male,26.0,0,0,248659,13.0,,S,,,\"Newark, NJ\"\\r\\n564,2,1,\"Smith, Miss. Marion Elsie\",female,40.0,0,0,31418,13.0,,S,9,,\\r\\n537,2,0,\"Ponesell, Mr. Martin\",male,34.0,0,0,250647,13.0,,S,,,\"Denmark / New York, NY\"\\r\\n405,2,0,\"Fahlstrom, Mr. Arne Jonas\",male,18.0,0,0,236171,13.0,,S,,,\"Oslo, Norway Bayonne, NJ\"\\r\\n404,2,0,\"Enander, Mr. Ingvar\",male,21.0,0,0,236854,13.0,,S,,,\"Goteborg, Sweden / Rockford, IL\"\\r\\n403,2,0,\"Eitemiller, Mr. George Floyd\",male,23.0,0,0,29751,13.0,,S,,,\"England / Detroit, MI\"\\r\\n546,2,1,\"Reynaldo, Ms. Encarnacion\",female,28.0,0,0,230434,13.0,,S,9,,Spain\\r\\n555,2,0,\"Sedgwick, Mr. Charles Frederick Waddington\",male,25.0,0,0,244361,13.0,,S,,,Liverpool\\r\\n558,2,1,\"Silven, Miss. Lyyli Karoliina\",female,18.0,0,2,250652,13.0,,S,16,,\"Finland / Minneapolis, MN\"\\r\\n560,2,1,\"Sinkkonen, Miss. Anna\",female,30.0,0,0,250648,13.0,,S,10,,\"Finland / Washington, DC\"\\r\\n565,2,0,\"Sobey, Mr. Samuel James Hayden\",male,25.0,0,0,C.A. 29178,13.0,,S,,,\"Cornwall / Houghton, MI\"\\r\\n381,2,0,\"Corbett, Mrs. Walter H (Irene Colvin)\",female,30.0,0,0,237249,13.0,,S,,,\"Provo, UT\"\\r\\n568,2,0,\"Swane, Mr. George\",male,18.5,0,0,248734,13.0,F,S,,294.0,\\r\\n571,2,0,\"Troupiansky, Mr. Moses Aaron\",male,23.0,0,0,233639,13.0,,S,,,\\r\\n576,2,0,\"Veal, Mr. James\",male,40.0,0,0,28221,13.0,,S,,,\"Barre, Co Washington, VT\"\\r\\n584,2,1,\"Webber, Miss. Susan\",female,32.5,0,0,27267,13.0,E101,S,12,,\"England / Hartford, CT\"\\r\\n389,2,0,\"de Brito, Mr. Jose Joaquim\",male,32.0,0,0,244360,13.0,,S,,,\"Portugal / Sau Paulo, Brazil\"\\r\\n388,2,1,\"Davis, Miss. Mary\",female,28.0,0,0,237668,13.0,,S,13,,\"London / Staten Island, NY\"\\r\\n596,2,1,\"Wilhelms, Mr. Charles\",male,31.0,0,0,244270,13.0,,S,9,,\"London, England\"\\r\\n597,2,1,\"Williams, Mr. Charles Eugene\",male,,0,0,244373,13.0,,S,14,,\"Harrow, England\"\\r\\n536,2,1,\"Pinsky, Mrs. (Rosa)\",female,32.0,0,0,234604,13.0,,S,9,,Russia\\r\\n532,2,0,\"Peruschitz, Rev. Joseph Maria\",male,41.0,0,0,237393,13.0,,S,,,\\r\\n522,2,0,\"Otter, Mr. Richard\",male,39.0,0,0,28213,13.0,,S,,,\"Middleburg Heights, OH\"\\r\\n517,2,0,\"Nesson, Mr. Israel\",male,26.0,0,0,244368,13.0,F2,S,,,\"Boston, MA\"\\r\\n448,2,0,\"Hocking, Mr. Samuel James Metcalfe\",male,36.0,0,0,242963,13.0,,S,,,\"Devonport, England\"\\r\\n454,2,1,\"Hosono, Mr. Masabumi\",male,42.0,0,0,237798,13.0,,S,10,,\"Tokyo, Japan\"\\r\\n445,2,0,\"Hiltunen, Miss. Marta\",female,18.0,1,1,250650,13.0,,S,,,\"Kontiolahti, Finland / Detroit, MI\"\\r\\n429,2,0,\"Harbeck, Mr. William H\",male,44.0,0,0,248746,13.0,,S,,35.0,\"Seattle, WA / Toledo, OH\"\\r\\n426,2,0,\"Hale, Mr. Reginald\",male,30.0,0,0,250653,13.0,,S,,75.0,\"Auburn, NY\"\\r\\n425,2,0,\"Greenberg, Mr. Samuel\",male,52.0,0,0,250647,13.0,,S,,19.0,\"Bronx, NY\"\\r\\n424,2,0,\"Givard, Mr. Hans Kristensen\",male,30.0,0,0,250646,13.0,,S,,305.0,\\r\\n423,2,0,\"Gillespie, Mr. William Henry\",male,34.0,0,0,12233,13.0,,S,,,\"Vancouver, BC\"\\r\\n422,2,0,\"Gill, Mr. John William\",male,24.0,0,0,233866,13.0,,S,,155.0,\"Clevedon, England\"\\r\\n415,2,1,\"Garside, Miss. Ethel\",female,34.0,0,0,243880,13.0,,S,12,,\"Brooklyn, NY\"\\r\\n496,2,0,\"Matthews, Mr. William John\",male,30.0,0,0,28228,13.0,,S,,,\"St Austall, Cornwall\"\\r\\n499,2,0,\"McCrie, Mr. James Matthew\",male,30.0,0,0,233478,13.0,,S,,,\"Sarnia, ON\"\\r\\n504,2,0,\"Meyer, Mr. August\",male,39.0,0,0,248723,13.0,,S,,,\"Harrow-on-the-Hill, Middlesex\"\\r\\n505,2,0,\"Milling, Mr. Jacob Christian\",male,48.0,0,0,234360,13.0,,S,,271.0,\"Copenhagen, Denmark\"\\r\\n507,2,0,\"Montvila, Rev. Juozas\",male,27.0,0,0,211536,13.0,,S,,,\"Worcester, MA\"\\r\\n411,2,0,\"Funk, Miss. Annie Clemmer\",female,38.0,0,0,237671,13.0,,S,,,\"Janjgir, India / Pennsylvania\"\\r\\n409,2,0,\"Fox, Mr. Stanley Hubert\",male,36.0,0,0,229236,13.0,,S,,236.0,\"Rochester, NY\"\\r\\n599,2,0,\"Yrois, Miss. Henriette (\"\"Mrs Harbeck\"\")\",female,24.0,0,0,248747,13.0,,S,,,Paris\\r\\n358,2,1,\"Bystrom, Mrs. (Karolina)\",female,42.0,0,0,236852,13.0,,S,,,\"New York, NY\"\\r\\n375,2,0,\"Collander, Mr. Erik Gustaf\",male,28.0,0,0,248740,13.0,,S,,,\"Helsinki, Finland Ashtabula, Ohio\"\\r\\n364,2,0,\"Carbines, Mr. William\",male,19.0,0,0,28424,13.0,,S,,18.0,\"St Ives, Cornwall / Calumet, MI\"\\r\\n485,2,0,\"Levy, Mr. Rene Jacques\",male,36.0,0,0,SC/Paris 2163,12.875,D,C,,,\"Montreal, PQ\"\\r\\n595,2,0,\"Wheeler, Mr. Edwin \"\"Frederick\"\"\",male,,0,0,SC/PARIS 2159,12.875,,S,,,\\r\\n538,2,1,\"Portaluppi, Mr. Emilio Ilario Giuseppe\",male,30.0,0,0,C.A. 34644,12.7375,,C,14,,\"Milford, NH\"\\r\\n572,2,1,\"Trout, Mrs. William H (Jessie L)\",female,28.0,0,0,240929,12.65,,S,,,\"Columbus, OH\"\\r\\n335,2,0,\"Bateman, Rev. Robert James\",male,51.0,0,0,S.O.P. 1166,12.525,,S,,174.0,\"Jacksonville, FL\"\\r\\n1025,3,1,\"Moor, Master. Meier\",male,6.0,0,1,392096,12.475,E121,S,14,,\\r\\n794,3,1,\"Emanuel, Miss. Virginia Ethel\",female,5.0,0,0,364516,12.475,,S,13,,\"New York, NY\"\\r\\n778,3,1,\"Dowdell, Miss. Elizabeth\",female,30.0,0,0,364516,12.475,,S,13,,\"Union Hill, NJ\"\\r\\n1026,3,1,\"Moor, Mrs. (Beila)\",female,27.0,0,1,392096,12.475,E121,S,14,,\\r\\n487,2,0,\"Lingane, Mr. John\",male,61.0,0,0,235509,12.35,,Q,,,\\r\\n469,2,1,\"Keane, Miss. Nora A\",female,,0,0,226593,12.35,E101,Q,10,,\"Harrisburg, PA\"\\r\\n470,2,0,\"Keane, Mr. Daniel\",male,35.0,0,0,233734,12.35,,Q,,,\\r\\n472,2,0,\"Kirkland, Rev. Charles Leonard\",male,57.0,0,0,219533,12.35,,Q,,,\"Glasgow / Bangor, ME\"\\r\\n562,2,1,\"Slayter, Miss. Hilda Mary\",female,30.0,0,0,234818,12.35,,Q,13,,\"Halifax, NS\"\\r\\n867,3,1,\"Hirvonen, Mrs. Alexander (Helga E Lindqvist)\",female,22.0,1,1,3101298,12.2875,,S,15,,\\r\\n866,3,1,\"Hirvonen, Miss. Hildur E\",female,2.0,0,1,3101298,12.2875,,S,15,,\\r\\n457,2,0,\"Hunt, Mr. George Henry\",male,33.0,0,0,SCO/W 1585,12.275,,S,,,\"Philadelphia, PA\"\\r\\n937,3,0,\"Klasen, Miss. Gertrud Emilia\",female,1.0,1,1,350405,12.1833,,S,,,\\r\\n939,3,0,\"Klasen, Mrs. (Hulda Kristina Eugenia Lofqvist)\",female,36.0,0,2,350405,12.1833,,S,,,\\r\\n482,2,1,\"Lehmann, Miss. Bertha\",female,17.0,0,0,SC 1748,12.0,,C,12,,\"Berne, Switzerland / Central City, IA\"\\r\\n326,2,0,\"Andrew, Mr. Edgardo Samuel\",male,18.0,0,0,231945,11.5,,S,,,\"Buenos Aires, Argentina / New Jersey, NJ\"\\r\\n419,2,0,\"Giles, Mr. Edgar\",male,21.0,1,0,28133,11.5,,S,,,\"Cornwall / Camden, NJ\"\\r\\n331,2,0,\"Bailey, Mr. Percy Andrew\",male,18.0,0,0,29108,11.5,,S,,,\"Penzance, Cornwall / Akron, OH\"\\r\\n447,2,0,\"Hocking, Mr. Richard George\",male,23.0,2,1,29104,11.5,,S,,,\"Cornwall / Akron, OH\"\\r\\n420,2,0,\"Giles, Mr. Frederick Edward\",male,21.0,1,0,28134,11.5,,S,,,\"Cornwall / Camden, NJ\"\\r\\n383,2,0,\"Cotterill, Mr. Henry \"\"Harry\"\"\",male,21.0,0,0,29107,11.5,,S,,,\"Penzance, Cornwall / Akron, OH\"\\r\\n1057,3,1,\"Nicola-Yarred, Miss. Jamila\",female,14.0,1,0,2651,11.2417,,C,C,,\\r\\n1056,3,1,\"Nicola-Yarred, Master. Elias\",male,12.0,1,0,2651,11.2417,,C,C,,\\r\\n894,3,1,\"Johnson, Master. Harold Theodor\",male,4.0,1,1,347742,11.1333,,S,15,,\\r\\n895,3,1,\"Johnson, Miss. Eleanor Ileen\",female,1.0,1,1,347742,11.1333,,S,15,,\\r\\n899,3,1,\"Johnson, Mrs. Oscar W (Elisabeth Vilhelmina Berg)\",female,27.0,0,2,347742,11.1333,,S,15,,\\r\\n477,2,0,\"Lamb, Mr. John Joseph\",male,,0,0,240261,10.7083,,Q,,,\\r\\n743,3,0,\"Dahlberg, Miss. Gerda Ulrika\",female,22.0,0,0,7552,10.5167,,S,,,\"Norrlot, Sweden Chicago, IL\"\\r\\n408,2,0,\"Fillbrook, Mr. Joseph Charles\",male,18.0,0,0,C.A. 15185,10.5,,S,,,\"Cornwall / Houghton, MI\"\\r\\n521,2,1,\"Nye, Mrs. (Elizabeth Ramell)\",female,29.0,0,0,C.A. 29395,10.5,F33,S,11,,\"Folkstone, Kent / New York, NY\"\\r\\n553,2,1,\"Rugg, Miss. Emily\",female,21.0,0,0,C.A. 31026,10.5,,S,12,,\"Guernsey / Wilmington, DE\"\\r\\n525,2,0,\"Pain, Dr. Alfred\",male,23.0,0,0,244278,10.5,,S,,,\"Hamilton, ON\"\\r\\n552,2,0,\"Rogers, Mr. Reginald Harry\",male,19.0,0,0,28004,10.5,,S,,,\\r\\n551,2,1,\"Ridsdale, Miss. Lucy\",female,50.0,0,0,W./C. 14258,10.5,,S,13,,\"London, England / Marietta, Ohio and Milwaukee, WI\"\\r\\n523,2,1,\"Oxenham, Mr. Percy Thomas\",male,22.0,0,0,W./C. 14260,10.5,,S,13,,\"Pondersend, England / New Durham, NJ\"\\r\\n334,2,0,\"Banfield, Mr. Frederick James\",male,28.0,0,0,C.A./SOTON 34068,10.5,,S,,,\"Plymouth, Dorset / Houghton, MI\"\\r\\n543,2,0,\"Reeves, Mr. David\",male,36.0,0,0,C.A. 17248,10.5,,S,,,\"Brighton, Sussex\"\\r\\n376,2,1,\"Collett, Mr. Sidney C Stuart\",male,24.0,0,0,28034,10.5,,S,9,,\"London / Fort Byron, NY\"\\r\\n332,2,0,\"Baimbrigge, Mr. Charles Robert\",male,23.0,0,0,C.A. 31030,10.5,,S,,,Guernsey\\r\\n527,2,0,\"Parker, Mr. Clifford Richard\",male,28.0,0,0,SC 14888,10.5,,S,,,\"St Andrews, Guernsey\"\\r\\n530,2,0,\"Pengelly, Mr. Frederick William\",male,19.0,0,0,28665,10.5,,S,,,\"Gunnislake, England / Butte, MT\"\\r\\n510,2,0,\"Mudd, Mr. Thomas Charles\",male,16.0,0,0,S.O./P.P. 3,10.5,,S,,,\"Halesworth, England\"\\r\\n490,2,0,\"Mack, Mrs. (Mary)\",female,57.0,0,0,S.O./P.P. 3,10.5,E77,S,,52.0,\"Southampton / New York, NY\"\\r\\n563,2,0,\"Slemen, Mr. Richard James\",male,35.0,0,0,28206,10.5,,S,,,Cornwall\\r\\n374,2,0,\"Coleridge, Mr. Reginald Charles\",male,29.0,0,0,W./C. 14263,10.5,,S,,,\"Hartford, Huntingdonshire\"\\r\\n380,2,1,\"Cook, Mrs. (Selena Rogers)\",female,22.0,0,0,W./C. 14266,10.5,F33,S,14,,Pennsylvania\\r\\n458,2,1,\"Ilett, Miss. Bertha\",female,17.0,0,0,SO/C 14885,10.5,,S,,,Guernsey\\r\\n433,2,0,\"Harris, Mr. Walter\",male,30.0,0,0,W/C 14208,10.5,,S,,,\"Walthamstow, England\"\\r\\n432,2,1,\"Harris, Mr. George\",male,62.0,0,0,S.W./PP 752,10.5,,S,15,,London\\r\\n464,2,0,\"Jenkin, Mr. Stephen Curnow\",male,32.0,0,0,C.A. 33111,10.5,,S,,,\"St Ives, Cornwall / Houghton, MI\"\\r\\n474,2,0,\"Kvillner, Mr. Johan Henrik Johannesson\",male,31.0,0,0,C.A. 18723,10.5,,S,,165.0,\"Sweden / Arlington, NJ\"\\r\\n594,2,0,\"Wheadon, Mr. Edward H\",male,66.0,0,0,C.A. 24579,10.5,,S,,,\"Guernsey, England / Edgewood, RI\"\\r\\n484,2,1,\"Lemore, Mrs. (Amelia Milley)\",female,34.0,0,0,C.A. 34260,10.5,F33,S,14,,\"Chicago, IL\"\\r\\n486,2,0,\"Leyson, Mr. Robert William Norman\",male,24.0,0,0,C.A. 29566,10.5,,S,,108.0,\\r\\n418,2,0,\"Gilbert, Mr. William\",male,47.0,0,0,C.A. 30769,10.5,,S,,,Cornwall\\r\\n579,2,0,\"Ware, Mr. William Jeffery\",male,23.0,1,0,28666,10.5,,S,,,\\r\\n417,2,0,\"Gavey, Mr. Lawrence\",male,26.0,0,0,31028,10.5,,S,,,\"Guernsey / Elizabeth, NJ\"\\r\\n573,2,1,\"Troutt, Miss. Edwina Celia \"\"Winnie\"\"\",female,27.0,0,0,34218,10.5,E101,S,16,,\"Bath, England / Massachusetts\"\\r\\n503,2,1,\"Mellors, Mr. William John\",male,19.0,0,0,SW/PP 751,10.5,,S,B,,\"Chelsea, London\"\\r\\n570,2,1,\"Toomey, Miss. Ellen\",female,50.0,0,0,F.C.C. 13531,10.5,,S,9,,\"Indianapolis, IN\"\\r\\n567,2,0,\"Stokes, Mr. Philip Joseph\",male,25.0,0,0,F.C.C. 13540,10.5,,S,,81.0,\"Catford, Kent / Detroit, MI\"\\r\\n506,2,0,\"Mitchell, Mr. Henry Michael\",male,70.0,0,0,C.A. 24580,10.5,,S,,,\"Guernsey / Montclair, NJ and/or Toledo, Ohio\"\\r\\n327,2,0,\"Andrew, Mr. Frank Thomas\",male,25.0,0,0,C.A. 34050,10.5,,S,,,\"Cornwall, England Houghton, MI\"\\r\\n1231,3,0,\"Strom, Mrs. Wilhelm (Elna Matilda Persson)\",female,29.0,1,1,347054,10.4625,G6,S,,,\\r\\n1230,3,0,\"Strom, Miss. Telma Matilda\",female,2.0,0,1,347054,10.4625,G6,S,,,\\r\\n744,3,0,\"Dakic, Mr. Branko\",male,19.0,0,0,349228,10.1708,,S,,,Austria\\r\\n836,3,0,\"Gustafsson, Mr. Alfred Ossian\",male,20.0,0,0,7534,9.8458,,S,,,\"Waukegan, Chicago, IL\"\\r\\n1260,3,1,\"Turja, Miss. Anna Sofia\",female,18.0,0,0,4138,9.8417,,S,15,,\\r\\n1227,3,0,\"Strandberg, Miss. Ida Sofia\",female,22.0,0,0,7553,9.8375,,S,,,\\r\\n907,3,0,\"Jussila, Miss. Katriina\",female,20.0,1,0,4136,9.825,,S,,,\\r\\n908,3,0,\"Jussila, Miss. Mari Aina\",female,21.0,1,0,4137,9.825,,S,,,\\r\\n511,2,0,\"Myles, Mr. Thomas Francis\",male,62.0,0,0,240276,9.6875,,Q,,,\"Cambridge, MA\"\\r\\n1261,3,1,\"Turkula, Mrs. (Hedwig)\",female,63.0,0,0,4134,9.5875,,S,15,,\\r\\n943,3,0,\"Laitinen, Miss. Kristina Sofia\",female,37.0,0,0,4135,9.5875,,S,,,\\r\\n1269,3,0,\"Vande Velde, Mr. Johannes Joseph\",male,33.0,0,0,345780,9.5,,S,,,\\r\\n1268,3,0,\"van Melkebeke, Mr. Philemon\",male,,0,0,345777,9.5,,S,,,\\r\\n1196,3,1,\"Sheerlinck, Mr. Jan Baptist\",male,29.0,0,0,345779,9.5,,S,11,,\\r\\n761,3,0,\"de Pelsmaeker, Mr. Alfons\",male,16.0,0,0,345778,9.5,,S,,,\\r\\n1298,3,0,\"Wittevrongel, Mr. Camille\",male,36.0,0,0,345771,9.5,,S,,,\\r\\n1270,3,0,\"Vande Walle, Mr. Nestor Cyriel\",male,28.0,0,0,345770,9.5,,S,,,\\r\\n846,3,0,\"Hampe, Mr. Leon\",male,20.0,0,0,345769,9.5,,S,,,\\r\\n1190,3,1,\"Sap, Mr. Julius\",male,25.0,0,0,345768,9.5,,S,11,,\\r\\n1285,3,0,\"Wenzel, Mr. Linhart\",male,32.5,0,0,345775,9.5,,S,,298.0,\\r\\n760,3,1,\"de Mulder, Mr. Theodore\",male,30.0,0,0,345774,9.5,,S,11,,\"Belgium Detroit, MI\"\\r\\n1271,3,0,\"Vanden Steen, Mr. Leo Peter\",male,28.0,0,0,345783,9.5,,S,,,\\r\\n965,3,0,\"Lievens, Mr. Rene Aime\",male,24.0,0,0,345781,9.5,,S,,,\\r\\n950,3,0,\"Larsson, Mr. August Viktor\",male,29.0,0,0,7545,9.4833,,S,,,\\r\\n610,3,0,\"Ahlin, Mrs. Johan (Johanna Persdotter Larsson)\",female,40.0,1,0,7546,9.475,,S,,,\"Sweden Akeley, MN\"\\r\\n671,3,0,\"Berglund, Mr. Karl Ivar Sven\",male,22.0,0,0,PP 4348,9.35,,S,,,\"Tranvik, Finland New York\"\\r\\n611,3,1,\"Aks, Master. Philip Frank\",male,0.8333,0,1,392091,9.35,,S,11,,\"London, England Norfolk, VA\"\\r\\n612,3,1,\"Aks, Mrs. Sam (Leah Rosen)\",female,18.0,0,1,392091,9.35,,S,13,,\"London, England Norfolk, VA\"\\r\\n1181,3,0,\"Salander, Mr. Karl Johan\",male,24.0,0,0,7266,9.325,,S,,,\\r\\n1089,3,0,\"Olsvigen, Mr. Thor Anderson\",male,20.0,0,0,6563,9.225,,S,,89.0,\"Oslo, Norway Cameron, WI\"\\r\\n1236,3,1,\"Svensson, Mr. Johan Cervin\",male,14.0,0,0,7538,9.225,,S,13,,\\r\\n1075,3,0,\"Odahl, Mr. Nils Martin\",male,23.0,0,0,7267,9.225,,S,,,\\r\\n1093,3,0,\"Osen, Mr. Olaf Elon\",male,16.0,0,0,7534,9.2167,,S,,,\\r\\n1272,3,0,\"Vander Cruyssen, Mr. Victor\",male,47.0,0,0,345765,9.0,,S,,,\\r\\n1281,3,0,\"Waelens, Mr. Achille\",male,22.0,0,0,345767,9.0,,S,,,\"Antwerp, Belgium / Stanton, OH\"\\r\\n862,3,1,\"Hellstrom, Miss. Hilda Maria\",female,22.0,0,0,7548,8.9625,,S,C,,\\r\\n840,3,0,\"Haas, Miss. Aloisia\",female,24.0,0,0,349236,8.85,,S,,,\\r\\n1109,3,0,\"Paulner, Mr. Uscher\",male,,0,0,3411,8.7125,,C,,,\\r\\n1291,3,0,\"Willer, Mr. Aaron (\"\"Abi Weller\"\")\",male,,0,0,3410,8.7125,,S,,,\\r\\n1094,3,1,\"Osman, Mrs. Mara\",female,31.0,0,0,349244,8.6833,,S,,,\\r\\n699,3,0,\"Cacic, Mr. Luka\",male,38.0,0,0,315089,8.6625,,S,,,Croatia\\r\\n1134,3,0,\"Pokrnic, Mr. Tome\",male,24.0,0,0,315092,8.6625,,S,,,\\r\\n1107,3,0,\"Pasic, Mr. Jakob\",male,21.0,0,0,315097,8.6625,,S,,,\\r\\n1133,3,0,\"Pokrnic, Mr. Mate\",male,17.0,0,0,315095,8.6625,,S,,,\\r\\n700,3,0,\"Calic, Mr. Jovo\",male,17.0,0,0,315093,8.6625,,S,,,\\r\\n1091,3,0,\"Oreskovic, Miss. Marija\",female,20.0,0,0,315096,8.6625,,S,,,\\r\\n740,3,0,\"Culumovic, Mr. Jeso\",male,17.0,0,0,315090,8.6625,,S,,,Austria-Hungary\\r\\n1092,3,0,\"Oreskovic, Mr. Luka\",male,20.0,0,0,315094,8.6625,,S,,,\\r\\n698,3,0,\"Cacic, Mr. Jego Grga\",male,18.0,0,0,315091,8.6625,,S,,,\\r\\n701,3,0,\"Calic, Mr. Petar\",male,17.0,0,0,315086,8.6625,,S,,,\\r\\n1222,3,0,\"Stankovic, Mr. Ivan\",male,33.0,0,0,349239,8.6625,,C,,,\\r\\n1229,3,0,\"Strilic, Mr. Ivan\",male,27.0,0,0,315083,8.6625,,S,,,\\r\\n697,3,0,\"Cacic, Miss. Marija\",female,30.0,0,0,315084,8.6625,,S,,,\\r\\n1296,3,0,\"Wirz, Mr. Albert\",male,27.0,0,0,315154,8.6625,,S,,131.0,\\r\\n933,3,0,\"Kink, Mr. Vincenz\",male,26.0,2,0,315151,8.6625,,S,,,\\r\\n773,3,0,\"Dimic, Mr. Jovan\",male,42.0,0,0,315088,8.6625,,S,,,\\r\\n932,3,0,\"Kink, Miss. Maria\",female,22.0,2,0,315152,8.6625,,S,,,\\r\\n978,3,1,\"Lulic, Mr. Nikola\",male,27.0,0,0,315098,8.6625,,S,15,,\\r\\n696,3,0,\"Cacic, Miss. Manda\",female,21.0,0,0,315087,8.6625,,S,,,\\r\\n1214,3,0,\"Smiljanic, Mr. Mile\",male,,0,0,315037,8.6625,,S,,,\\r\\n1090,3,0,\"Oreskovic, Miss. Jelka\",female,23.0,0,0,315085,8.6625,,S,,,\\r\\n891,3,0,\"Johansson, Mr. Gustaf Joel\",male,33.0,0,0,7540,8.6542,,S,,285.0,\\r\\n1240,3,1,\"Thomas, Master. Assad Alexander\",male,0.4167,0,1,2625,8.5167,,C,16,,\\r\\n1244,3,1,\"Thomas, Mrs. Alexander (Thamine \"\"Thelma\"\")\",female,16.0,1,1,2625,8.5167,,C,14,,\\r\\n1030,3,0,\"Moran, Mr. James\",male,,0,0,330877,8.4583,,Q,,,\\r\\n911,3,0,\"Kalvik, Mr. Johannes Halvorsen\",male,21.0,0,0,8475,8.4333,,S,,,\\r\\n1084,3,0,\"Olsen, Mr. Karl Siegwart Andreas\",male,42.0,0,1,4579,8.4042,,S,,,\\r\\n834,3,0,\"Gronnestad, Mr. Daniel Danielsen\",male,32.0,0,0,8471,8.3625,,S,,,\"Foresvik, Norway Portland, ND\"\\r\\n619,3,0,\"Allum, Mr. Owen George\",male,18.0,0,0,2223,8.3,,S,,259.0,\"Windsor, England New York, NY\"\\r\\n737,3,0,\"Crease, Mr. Ernest James\",male,19.0,0,0,S.P. 3464,8.1583,,S,,,\"Bristol, England Cleveland, OH\"\\r\\n1124,3,0,\"Peters, Miss. Katie\",female,,0,0,330935,8.1375,,Q,,,\\r\\n887,3,1,\"Johannesen-Bratthammer, Mr. Bernt\",male,,0,0,65306,8.1125,,S,13,,\\r\\n1136,3,0,\"Rasmussen, Mrs. (Lena Jacobsen Solvang)\",female,,0,0,65305,8.1125,,S,,,\\r\\n1051,3,0,\"Nancarrow, Mr. William Henry\",male,33.0,0,0,A./5. 3338,8.05,,S,,,\\r\\n1027,3,0,\"Moore, Mr. Leonard Charles\",male,,0,0,A4. 54510,8.05,,S,,,\\r\\n1038,3,0,\"Moutal, Mr. Rahamin Haim\",male,,0,0,374746,8.05,,S,,,\\r\\n989,3,0,\"Maisner, Mr. Simon\",male,,0,0,A/S 2816,8.05,,S,,,\\r\\n1059,3,0,\"Niklasson, Mr. Samuel\",male,28.0,0,0,363611,8.05,,S,,,\\r\\n925,3,0,\"Kelly, Mr. James\",male,44.0,0,0,363592,8.05,,S,,,\\r\\n1018,3,0,\"Miles, Mr. Frank\",male,,0,0,359306,8.05,,S,,,\\r\\n1116,3,0,\"Peduzzi, Mr. Joseph\",male,,0,0,A/5 2817,8.05,,S,,,\\r\\n1014,3,0,\"Meek, Mrs. Thomas (Annie Louise Rowley)\",female,,0,0,343095,8.05,,S,,,\\r\\n1013,3,0,\"Meanwell, Miss. (Marion Ogden)\",female,,0,0,SOTON/O.Q. 392087,8.05,,S,,,\\r\\n1041,3,0,\"Murdlin, Mr. Joseph\",male,,0,0,A./5. 3235,8.05,,S,,,\\r\\n1015,3,0,\"Meo, Mr. Alfonzo\",male,55.5,0,0,A.5. 11206,8.05,,S,,201.0,\\r\\n1031,3,0,\"Morley, Mr. William\",male,34.0,0,0,364506,8.05,,S,,,\\r\\n1125,3,0,\"Petersen, Mr. Marius\",male,24.0,0,0,342441,8.05,,S,,,\\r\\n1219,3,0,\"Spector, Mr. Woolf\",male,,0,0,A.5. 3236,8.05,,S,,,\\r\\n833,3,0,\"Green, Mr. George Henry\",male,51.0,0,0,21440,8.05,,S,,,\"Dorking, Surrey, England\"\\r\\n1160,3,0,\"Rouse, Mr. Richard Henry\",male,50.0,0,0,A/5 3594,8.05,,S,,,\\r\\n1161,3,0,\"Rush, Mr. Alfred George John\",male,16.0,0,0,A/4. 20589,8.05,,S,,,\\r\\n817,3,0,\"Gilinski, Mr. Eliezer\",male,22.0,0,0,14973,8.05,,S,,47.0,\\r\\n808,3,0,\"Ford, Mr. Arthur\",male,,0,0,A/5 1478,8.05,,S,,,\"Bridgwater, Somerset, England\"\\r\\n1224,3,0,\"Stanley, Mr. Edward Roland\",male,21.0,0,0,A/4 45380,8.05,,S,,,\\r\\n1191,3,0,\"Saundercock, Mr. William Henry\",male,20.0,0,0,A/5. 2151,8.05,,S,,,\\r\\n1220,3,0,\"Spinner, Mr. Henry John\",male,32.0,0,0,STON/OQ. 369943,8.05,,S,,,\\r\\n1192,3,0,\"Sawyer, Mr. Frederick Charles\",male,24.5,0,0,342826,8.05,,S,,284.0,\\r\\n712,3,0,\"Celotti, Mr. Francesco\",male,24.0,0,0,343275,8.05,,S,,,London\\r\\n780,3,1,\"Drapkin, Miss. Jennie\",female,23.0,0,0,SOTON/OQ 392083,8.05,,S,,,\"London New York, NY\"\\r\\n715,3,0,\"Christmann, Mr. Emil\",male,29.0,0,0,343276,8.05,,S,,,\\r\\n1159,3,1,\"Roth, Miss. Sarah A\",female,,0,0,342712,8.05,,S,C,,\\r\\n777,3,1,\"Dorking, Mr. Edward Arthur\",male,19.0,0,0,A/5. 10482,8.05,,S,B,,\"England Oglesby, IL\"\\r\\n1218,3,0,\"Somerton, Mr. Francis William\",male,30.0,0,0,A.5. 18509,8.05,,S,,,\\r\\n719,3,1,\"Cohen, Mr. Gurshon \"\"Gus\"\"\",male,18.0,0,0,A/5 3540,8.05,,S,12,,\"London Brooklyn, NY\"\\r\\n1199,3,0,\"Shorney, Mr. Charles Joseph\",male,,0,0,374910,8.05,,S,,,\\r\\n1200,3,0,\"Simmons, Mr. John\",male,,0,0,SOTON/OQ 392082,8.05,,S,,,\\r\\n1213,3,0,\"Slocovski, Mr. Selman Francis\",male,,0,0,SOTON/OQ 392086,8.05,,S,,,\\r\\n728,3,0,\"Cook, Mr. Jacob\",male,43.0,0,0,A/5 3536,8.05,,S,,,\\r\\n732,3,0,\"Corn, Mr. Harry\",male,30.0,0,0,SOTON/OQ 392090,8.05,,S,,,London\\r\\n755,3,0,\"Davies, Mr. Joseph\",male,17.0,2,0,A/4 48873,8.05,,S,,,\"West Bromwich, England Pontiac, MI\"\\r\\n753,3,0,\"Davies, Mr. Evan\",male,22.0,0,0,SC/A4 23568,8.05,,S,,,\\r\\n742,3,1,\"Dahl, Mr. Karl Edwart\",male,45.0,0,0,7598,8.05,,S,15,,\"Australia Fingal, ND\"\\r\\n835,3,0,\"Guest, Mr. Robert\",male,,0,0,376563,8.05,,S,,,\\r\\n704,3,0,\"Cann, Mr. Ernest Charles\",male,21.0,0,0,A./5. 2152,8.05,,S,,,\\r\\n1202,3,0,\"Sirota, Mr. Maurice\",male,,0,0,392092,8.05,,S,,,\\r\\n1239,3,0,\"Theobald, Mr. Thomas Leonard\",male,34.0,0,0,363294,8.05,,S,,176.0,\\r\\n668,3,0,\"Barton, Mr. David John\",male,22.0,0,0,324669,8.05,,S,,,\"England New York, NY\"\\r\\n669,3,0,\"Beavan, Mr. William Thomas\",male,19.0,0,0,323951,8.05,,S,,,England\\r\\n1293,3,0,\"Williams, Mr. Howard Hugh \"\"Harry\"\"\",male,,0,0,A/5 2466,8.05,,S,,,\\r\\n1251,3,0,\"Tomlin, Mr. Ernest Portage\",male,30.5,0,0,364499,8.05,,S,,50.0,\\r\\n618,3,0,\"Allen, Mr. William Henry\",male,35.0,0,0,373450,8.05,,S,,,\"Lower Clapton, Middlesex or Erdington, Birmingham\"\\r\\n1140,3,0,\"Reynolds, Mr. Harold J\",male,21.0,0,0,342684,8.05,,S,,,\\r\\n1245,3,0,\"Thomson, Mr. Alexander Morrison\",male,,0,0,32302,8.05,,S,,,\\r\\n609,3,0,\"Adams, Mr. John\",male,26.0,0,0,341826,8.05,,S,,103.0,\"Bournemouth, England\"\\r\\n661,3,1,\"Badman, Miss. Emily Louisa\",female,18.0,0,0,A/4 31416,8.05,,S,C,,\"London Skanteales, NY\"\\r\\n872,3,1,\"Howard, Miss. May Elizabeth\",female,,0,0,A. 2. 39186,8.05,,S,C,,\\r\\n1131,3,1,\"Pickard, Mr. Berk (Berk Trembisky)\",male,32.0,0,0,SOTON/O.Q. 392078,8.05,E10,S,9,,\\r\\n1282,3,0,\"Ware, Mr. Frederick\",male,,0,0,359309,8.05,,S,,,\\r\\n1232,3,1,\"Sunderland, Mr. Victor Francis\",male,16.0,0,0,SOTON/OQ 392089,8.05,,S,B,,\\r\\n691,3,0,\"Brocklebank, Mr. William Alfred\",male,35.0,0,0,364512,8.05,,S,,,\"Broomfield, Chelmsford, England\"\\r\\n1284,3,0,\"Webber, Mr. James\",male,,0,0,SOTON/OQ 3101316,8.05,,S,,,\\r\\n1154,3,0,\"Rogers, Mr. William John\",male,,0,0,S.C./A.4. 23567,8.05,,S,,,\\r\\n1252,3,0,\"Torber, Mr. Ernst William\",male,44.0,0,0,364511,8.05,,S,,,\\r\\n1007,3,1,\"McGowan, Miss. Anna \"\"Annie\"\"\",female,15.0,0,0,330923,8.0292,,Q,,,\\r\\n959,3,0,\"Leinonen, Mr. Antti Gustaf\",male,32.0,0,0,STON/O 2. 3101292,7.925,,S,,,\\r\\n970,3,1,\"Lindqvist, Mr. Eino William\",male,20.0,1,0,STON/O 2. 3101285,7.925,,S,15,,\\r\\n625,3,1,\"Andersson, Miss. Erna Alexandra\",female,17.0,4,2,3101281,7.925,,S,D,,\"Ruotsinphyhtaa, Finland New York, NY\"\\r\\n1248,3,0,\"Tikkanen, Mr. Juho\",male,32.0,0,0,STON/O 2. 3101293,7.925,,S,,,\\r\\n615,3,0,\"Alhomaki, Mr. Ilmari Rudolf\",male,20.0,0,0,SOTON/O2 3101287,7.925,,S,,,\"Salo, Finland Astoria, OR\"\\r\\n1064,3,1,\"Niskanen, Mr. Juha\",male,39.0,0,0,STON/O 2. 3101289,7.925,,S,9,,\\r\\n1058,3,0,\"Nieminen, Miss. Manta Josefina\",female,29.0,0,0,3101297,7.925,,S,,,\\r\\n606,3,1,\"Abrahamsson, Mr. Abraham August Johannes\",male,20.0,0,0,SOTON/O2 3101284,7.925,,S,15,,\"Taalintehdas, Finland Hoboken, NJ\"\\r\\n1233,3,1,\"Sundman, Mr. Johan Julian\",male,44.0,0,0,STON/O 2. 3101269,7.925,,S,15,,\\r\\n990,3,0,\"Makinen, Mr. Kalle Edvard\",male,29.0,0,0,STON/O 2. 3101268,7.925,,S,,,\\r\\n1228,3,1,\"Stranden, Mr. Juho\",male,31.0,0,0,STON/O 2. 3101288,7.925,,S,9,,\\r\\n1204,3,0,\"Sivola, Mr. Antti Wilhelm\",male,21.0,0,0,STON/O 2. 3101280,7.925,,S,,,\\r\\n870,3,1,\"Honkanen, Miss. Eliina\",female,27.0,0,0,STON/O2. 3101283,7.925,,S,,,\\r\\n860,3,1,\"Heikkinen, Miss. Laina\",female,26.0,0,0,STON/O2. 3101282,7.925,,S,,,\\r\\n878,3,0,\"Ilmakangas, Miss. Pieta Sofia\",female,25.0,1,0,STON/O2. 3101271,7.925,,S,,,\\r\\n1117,3,0,\"Pekoniemi, Mr. Edvard\",male,21.0,0,0,STON/O 2. 3101294,7.925,,S,,,\\r\\n877,3,0,\"Ilmakangas, Miss. Ida Livija\",female,27.0,1,0,STON/O2. 3101270,7.925,,S,,,\\r\\n909,3,1,\"Jussila, Mr. Eiriik\",male,32.0,0,0,STON/O 2. 3101286,7.925,,S,15,,\\r\\n837,3,0,\"Gustafsson, Mr. Anders Vilhelm\",male,37.0,2,0,3101276,7.925,,S,,98.0,\"Ruotsinphytaa, Finland New York, NY\"\\r\\n838,3,0,\"Gustafsson, Mr. Johan Birger\",male,28.0,2,0,3101277,7.925,,S,,,\"Ruotsinphytaa, Finland New York, NY\"\\r\\n1118,3,0,\"Peltomaki, Mr. Nikolai Johannes\",male,25.0,0,0,STON/O 2. 3101291,7.925,,S,,,\\r\\n861,3,0,\"Heininen, Miss. Wendla Maria\",female,23.0,0,0,STON/O2. 3101290,7.925,,S,,,\\r\\n1183,3,0,\"Salonen, Mr. Johan Werner\",male,39.0,0,0,3101296,7.925,,S,,,\\r\\n677,3,0,\"Bostandyeff, Mr. Guentcho\",male,26.0,0,0,349224,7.8958,,S,,,\"Bulgaria Chicago, IL\"\\r\\n880,3,1,\"Jalsevac, Mr. Ivan\",male,29.0,0,0,349240,7.8958,,C,15,,\\r\\n876,3,0,\"Ilieff, Mr. Ylio\",male,,0,0,349220,7.8958,,S,,,\\r\\n1250,3,0,\"Todoroff, Mr. Lalio\",male,,0,0,349216,7.8958,,S,,,\\r\\n1110,3,0,\"Pavlovic, Mr. Stefo\",male,32.0,0,0,349242,7.8958,,S,,,\\r\\n1046,3,0,\"Naidenoff, Mr. Penko\",male,22.0,0,0,349206,7.8958,,S,,,\\r\\n998,3,0,\"Matinoff, Mr. Nicola\",male,,0,0,349255,7.8958,,C,,,\\r\\n879,3,0,\"Ivanoff, Mr. Kanio\",male,,0,0,349201,7.8958,,S,,,\\r\\n750,3,0,\"Danoff, Mr. Yoto\",male,27.0,0,0,349219,7.8958,,S,,,\"Bulgaria Chicago, IL\"\\r\\n912,3,0,\"Karaic, Mr. Milan\",male,30.0,0,0,349246,7.8958,,S,,,\\r\\n1203,3,0,\"Sivic, Mr. Husein\",male,40.0,0,0,349251,7.8958,,S,,,\\r\\n1139,3,0,\"Rekic, Mr. Tido\",male,38.0,0,0,349249,7.8958,,S,,,\\r\\n1259,3,0,\"Turcin, Mr. Stjepan\",male,36.0,0,0,349247,7.8958,,S,,,\\r\\n634,3,0,\"Angheloff, Mr. Minko\",male,26.0,0,0,349202,7.8958,,S,,,\"Bulgaria Chicago, IL\"\\r\\n1135,3,0,\"Radeff, Mr. Alexander\",male,,0,0,349223,7.8958,,S,,,\\r\\n1019,3,0,\"Mineff, Mr. Ivan\",male,24.0,0,0,349233,7.8958,,S,,,\\r\\n1020,3,0,\"Minkoff, Mr. Lazar\",male,21.0,0,0,349211,7.8958,,S,,,\\r\\n1021,3,0,\"Mionoff, Mr. Stoytcho\",male,28.0,0,0,349207,7.8958,,S,,,\\r\\n1022,3,0,\"Mitkoff, Mr. Mito\",male,,0,0,349221,7.8958,,S,,,\\r\\n1132,3,0,\"Plotcharsky, Mr. Vasil\",male,,0,0,349227,7.8958,,S,,,\\r\\n904,3,0,\"Jonkoff, Mr. Lalio\",male,23.0,0,0,349204,7.8958,,S,,,\\r\\n1280,3,0,\"Vovk, Mr. Janko\",male,22.0,0,0,349252,7.8958,,S,,,\\r\\n1128,3,0,\"Petroff, Mr. Pastcho (\"\"Pentcho\"\")\",male,,0,0,349215,7.8958,,S,,,\\r\\n1127,3,0,\"Petroff, Mr. Nedelio\",male,19.0,0,0,349212,7.8958,,S,,,\\r\\n663,3,0,\"Balkic, Mr. Cerin\",male,26.0,0,0,349248,7.8958,,S,,,\\r\\n996,3,0,\"Markun, Mr. Johann\",male,33.0,0,0,349257,7.8958,,S,,,\\r\\n995,3,0,\"Markoff, Mr. Marin\",male,35.0,0,0,349213,7.8958,,C,,,\\r\\n781,3,0,\"Drazenoic, Mr. Jozef\",male,33.0,0,0,349241,7.8958,,C,,51.0,\"Austria Niagara Falls, NY\"\\r\\n751,3,0,\"Dantcheff, Mr. Ristiu\",male,25.0,0,0,349203,7.8958,,S,,,\"Bulgaria Chicago, IL\"\\r\\n766,3,0,\"Delalic, Mr. Redjo\",male,25.0,0,0,349250,7.8958,,S,,,\\r\\n731,3,0,\"Cor, Mr. Liudevit\",male,19.0,0,0,349231,7.8958,,S,,,Austria\\r\\n730,3,0,\"Cor, Mr. Ivan\",male,27.0,0,0,349229,7.8958,,S,,,Austria\\r\\n1126,3,0,\"Petranec, Miss. Matilda\",female,28.0,0,0,349245,7.8958,,S,,,\\r\\n767,3,0,\"Demetri, Mr. Marinko\",male,,0,0,349238,7.8958,,S,,,\\r\\n1212,3,0,\"Slabenoff, Mr. Petco\",male,,0,0,349214,7.8958,,S,,,\\r\\n768,3,0,\"Denkoff, Mr. Mitto\",male,,0,0,349225,7.8958,,S,,,\"Bulgaria Coon Rapids, IA\"\\r\\n772,3,0,\"Dika, Mr. Mirko\",male,17.0,0,0,349232,7.8958,,S,,,\\r\\n774,3,0,\"Dintcheff, Mr. Valtcho\",male,43.0,0,0,349226,7.8958,,S,,,\\r\\n1194,3,0,\"Sdycoff, Mr. Todor\",male,,0,0,349222,7.8958,,S,,,\\r\\n944,3,0,\"Laleff, Mr. Kristo\",male,,0,0,349217,7.8958,,S,,,\\r\\n863,3,0,\"Hendekovic, Mr. Ignjac\",male,28.0,0,0,349243,7.8958,,S,,306.0,\\r\\n729,3,0,\"Cor, Mr. Bartol\",male,35.0,0,0,349230,7.8958,,S,,,Austria\\r\\n1226,3,0,\"Stoytcheff, Mr. Ilia\",male,19.0,0,0,349205,7.8958,,S,,,\\r\\n816,3,0,\"Gheorgheff, Mr. Stanio\",male,,0,0,349254,7.8958,,C,,,\\r\\n1221,3,0,\"Staneff, Mr. Ivan\",male,,0,0,349208,7.8958,,S,,,\\r\\n982,3,0,\"Lyntakoff, Mr. Stanko\",male,,0,0,349235,7.8958,,S,,,\\r\\n1052,3,0,\"Nankoff, Mr. Minko\",male,,0,0,349218,7.8958,,S,,,\\r\\n1055,3,0,\"Nenkoff, Mr. Christo\",male,,0,0,349234,7.8958,,S,,,\\r\\n940,3,0,\"Kraeff, Mr. Theodor\",male,,0,0,349253,7.8958,,C,,,\\r\\n874,3,1,\"Hyman, Mr. Abraham\",male,,0,0,3470,7.8875,,S,C,,\\r\\n614,3,0,\"Alexander, Mr. William\",male,26.0,0,0,3474,7.8875,,S,,,\"England Albion, NY\"\\r\\n695,3,0,\"Burns, Miss. Mary Delia\",female,18.0,0,0,330963,7.8792,,Q,,,\"Co Sligo, Ireland New York, NY\"\\r\\n987,3,0,\"Mahon, Miss. Bridget Delia\",female,,0,0,330924,7.8792,,Q,,,\\r\\n1078,3,1,\"O\\'Dwyer, Miss. Ellen \"\"Nellie\"\"\",female,,0,0,330959,7.8792,,Q,,,\\r\\n1023,3,1,\"Mockler, Miss. Helen Mary \"\"Ellie\"\"\",female,,0,0,330980,7.8792,,Q,16,,\\r\\n1006,3,1,\"McGovern, Miss. Mary\",female,,0,0,330931,7.8792,,Q,13,,\\r\\n771,3,1,\"Devaney, Miss. Margaret Delia\",female,19.0,0,0,330958,7.8792,,Q,C,,\"Kilmacowen, Co Sligo, Ireland New York, NY\"\\r\\n971,3,0,\"Linehan, Mr. Michael\",male,,0,0,330971,7.8792,,Q,,,\\r\\n803,3,0,\"Foley, Mr. Joseph\",male,26.0,0,0,330910,7.8792,,Q,,,\"Ireland Chicago, IL\"\\r\\n667,3,0,\"Barry, Miss. Julia\",female,27.0,0,0,330844,7.8792,,Q,,,\"New York, NY\"\\r\\n976,3,0,\"Lockyer, Mr. Edward\",male,,0,0,1222,7.8792,,S,,153.0,\\r\\n1308,3,0,\"Zimmerman, Mr. Leo\",male,29.0,0,0,315082,7.875,,S,,,\\r\\n905,3,1,\"Jonsson, Mr. Carl\",male,32.0,0,0,350417,7.8542,,S,15,,\\r\\n884,3,0,\"Jensen, Mr. Niels Peder\",male,48.0,0,0,350047,7.8542,,S,,,\\r\\n1086,3,0,\"Olsson, Miss. Elina\",female,31.0,0,0,350407,7.8542,,S,,,\\r\\n687,3,0,\"Braf, Miss. Elin Ester Maria\",female,20.0,0,0,347471,7.8542,,S,,,\"Medeltorp, Sweden Chicago, IL\"\\r\\n708,3,0,\"Carlsson, Mr. Carl Robert\",male,24.0,0,0,350409,7.8542,,S,,,\"Goteborg, Sweden Huntley, IL\"\\r\\n938,3,0,\"Klasen, Mr. Klas Albin\",male,18.0,1,1,350404,7.8542,,S,,,\\r\\n980,3,1,\"Lundin, Miss. Olga Elida\",female,23.0,0,0,347469,7.8542,,S,10,,\\r\\n914,3,0,\"Karlsson, Mr. Julius Konrad Eugen\",male,33.0,0,0,347465,7.8542,,S,,,\\r\\n906,3,0,\"Jonsson, Mr. Nils Hilding\",male,27.0,0,0,350408,7.8542,,S,,,\\r\\n652,3,0,\"Augustsson, Mr. Albert\",male,23.0,0,0,347468,7.8542,,S,,,\"Krakoryd, Sweden Bloomington, IL\"\\r\\n1062,3,0,\"Nilsson, Mr. August Ferdinand\",male,21.0,0,0,350410,7.8542,,S,,,\\r\\n1061,3,1,\"Nilsson, Miss. Helmina Josefina\",female,26.0,0,0,347470,7.8542,,S,13,,\\r\\n893,3,0,\"Johansson, Mr. Nils\",male,29.0,0,0,347467,7.8542,,S,,,\\r\\n633,3,0,\"Andreasson, Mr. Paul Edvin\",male,20.0,0,0,347466,7.8542,,S,,,\"Sweden Chicago, IL\"\\r\\n1087,3,0,\"Olsson, Mr. Nils Johan Goransson\",male,28.0,0,0,347464,7.8542,,S,,,\\r\\n621,3,1,\"Andersen-Jensen, Miss. Carla Christine Nielsine\",female,19.0,1,0,350046,7.8542,,S,16,,\\r\\n883,3,0,\"Jensen, Mr. Hans Peder\",male,20.0,0,0,350050,7.8542,,S,,,\\r\\n849,3,0,\"Hansen, Mr. Henrik Juul\",male,26.0,1,0,350025,7.8542,,S,,,\\r\\n1279,3,0,\"Vestrom, Miss. Hulda Amanda Adolfina\",female,14.0,0,0,350406,7.8542,,S,,,\\r\\n850,3,0,\"Hansen, Mr. Henry Damsgaard\",male,21.0,0,0,350029,7.8542,,S,,69.0,\\r\\n1278,3,0,\"Vendel, Mr. Olof Edvin\",male,20.0,0,0,350416,7.8542,,S,,,\\r\\n822,3,0,\"Goldsmith, Mr. Nathan\",male,41.0,0,0,SOTON/O.Q. 3101263,7.85,,S,,,\"Philadelphia, PA\"\\r\\n924,3,0,\"Kelly, Mr. James\",male,34.5,0,0,330911,7.8292,,Q,,70.0,\\r\\n1070,3,0,\"O\\'Brien, Mr. Timothy\",male,,0,0,330979,7.8292,,Q,,,\\r\\n1081,3,1,\"O\\'Leary, Miss. Hanora \"\"Norah\"\"\",female,,0,0,330919,7.8292,,Q,13,,\\r\\n693,3,1,\"Buckley, Mr. Daniel\",male,21.0,0,0,330920,7.8208,,Q,13,,\"Kingwilliamstown, Co Cork, Ireland New York, NY\"\\r\\n1065,3,0,\"Nosworthy, Mr. Richard Cater\",male,21.0,0,0,A/4. 39886,7.8,,S,,,\\r\\n1238,3,1,\"Tenglin, Mr. Gunnar Isidor\",male,25.0,0,0,350033,7.7958,,S,13 15,,\\r\\n1237,3,0,\"Svensson, Mr. Olof\",male,24.0,0,0,350035,7.7958,,S,,,\\r\\n913,3,1,\"Karlsson, Mr. Einar Gervasius\",male,21.0,0,0,350053,7.7958,,S,13,,\\r\\n799,3,0,\"Fischer, Mr. Eberhard Thelander\",male,18.0,0,0,350036,7.7958,,S,,,\\r\\n890,3,0,\"Johansson, Mr. Erik\",male,22.0,0,0,350052,7.7958,,S,,156.0,\\r\\n881,3,1,\"Jansson, Mr. Carl Olof\",male,21.0,0,0,350034,7.7958,,S,A,,\\r\\n690,3,0,\"Brobeck, Mr. Karl Rudolf\",male,22.0,0,0,350045,7.7958,,S,,,\"Sweden Worcester, MA\"\\r\\n630,3,1,\"Andersson, Mr. August Edvard (\"\"Wennerstrom\"\")\",male,27.0,0,0,350043,7.7958,,S,A,,\\r\\n645,3,1,\"Asplund, Mr. Johan Charles\",male,23.0,0,0,350054,7.7958,,S,13,,\"Oskarshamn, Sweden Minneapolis, MN\"\\r\\n707,3,0,\"Carlsson, Mr. August Sigfrid\",male,28.0,0,0,350042,7.7958,,S,,,\"Dagsas, Sweden Fower, MN\"\\r\\n1004,3,1,\"McDermott, Miss. Brigdet Delia\",female,,0,0,330932,7.7875,,Q,13,,\\r\\n1198,3,1,\"Shine, Miss. Ellen Natalia\",female,,0,0,330968,7.7792,,Q,,,\\r\\n839,3,0,\"Gustafsson, Mr. Karl Gideon\",male,19.0,0,0,347069,7.775,,S,,,\"Myren, Sweden New York, NY\"\\r\\n966,3,0,\"Lindahl, Miss. Agda Thorilda Viktoria\",female,25.0,0,0,347071,7.775,,S,,,\\r\\n952,3,0,\"Larsson-Rondberg, Mr. Edvard A\",male,22.0,0,0,347065,7.775,,S,,,\\r\\n951,3,0,\"Larsson, Mr. Bengt Edvin\",male,29.0,0,0,347067,7.775,,S,,,\\r\\n892,3,0,\"Johansson, Mr. Karl Johan\",male,31.0,0,0,347063,7.775,,S,,,\\r\\n1155,3,0,\"Rommetvedt, Mr. Knud Paust\",male,,0,0,312993,7.775,,S,,,\\r\\n1129,3,0,\"Petterson, Mr. Johan Emil\",male,25.0,1,0,347076,7.775,,S,,,\\r\\n889,3,1,\"Johansson Palmquist, Mr. Oskar Leander\",male,26.0,0,0,347070,7.775,,S,15,,\\r\\n786,3,0,\"Edvardsson, Mr. Gustaf Hjalmar\",male,18.0,0,0,349912,7.775,,S,,,\"Tofta, Sweden Joliet, IL\"\\r\\n864,3,0,\"Henriksson, Miss. Jenny Lovisa\",female,28.0,0,0,347086,7.775,,S,,,\\r\\n1130,3,0,\"Pettersson, Miss. Ellen Natalia\",female,18.0,0,0,347087,7.775,,S,,,\\r\\n1120,3,1,\"Persson, Mr. Ernst Ulrik\",male,25.0,1,0,347083,7.775,,S,15,,\\r\\n787,3,0,\"Eklund, Mr. Hans Linus\",male,16.0,0,0,347074,7.775,,S,,,\"Karberg, Sweden Jerome Junction, AZ\"\\r\\n1088,3,1,\"Olsson, Mr. Oscar Wilhelm\",male,32.0,0,0,347079,7.775,,S,A,,\\r\\n897,3,0,\"Johnson, Mr. Malkolm Joackim\",male,33.0,0,0,347062,7.775,,S,,37.0,\\r\\n1115,3,0,\"Pedersen, Mr. Olaf\",male,,0,0,345498,7.775,,S,,,\\r\\n1033,3,1,\"Moss, Mr. Albert Johan\",male,,0,0,312991,7.775,,S,B,,\\r\\n637,3,0,\"Aronsson, Mr. Ernst Axel Algot\",male,24.0,0,0,349911,7.775,,S,,,\"Sweden Joliet, IL\"\\r\\n675,3,0,\"Birkeland, Mr. Hans Martin Monsen\",male,21.0,0,0,312992,7.775,,S,,,\"Brennes, Norway New York\"\\r\\n631,3,0,\"Andersson, Mr. Johan Samuel\",male,26.0,0,0,347075,7.775,,S,,,\"Hartford, CT\"\\r\\n1060,3,1,\"Nilsson, Miss. Berta Olivia\",female,18.0,0,0,347066,7.775,,S,D,,\\r\\n670,3,0,\"Bengtsson, Mr. John Viktor\",male,26.0,0,0,347068,7.775,,S,,,\"Krakudden, Sweden Moune, IL\"\\r\\n626,3,0,\"Andersson, Miss. Ida Augusta Margareta\",female,38.0,4,2,347091,7.775,,S,,,\"Vadsbro, Sweden Ministee, MI\"\\r\\n1235,3,0,\"Svensson, Mr. Johan\",male,74.0,0,0,347060,7.775,,S,,,\\r\\n1017,3,1,\"Midtsjo, Mr. Karl Albert\",male,21.0,0,0,345501,7.775,,S,15,,\\r\\n1079,3,1,\"Ohman, Miss. Velin\",female,22.0,0,0,347085,7.775,,S,C,,\\r\\n819,3,1,\"Glynn, Miss. Mary Agatha\",female,,0,0,335677,7.75,,Q,13,,\"Co Clare, Ireland Washington, DC\"\\r\\n782,3,0,\"Duane, Mr. Frank\",male,65.0,0,0,336439,7.75,,Q,,,\\r\\n1162,3,1,\"Ryan, Mr. Edward\",male,,0,0,383162,7.75,,Q,14,,\\r\\n992,3,0,\"Mangan, Miss. Mary\",female,30.5,0,0,364850,7.75,,Q,,61.0,\\r\\n1287,3,0,\"Widegren, Mr. Carl/Charles Peter\",male,51.0,0,0,347064,7.75,,S,,,\\r\\n776,3,0,\"Dooley, Mr. Patrick\",male,32.0,0,0,370376,7.75,,Q,,,\"Ireland New York, NY\"\\r\\n886,3,1,\"Jermyn, Miss. Annie\",female,,0,0,14313,7.75,,Q,D,,\\r\\n1195,3,0,\"Shaughnessy, Mr. Patrick\",male,,0,0,370374,7.75,,Q,,,\\r\\n1016,3,0,\"Mernagh, Mr. Robert\",male,,0,0,368703,7.75,,Q,,,\\r\\n999,3,1,\"McCarthy, Miss. Catherine \"\"Katie\"\"\",female,,0,0,383123,7.75,,Q,15 16,,\\r\\n1000,3,1,\"McCormack, Mr. Thomas Joseph\",male,,0,0,367228,7.75,,Q,,,\\r\\n779,3,0,\"Doyle, Miss. Elizabeth\",female,24.0,0,0,368702,7.75,,Q,,,\"Ireland New York, NY\"\\r\\n1045,3,0,\"Myhrman, Mr. Pehr Fabian Oliver Malkolm\",male,18.0,0,0,347078,7.75,,S,,,\\r\\n1032,3,0,\"Morrow, Mr. Thomas Rowan\",male,,0,0,372622,7.75,,Q,,,\\r\\n1008,3,0,\"McGowan, Miss. Katherine\",female,35.0,0,0,9232,7.75,,Q,,,\\r\\n1009,3,0,\"McMahon, Mr. Martin\",male,,0,0,370372,7.75,,Q,,,\\r\\n1054,3,0,\"Naughton, Miss. Hannah\",female,,0,0,365237,7.75,,Q,,,\\r\\n871,3,0,\"Horgan, Mr. John\",male,,0,0,370377,7.75,,Q,,,\\r\\n1012,3,0,\"McNeill, Miss. Bridget\",female,,0,0,370368,7.75,,Q,,,\\r\\n865,3,0,\"Henry, Miss. Delia\",female,,0,0,382649,7.75,,Q,,,\\r\\n1040,3,1,\"Mulvihill, Miss. Bertha E\",female,24.0,0,0,382653,7.75,,Q,15,,\\r\\n800,3,0,\"Fleming, Miss. Honora\",female,,0,0,364859,7.75,,Q,,,\\r\\n801,3,0,\"Flynn, Mr. James\",male,,0,0,364851,7.75,,Q,,,\\r\\n804,3,0,\"Foley, Mr. William\",male,,0,0,365235,7.75,,Q,,,Ireland\\r\\n812,3,0,\"Fox, Mr. Patrick\",male,,0,0,368573,7.75,,Q,,,\"Ireland New York, NY\"\\r\\n856,3,1,\"Healy, Miss. Hanora \"\"Nora\"\"\",female,,0,0,370375,7.75,,Q,16,,\\r\\n797,3,0,\"Farrell, Mr. James\",male,40.5,0,0,367232,7.75,,Q,,68.0,\"Aughnacliff, Co Longford, Ireland New York, NY\"\\r\\n967,3,0,\"Lindblom, Miss. Augusta Charlotta\",female,45.0,0,0,347073,7.75,,S,,,\\r\\n988,3,0,\"Mahon, Mr. John\",male,,0,0,AQ/4 3130,7.75,,Q,,,\\r\\n984,3,1,\"Madigan, Miss. Margaret \"\"Maggie\"\"\",female,,0,0,370370,7.75,,Q,15,,\\r\\n702,3,0,\"Canavan, Miss. Mary\",female,21.0,0,0,364846,7.75,,Q,,,\\r\\n703,3,0,\"Canavan, Mr. Patrick\",male,21.0,0,0,364858,7.75,,Q,,,\"Ireland Philadelphia, PA\"\\r\\n1080,3,1,\"O\\'Keefe, Mr. Patrick\",male,,0,0,368402,7.75,,Q,B,,\\r\\n1077,3,1,\"O\\'Driscoll, Miss. Bridget\",female,,0,0,14311,7.75,,Q,D,,\\r\\n1076,3,0,\"O\\'Donoghue, Ms. Bridget\",female,,0,0,364856,7.75,,Q,,,\\r\\n1074,3,0,\"O\\'Connor, Mr. Patrick\",male,,0,0,366713,7.75,,Q,,,\\r\\n709,3,1,\"Carr, Miss. Helen \"\"Ellen\"\"\",female,16.0,0,0,367231,7.75,,Q,16,,\"Co Longford, Ireland New York, NY\"\\r\\n710,3,0,\"Carr, Miss. Jeannie\",female,37.0,0,0,368364,7.75,,Q,,,\"Co Sligo, Ireland Hartford, CT\"\\r\\n1073,3,0,\"O\\'Connor, Mr. Maurice\",male,,0,0,371060,7.75,,Q,,,\\r\\n930,3,0,\"Kiernan, Mr. Philip\",male,,1,0,367229,7.75,,Q,,,\\r\\n929,3,0,\"Kiernan, Mr. John\",male,,1,0,367227,7.75,,Q,,,\\r\\n926,3,1,\"Kennedy, Mr. John\",male,,0,0,368783,7.75,,Q,,,\\r\\n682,3,0,\"Bourke, Miss. Mary\",female,,0,2,364848,7.75,,Q,,,\"Ireland Chicago, IL\"\\r\\n923,3,1,\"Kelly, Miss. Mary\",female,,0,0,14312,7.75,,Q,D,,\\r\\n922,3,1,\"Kelly, Miss. Anna Katherine \"\"Annie Kate\"\"\",female,,0,0,9234,7.75,,Q,16,,\\r\\n676,3,0,\"Bjorklund, Mr. Ernst Herbert\",male,18.0,0,0,347090,7.75,,S,,,\"Stockholm, Sweden New York\"\\r\\n746,3,1,\"Daly, Mr. Eugene Patrick\",male,29.0,0,0,382651,7.75,,Q,13 15 B,,\"Co Athlone, Ireland New York, NY\"\\r\\n727,3,0,\"Connors, Mr. Patrick\",male,70.5,0,0,370369,7.75,,Q,,171.0,\\r\\n1249,3,0,\"Tobin, Mr. Roger\",male,,0,0,383121,7.75,F38,Q,,,\\r\\n725,3,1,\"Connolly, Miss. Kate\",female,22.0,0,0,370373,7.75,,Q,13,,Ireland\\r\\n1067,3,1,\"Nysten, Miss. Anna Sofia\",female,22.0,0,0,347081,7.75,,S,13,,\\r\\n724,3,0,\"Connaghton, Mr. Michael\",male,31.0,0,0,335097,7.75,,Q,,,\"Ireland Brooklyn, NY\"\\r\\n1215,3,0,\"Smith, Mr. Thomas\",male,,0,0,384461,7.75,,Q,,,\\r\\n920,3,0,\"Keane, Mr. Andrew \"\"Andy\"\"\",male,,0,0,12460,7.75,,Q,,,\\r\\n948,3,0,\"Lane, Mr. Patrick\",male,,0,0,7935,7.75,,Q,,,\\r\\n814,3,0,\"Gallagher, Mr. Martin\",male,25.0,0,0,36864,7.7417,,Q,,,\"New York, NY\"\\r\\n931,3,0,\"Kilgannon, Mr. Thomas J\",male,,0,0,36865,7.7375,,Q,,,\\r\\n993,3,1,\"Mannion, Miss. Margareth\",female,,0,0,36866,7.7375,,Q,16,,\\r\\n713,3,0,\"Charters, Mr. David\",male,21.0,0,0,A/5. 13032,7.7333,,Q,,,\"Ireland New York, NY\"\\r\\n723,3,0,\"Conlon, Mr. Thomas Henry\",male,31.0,0,0,21332,7.7333,,Q,,,\"Philadelphia, PA\"\\r\\n1216,3,1,\"Smyth, Miss. Julia\",female,,0,0,335432,7.7333,,Q,13,,\\r\\n818,3,1,\"Gilnagh, Miss. Katherine \"\"Katie\"\"\",female,16.0,0,0,35851,7.7333,,Q,16,,\"Co Longford, Ireland New York, NY\"\\r\\n1072,3,0,\"O\\'Connell, Mr. Patrick D\",male,,0,0,334912,7.7333,,Q,,,\\r\\n841,3,0,\"Hagardon, Miss. Kate\",female,17.0,0,0,AQ/3. 30631,7.7333,,Q,,,\\r\\n1039,3,1,\"Mullens, Miss. Katherine \"\"Katie\"\"\",female,,0,0,35852,7.7333,,Q,16,,\\r\\n1167,3,0,\"Sadlier, Mr. Matthew\",male,,0,0,367655,7.7292,,Q,,,\\r\\n686,3,1,\"Bradley, Miss. Bridget Delia\",female,22.0,0,0,334914,7.725,,Q,13,,\"Kingwilliamstown, Co Cork, Ireland Glens Falls, NY\"\\r\\n1193,3,0,\"Scanlan, Mr. James\",male,,0,0,36209,7.725,,Q,,,\\r\\n1149,3,1,\"Riordan, Miss. Johanna \"\"Hannah\"\"\",female,,0,0,334915,7.7208,,Q,13,,\\r\\n605,3,1,\"Abelseth, Mr. Olaus Jorgensen\",male,25.0,0,0,348122,7.65,F G63,S,A,,\"Perkins County, SD\"\\r\\n1024,3,0,\"Moen, Mr. Sigurd Hansen\",male,25.0,0,0,348123,7.65,F G73,S,,309.0,\\r\\n604,3,1,\"Abelseth, Miss. Karen Marie\",female,16.0,0,0,348125,7.65,,S,16,,\"Norway Los Angeles, CA\"\\r\\n873,3,0,\"Humblen, Mr. Adolf Mathias Nicolai Olsen\",male,42.0,0,0,348121,7.65,F G63,S,,120.0,\\r\\n1182,3,1,\"Salkjelsvik, Miss. Anna Kristine\",female,21.0,0,0,343120,7.65,,S,C,,\\r\\n1217,3,0,\"Soholt, Mr. Peter Andreas Lauritz Andersen\",male,19.0,0,0,348124,7.65,F G73,S,,,\\r\\n1095,3,0,\"O\\'Sullivan, Miss. Bridget Mary\",female,,0,0,330909,7.6292,,Q,,,\\r\\n726,3,0,\"Connolly, Miss. Kate\",female,30.0,0,0,330972,7.6292,,Q,,,Ireland\\r\\n981,3,1,\"Lundstrom, Mr. Thure Edvin\",male,32.0,0,0,350403,7.5792,,S,15,,\\r\\n1168,3,0,\"Sadowitz, Mr. Harry\",male,,0,0,LP 1588,7.575,,S,,,\\r\\n1223,3,1,\"Stanley, Miss. Amy Zillah Elsie\",female,23.0,0,0,CA. 2314,7.55,,S,C,,\\r\\n783,3,1,\"Duquemin, Mr. Joseph\",male,24.0,0,0,S.O./P.P. 752,7.55,,S,D,,\"England Albion, NY\"\\r\\n983,3,0,\"MacKay, Mr. George William\",male,,0,0,C.A. 42795,7.55,,S,,,\\r\\n600,3,0,\"Abbing, Mr. Anthony\",male,42.0,0,0,C.A. 5547,7.55,,S,,,\\r\\n973,3,0,\"Lithman, Mr. Simon\",male,,0,0,S.O./P.P. 251,7.55,,S,,,\\r\\n1283,3,0,\"Warren, Mr. Charles William\",male,,0,0,C.A. 49867,7.55,,S,,,\\r\\n1292,3,0,\"Willey, Mr. Edward\",male,,0,0,S.O./P.P. 751,7.55,,S,,,\\r\\n852,3,0,\"Harknett, Miss. Alice Phoebe\",female,,0,0,W./C. 6609,7.55,,S,,,\\r\\n915,3,0,\"Karlsson, Mr. Nils August\",male,22.0,0,0,350060,7.5208,,S,,,\\r\\n722,3,0,\"Coleff, Mr. Satio\",male,24.0,0,0,349209,7.4958,,S,,,\\r\\n1205,3,1,\"Sjoblom, Miss. Anna Sofia\",female,18.0,0,0,3101265,7.4958,,S,16,,\\r\\n721,3,0,\"Coleff, Mr. Peju\",male,36.0,0,0,349210,7.4958,,S,,,\"Bulgaria Chicago, IL\"\\r\\n1085,3,0,\"Olsen, Mr. Ole Martin\",male,,0,0,Fa 265302,7.3125,,S,,,\\r\\n692,3,0,\"Buckley, Miss. Katherine\",female,18.5,0,0,329944,7.2833,,Q,,299.0,\"Co Cork, Ireland Roxbury, MA\"\\r\\n689,3,0,\"Braund, Mr. Owen Harris\",male,22.0,1,0,A/5 21171,7.25,,S,,,\"Bridgerule, Devon\"\\r\\n853,3,0,\"Harmer, Mr. Abraham (David Lishin)\",male,25.0,0,0,374887,7.25,,S,B,,\\r\\n1119,3,0,\"Perkin, Mr. John Henry\",male,22.0,0,0,A/5 21174,7.25,,S,,,\\r\\n736,3,0,\"Coxon, Mr. Daniel\",male,59.0,0,0,364500,7.25,,S,,,\"Merrill, WI\"\\r\\n793,3,0,\"Elsbury, Mr. William James\",male,47.0,0,0,A/5 3902,7.25,,S,,,\"Illinois, USA\"\\r\\n608,3,0,\"Adahl, Mr. Mauritz Nils Martin\",male,30.0,0,0,C 7076,7.25,,S,,72.0,\"Asarum, Sweden Brooklyn, NY\"\\r\\n720,3,0,\"Colbert, Mr. Patrick\",male,24.0,0,0,371109,7.25,,Q,,,\"Co Limerick, Ireland Sherbrooke, PQ\"\\r\\n977,3,0,\"Lovell, Mr. John Hall (\"\"Henry\"\")\",male,20.5,0,0,A/5 21173,7.25,,S,,,\\r\\n711,3,0,\"Carver, Mr. Alfred John\",male,28.0,0,0,392095,7.25,,S,,,\"St Denys, Southampton, Hants\"\\r\\n770,3,0,\"Dennis, Mr. William\",male,36.0,0,0,A/5 21175,7.25,,S,,,\\r\\n813,3,0,\"Franklin, Mr. Charles (Charles Fardon)\",male,,0,0,SOTON/O.Q. 3101314,7.25,,S,,,\\r\\n947,3,1,\"Landergren, Miss. Aurora Adelia\",female,22.0,0,0,C 7077,7.25,,S,13,,\\r\\n1138,3,0,\"Reed, Mr. James George\",male,,0,0,362316,7.25,,S,,,\\r\\n1169,3,0,\"Saether, Mr. Simon Sivertsen\",male,38.5,0,0,SOTON/O.Q. 3101262,7.25,,S,,32.0,\\r\\n1297,3,0,\"Wiseman, Mr. Phillippe\",male,,0,0,A/4. 34244,7.25,,S,,,\\r\\n1295,3,0,\"Windelov, Mr. Einar\",male,21.0,0,0,SOTON/OQ 3101317,7.25,,S,,,\\r\\n921,3,0,\"Keefe, Mr. Arthur\",male,,0,0,323592,7.25,,S,A,,\\r\\n769,3,0,\"Dennis, Mr. Samuel\",male,22.0,0,0,A/5 21172,7.25,,S,,,\\r\\n653,3,1,\"Ayoub, Miss. Banoura\",female,13.0,0,0,2687,7.2292,,C,C,,\"Syria Youngstown, OH\"\\r\\n991,3,1,\"Mamee, Mr. Hanna\",male,,0,0,2677,7.2292,,C,15,,\\r\\n875,3,0,\"Ibrahim Shawah, Mr. Yousseff\",male,30.0,0,0,2685,7.2292,,C,,,\\r\\n941,3,1,\"Krekorian, Mr. Neshan\",male,25.0,0,0,2654,7.2292,F E57,C,10,,\\r\\n1255,3,0,\"Toufik, Mr. Nakli\",male,,0,0,2641,7.2292,,C,,,\\r\\n1253,3,0,\"Torfa, Mr. Assad\",male,,0,0,2673,7.2292,,C,,,\\r\\n664,3,1,\"Barah, Mr. Hanna Assi\",male,20.0,0,0,2663,7.2292,,C,15,,\\r\\n792,3,0,\"Elias, Mr. Tannous\",male,15.0,1,1,2695,7.2292,,C,,,Syria\\r\\n847,3,0,\"Hanna, Mr. Mansour\",male,23.5,0,0,2693,7.2292,,C,,188.0,\\r\\n672,3,0,\"Betros, Master. Seman\",male,,0,0,2622,7.2292,,C,,,\\r\\n1066,3,0,\"Novel, Mr. Mansouer\",male,28.5,0,0,2697,7.2292,,C,,181.0,\\r\\n1164,3,0,\"Saad, Mr. Amin\",male,,0,0,2671,7.2292,,C,,,\\r\\n919,3,0,\"Katavelas, Mr. Vassilios (\"\"Catavelas Vassilios\"\")\",male,18.5,0,0,2682,7.2292,,C,,58.0,\\r\\n1053,3,0,\"Nasr, Mr. Mustafa\",male,,0,0,2652,7.2292,,C,,,\\r\\n790,3,0,\"Elias, Mr. Joseph\",male,39.0,0,2,2675,7.2292,,C,,,\"Syria Ottawa, ON\"\\r\\n1037,3,1,\"Moussa, Mrs. (Mantoura Boulos)\",female,,0,0,2626,7.2292,,C,,,\\r\\n1137,3,0,\"Razi, Mr. Raihed\",male,,0,0,2629,7.2292,,C,,,\\r\\n775,3,0,\"Doharr, Mr. Tannous\",male,,0,0,2686,7.2292,,C,,,\\r\\n1201,3,0,\"Sirayanian, Mr. Orsen\",male,22.0,0,0,2669,7.2292,,C,,,\\r\\n1286,3,1,\"Whabee, Mrs. George Joseph (Shawneene Abi-Saab)\",female,38.0,0,0,2688,7.2292,,C,C,,\\r\\n994,3,0,\"Mardirosian, Mr. Sarkis\",male,,0,0,2655,7.2292,F E46,C,,,\\r\\n607,3,1,\"Abrahim, Mrs. Joseph (Sophie Halaut Easu)\",female,18.0,0,0,2657,7.2292,,C,C,,\"Greensburg, PA\"\\r\\n791,3,0,\"Elias, Mr. Joseph Jr\",male,17.0,1,1,2690,7.2292,,C,,,\\r\\n918,3,0,\"Kassem, Mr. Fared\",male,,0,0,2700,7.2292,,C,,,\\r\\n997,3,1,\"Masselmani, Mrs. Fatima\",female,,0,0,2649,7.225,,C,C,,\\r\\n1306,3,0,\"Zakarian, Mr. Mapriededer\",male,26.5,0,0,2656,7.225,,C,,304.0,\\r\\n651,3,0,\"Attalah, Mr. Sleiman\",male,30.0,0,0,2694,7.225,,C,,,\"Ottawa, ON\"\\r\\n1047,3,1,\"Najib, Miss. Adele Kiamie \"\"Jane\"\"\",female,15.0,0,0,2667,7.225,,C,C,,\\r\\n1302,3,0,\"Yousif, Mr. Wazli\",male,,0,0,2647,7.225,,C,,,\\r\\n648,3,0,\"Assaf, Mr. Gerios\",male,21.0,0,0,2692,7.225,,C,,,\"Ottawa, ON\"\\r\\n647,3,1,\"Assaf Khalil, Mrs. Mariana (\"\"Miriam\"\")\",female,45.0,0,0,2696,7.225,,C,C,,\"Ottawa, ON\"\\r\\n1301,3,0,\"Youseff, Mr. Gerious\",male,45.5,0,0,2628,7.225,,C,,312.0,\\r\\n1277,3,1,\"Vartanian, Mr. David\",male,22.0,0,0,2658,7.225,,C,13 15,,\\r\\n1307,3,0,\"Zakarian, Mr. Ortin\",male,27.0,0,0,2670,7.225,,C,,,\\r\\n662,3,0,\"Badt, Mr. Mohamed\",male,40.0,0,0,2623,7.225,,C,,,\\r\\n654,3,0,\"Baccos, Mr. Raffull\",male,20.0,0,0,2679,7.225,,C,,,\\r\\n680,3,0,\"Boulos, Mr. Hanna\",male,,0,0,2664,7.225,,C,,,Syria\\r\\n953,3,1,\"Leeni, Mr. Fahim (\"\"Philip Zenni\"\")\",male,22.0,0,0,2620,7.225,,C,6,,\\r\\n1165,3,0,\"Saad, Mr. Khalil\",male,25.0,0,0,2672,7.225,,C,,,\\r\\n1243,3,0,\"Thomas, Mr. Tannous\",male,,0,0,2684,7.225,,C,,,\\r\\n1166,3,0,\"Saade, Mr. Jean Nassr\",male,,0,0,2676,7.225,,C,,,\\r\\n795,3,0,\"Emir, Mr. Farred Chehab\",male,,0,0,2631,7.225,,C,,,\\r\\n789,3,0,\"Elias, Mr. Dibo\",male,,0,0,2674,7.225,,C,,,\\r\\n741,3,0,\"Daher, Mr. Shedid\",male,22.5,0,0,2698,7.225,,C,,9.0,\\r\\n942,3,0,\"Lahoud, Mr. Sarkis\",male,,0,0,2624,7.225,,C,,,\\r\\n985,3,1,\"Madsen, Mr. Fridtjof Arne\",male,24.0,0,0,C 17369,7.1417,,S,13,,\\r\\n1148,3,0,\"Rintamaki, Mr. Matti\",male,35.0,0,0,STON/O 2. 3101273,7.125,,S,,,\\r\\n910,3,0,\"Kallio, Mr. Nikolai Erland\",male,17.0,0,0,STON/O 2. 3101274,7.125,,S,,,\\r\\n986,3,0,\"Maenpaa, Mr. Matti Alexanteri\",male,22.0,0,0,STON/O 2. 3101275,7.125,,S,,,\\r\\n1063,3,0,\"Nirva, Mr. Iisakki Antino Aijo\",male,41.0,0,0,SOTON/O2 3101272,7.125,,S,,,\"Finland Sudbury, ON\"\\r\\n885,3,0,\"Jensen, Mr. Svend Lauritz\",male,17.0,1,0,350048,7.0542,,S,,,\\r\\n979,3,0,\"Lundahl, Mr. Johan Svensson\",male,51.0,0,0,347743,7.0542,,S,,,\\r\\n824,3,0,\"Goncalves, Mr. Manuel Estanslas\",male,38.0,0,0,SOTON/O.Q. 3101306,7.05,,S,,,Portugal\\r\\n617,3,0,\"Ali, Mr. William\",male,25.0,0,0,SOTON/O.Q. 3101312,7.05,,S,,79.0,Argentina\\r\\n649,3,0,\"Assam, Mr. Ali\",male,23.0,0,0,SOTON/O.Q. 3101309,7.05,,S,,,\\r\\n882,3,0,\"Jardin, Mr. Jose Neto\",male,,0,0,SOTON/O.Q. 3101305,7.05,,S,,,\\r\\n616,3,0,\"Ali, Mr. Ahmed\",male,24.0,0,0,SOTON/O.Q. 3101311,7.05,,S,,,\\r\\n798,3,1,\"Finoli, Mr. Luigi\",male,,0,0,SOTON/O.Q. 3101308,7.05,,S,15,,\"Italy Philadelphia, PA\"\\r\\n638,3,0,\"Asim, Mr. Adola\",male,35.0,0,0,SOTON/O.Q. 3101310,7.05,,S,,,\\r\\n718,3,0,\"Coelho, Mr. Domingos Fernandeo\",male,20.0,0,0,SOTON/O.Q. 3101307,7.05,,S,,,Portugal\\r\\n1234,3,0,\"Sutehall, Mr. Henry Jr\",male,25.0,0,0,SOTON/OQ 392076,7.05,,S,,,\\r\\n688,3,0,\"Braund, Mr. Lewis Richard\",male,29.0,1,0,3460,7.0458,,S,,,\"Bridgerule, Devon\"\\r\\n1114,3,0,\"Pearce, Mr. Ernest\",male,,0,0,343271,7.0,,S,,,\\r\\n1290,3,1,\"Wilkes, Mrs. James (Ellen Needs)\",female,47.0,1,0,363272,7.0,,S,,,\\r\\n788,3,0,\"Ekstrom, Mr. Johan\",male,45.0,0,0,347061,6.975,,S,,,\"Effington Rut, SD\"\\r\\n857,3,1,\"Hedman, Mr. Oskar Arvid\",male,27.0,0,0,347089,6.975,,S,15,,\\r\\n802,3,0,\"Flynn, Mr. John\",male,,0,0,368323,6.95,,Q,,,\\r\\n745,3,1,\"Daly, Miss. Margaret Marcella \"\"Maggie\"\"\",female,30.0,0,0,382650,6.95,,Q,15,,\"Co Athlone, Ireland New York, NY\"\\r\\n854,3,0,\"Hart, Mr. Henry\",male,,0,0,394140,6.8583,,Q,,,\\r\\n859,3,0,\"Hegarty, Miss. Hanora \"\"Nora\"\"\",female,18.0,0,0,365226,6.75,,Q,,,\\r\\n694,3,0,\"Burke, Mr. Jeremiah\",male,19.0,0,0,365222,6.75,,Q,,,\"Co Cork, Ireland Charlestown, MA\"\\r\\n888,3,0,\"Johanson, Mr. Jakob Alfred\",male,34.0,0,0,3101264,6.4958,,S,,143.0,\\r\\n1289,3,0,\"Wiklund, Mr. Karl Johan\",male,21.0,1,0,3101266,6.4958,,S,,,\\r\\n1288,3,0,\"Wiklund, Mr. Jakob Alfred\",male,18.0,1,0,3101267,6.4958,,S,,314.0,\\r\\n868,3,0,\"Holm, Mr. John Fredrik Alexander\",male,43.0,0,0,C 7075,6.45,,S,,,\\r\\n1242,3,0,\"Thomas, Mr. John\",male,,0,0,2681,6.4375,,C,,,\\r\\n1241,3,0,\"Thomas, Mr. Charles P\",male,,1,0,2621,6.4375,,C,,,\\r\\n960,3,0,\"Lemberopolous, Mr. Peter L\",male,34.5,0,0,2683,6.4375,,C,,196.0,\\r\\n1068,3,0,\"Nysveen, Mr. Johan Hansen\",male,61.0,0,0,345364,6.2375,,S,,,\\r\\n51,1,0,\"Carlsson, Mr. Frans Olof\",male,33.0,0,0,695,5.0,B51 B53 B55,S,,,\"New York, NY\"\\r\\n673,3,0,\"Betros, Mr. Tannous\",male,20.0,0,0,2648,4.0125,,C,,,Syria\\r\\n1082,3,1,\"Olsen, Master. Artur Karl\",male,9.0,0,1,C 17368,3.1708,,S,13,,\\r\\n473,2,0,\"Knight, Mr. Robert J\",male,,0,0,239855,0.0,,S,,,Belfast\\r\\n125,1,0,\"Fry, Mr. Richard\",male,,0,0,112058,0.0,B102,S,,,\\r\\n963,3,0,\"Leonard, Mr. Lionel\",male,36.0,0,0,LINE,0.0,,S,,,\\r\\n7,1,0,\"Andrews, Mr. Thomas Jr\",male,39.0,0,0,112050,0.0,A36,S,,,\"Belfast, NI\"\\r\\n70,1,0,\"Chisholm, Mr. Roderick Robert Crispin\",male,,0,0,112051,0.0,,S,,,\"Liverpool, England / Belfast\"\\r\\n1254,3,1,\"Tornquist, Mr. William Henry\",male,25.0,0,0,LINE,0.0,,S,15,,\\r\\n898,3,0,\"Johnson, Mr. William Cahoone Jr\",male,19.0,0,0,LINE,0.0,,S,,,\\r\\n170,1,1,\"Ismay, Mr. Joseph Bruce\",male,49.0,0,0,112058,0.0,B52 B54 B56,S,C,,Liverpool\\r\\n150,1,0,\"Harrison, Mr. William\",male,40.0,0,0,112059,0.0,B94,S,,110.0,\\r\\n528,2,0,\"Parkes, Mr. Francis \"\"Frank\"\"\",male,,0,0,239853,0.0,,S,,,Belfast\\r\\n896,3,0,\"Johnson, Mr. Alfred\",male,49.0,0,0,LINE,0.0,,S,,,\\r\\n223,1,0,\"Parr, Mr. William Henry Marsh\",male,,0,0,112052,0.0,,S,,,Belfast\\r\\n234,1,0,\"Reuchlin, Jonkheer. John George\",male,38.0,0,0,19972,0.0,,S,,,\"Rotterdam, Netherlands\"\\r\\n363,2,0,\"Campbell, Mr. William\",male,,0,0,239853,0.0,,S,,,Belfast\\r\\n384,2,0,\"Cunningham, Mr. Alfred Fleming\",male,,0,0,239853,0.0,,S,,,Belfast\\r\\n581,2,0,\"Watson, Mr. Ennis Hastings\",male,,0,0,239856,0.0,,S,,,Belfast\\r\\n410,2,0,\"Frost, Mr. Anthony Wood \"\"Archie\"\"\",male,,0,0,239854,0.0,,S,,,Belfast\\r\\n1225,3,0,\"Storey, Mr. Thomas\",male,60.5,0,0,3701,,,S,,261.0,\\r\\n'"
      ]
     },
     "execution_count": 19,
     "metadata": {},
     "output_type": "execute_result"
    }
   ],
   "source": [
    "titanic_df.sort_values(by=['fare'], ascending=False).to_csv()"
   ]
  },
  {
   "cell_type": "markdown",
   "metadata": {},
   "source": [
    "#### 2(m)\n",
    "rubric={points:3}\n",
    "\n",
    "Create a scatter plot of fare (y-axis) vs. age (x-axis). Make sure to follow the [guidelines on figures](https://github.com/UBC-CS/cpsc330/blob/master/docs/homework_instructions.md#figures). You are welcome to use pandas built-in plotting or `matplotlib`. "
   ]
  },
  {
   "cell_type": "code",
   "execution_count": 20,
   "metadata": {},
   "outputs": [
    {
     "data": {
      "text/plain": [
       "<AxesSubplot:xlabel='age', ylabel='fare'>"
      ]
     },
     "execution_count": 20,
     "metadata": {},
     "output_type": "execute_result"
    },
    {
     "data": {
      "image/png": "[encoded data removed]",
      "text/plain": [
       "<Figure size 432x288 with 1 Axes>"
      ]
     },
     "metadata": {
      "needs_background": "light"
     },
     "output_type": "display_data"
    }
   ],
   "source": [
    "titanic_df.plot(x='age', y='fare', kind='scatter')"
   ]
  },
  {
   "cell_type": "markdown",
   "metadata": {},
   "source": [
    "#### 2(n)\n",
    "rubric={points:3}\n",
    "\n",
    "Create a bar plot of `embarked` values. \n",
    "\n",
    "> Make sure to name the axes and give a title to your plot. "
   ]
  },
  {
   "cell_type": "code",
   "execution_count": 21,
   "metadata": {},
   "outputs": [
    {
     "data": {
      "text/plain": [
       "<AxesSubplot:title={'center':'Passengers Embarked'}, xlabel='embarked'>"
      ]
     },
     "execution_count": 21,
     "metadata": {},
     "output_type": "execute_result"
    },
    {
     "data": {
      "image/png": "[encoded data removed]",
      "text/plain": [
       "<Figure size 432x288 with 1 Axes>"
      ]
     },
     "metadata": {
      "needs_background": "light"
     },
     "output_type": "display_data"
    }
   ],
   "source": [
    "c = titanic_df[[\"embarked\"]].loc[titanic_df['embarked'] == \"C\"].shape[0]\n",
    "q = titanic_df[[\"embarked\"]].loc[titanic_df['embarked'] == \"Q\"].shape[0]\n",
    "s = titanic_df[[\"embarked\"]].loc[titanic_df['embarked'] == \"S\"].shape[0]\n",
    "dfg = pd.DataFrame({'embarked':['C', 'Q', 'S'], 'val':[c, q, s]})\n",
    "dfg.plot.bar(x=\"embarked\", y='val', rot=0, title=\"Passengers Embarked\")"
   ]
  },
  {
   "cell_type": "markdown",
   "metadata": {},
   "source": [
    "<br><br>"
   ]
  },
  {
   "cell_type": "markdown",
   "metadata": {},
   "source": [
    "## Exercise 3: Treasure Hunt\n",
    "\n",
    "In this exercise, we will generate various collections of objects either as a list, a tuple, or a dictionary. Your task is to inspect the objects and look for treasure, which in our case is a particular object: **the character \"T\"**. \n",
    "\n",
    "**Your tasks:**\n",
    "\n",
    "For each of the following cases, index into the Python object to obtain the \"T\" (for Treasure). \n",
    "\n",
    "> Please do not modify the original line of code that generates `x` (though you are welcome to copy it). You are welcome to answer this question \"manually\" or by writing code - whatever works for you. However, your submission should always end with a line of code that prints out `'T'` at the end (because you've found it). "
   ]
  },
  {
   "cell_type": "code",
   "execution_count": 22,
   "metadata": {},
   "outputs": [],
   "source": [
    "import string\n",
    "\n",
    "letters = string.ascii_uppercase"
   ]
  },
  {
   "cell_type": "markdown",
   "metadata": {},
   "source": [
    "The first one is done for you as an example."
   ]
  },
  {
   "cell_type": "markdown",
   "metadata": {},
   "source": [
    "#### Example question"
   ]
  },
  {
   "cell_type": "code",
   "execution_count": 23,
   "metadata": {},
   "outputs": [
    {
     "data": {
      "text/plain": [
       "('nothing',\n",
       " {0: 'A',\n",
       "  -1: 'B',\n",
       "  -2: 'C',\n",
       "  -3: 'D',\n",
       "  -4: 'E',\n",
       "  -5: 'F',\n",
       "  -6: 'G',\n",
       "  -7: 'H',\n",
       "  -8: 'I',\n",
       "  -9: 'J',\n",
       "  -10: 'K',\n",
       "  -11: 'L',\n",
       "  -12: 'M',\n",
       "  -13: 'N',\n",
       "  -14: 'O',\n",
       "  -15: 'P',\n",
       "  -16: 'Q',\n",
       "  -17: 'R',\n",
       "  -18: 'S',\n",
       "  -19: 'T',\n",
       "  -20: 'U',\n",
       "  -21: 'V',\n",
       "  -22: 'W',\n",
       "  -23: 'X',\n",
       "  -24: 'Y',\n",
       "  -25: 'Z'})"
      ]
     },
     "execution_count": 23,
     "metadata": {},
     "output_type": "execute_result"
    }
   ],
   "source": [
    "x = (\"nothing\", {-i: l for i, l in enumerate(letters)})\n",
    "x"
   ]
  },
  {
   "cell_type": "markdown",
   "metadata": {},
   "source": [
    "**Example answer**:"
   ]
  },
  {
   "cell_type": "code",
   "execution_count": 24,
   "metadata": {},
   "outputs": [
    {
     "data": {
      "text/plain": [
       "'T'"
      ]
     },
     "execution_count": 24,
     "metadata": {},
     "output_type": "execute_result"
    }
   ],
   "source": [
    "x[1][-19]"
   ]
  },
  {
   "cell_type": "markdown",
   "metadata": {},
   "source": [
    "> Note: In these questions, the goal is not to understand the code itself, which may be confusing. Instead, try to probe the types of the various objects. For example `type(x)` reveals that `x` is a tuple, and `len(x)` reveals that it has two elements. Element 0 just contains \"nothing\", but element 1 contains more stuff, hence `x[1]`. Then we can again probe `type(x[1])` and see that it's a dictionary. If you `print(x[1])` you'll see that the letter \"T\" corresponds to the key -19, hence `x[1][-19]`."
   ]
  },
  {
   "cell_type": "markdown",
   "metadata": {},
   "source": [
    "#### 3(a)\n",
    "rubric={points:2}"
   ]
  },
  {
   "cell_type": "code",
   "execution_count": 25,
   "metadata": {},
   "outputs": [],
   "source": [
    "# Do not modify this cell\n",
    "x = [\n",
    "    [letters[i] for i in range(26) if i % 2 == 0],\n",
    "    [letters[i] for i in range(26) if i % 2 == 1],\n",
    "]"
   ]
  },
  {
   "cell_type": "code",
   "execution_count": 26,
   "metadata": {},
   "outputs": [
    {
     "data": {
      "text/plain": [
       "'T'"
      ]
     },
     "execution_count": 26,
     "metadata": {},
     "output_type": "execute_result"
    }
   ],
   "source": [
    "x[1][9]"
   ]
  },
  {
   "cell_type": "markdown",
   "metadata": {},
   "source": [
    "#### 3(b)\n",
    "rubric={points:2}"
   ]
  },
  {
   "cell_type": "code",
   "execution_count": 27,
   "metadata": {},
   "outputs": [],
   "source": [
    "# Do not modify this cell\n",
    "np.random.seed(1)\n",
    "x = np.random.choice(list(set(letters) - set(\"T\")), size=(100, 26), replace=True)\n",
    "x[np.random.randint(100), np.random.randint(26)] = \"T\""
   ]
  },
  {
   "cell_type": "code",
   "execution_count": 28,
   "metadata": {},
   "outputs": [
    {
     "data": {
      "text/plain": [
       "'T'"
      ]
     },
     "execution_count": 28,
     "metadata": {},
     "output_type": "execute_result"
    }
   ],
   "source": [
    "for i in range(len(x)):\n",
    "    for j in range(len(x[0])):\n",
    "        if x[i][j] == 'T':\n",
    "            xval=i\n",
    "            yval=j\n",
    "            break\n",
    "            \n",
    "x[xval, yval]"
   ]
  },
  {
   "cell_type": "markdown",
   "metadata": {},
   "source": [
    "#### 3(c)\n",
    "rubric={points:3}"
   ]
  },
  {
   "cell_type": "code",
   "execution_count": 29,
   "metadata": {},
   "outputs": [],
   "source": [
    "# Do not modify this cell\n",
    "n = 26\n",
    "x = dict()\n",
    "for i in range(n):\n",
    "    x[string.ascii_lowercase[i]] = {\n",
    "        string.ascii_lowercase[(j + 1) % n]: [[letters[j]] if j - 2 == i else None]\n",
    "        for j in range(n)\n",
    "    }"
   ]
  },
  {
   "cell_type": "code",
   "execution_count": 30,
   "metadata": {},
   "outputs": [
    {
     "data": {
      "text/plain": [
       "'T'"
      ]
     },
     "execution_count": 30,
     "metadata": {},
     "output_type": "execute_result"
    }
   ],
   "source": [
    "x['r']['u'][0][0]"
   ]
  },
  {
   "cell_type": "code",
   "execution_count": null,
   "metadata": {},
   "outputs": [],
   "source": []
  },
  {
   "cell_type": "markdown",
   "metadata": {},
   "source": [
    "<br><br><br><br>"
   ]
  },
  {
   "cell_type": "markdown",
   "metadata": {},
   "source": [
    "## Submission instructions \n",
    "\n",
    "**PLEASE READ:** When you are ready to submit your assignment do the following:\n",
    "\n",
    "1. Run all cells in your notebook to make sure there are no errors by doing `Kernel -> Restart Kernel and Clear All Outputs` and then `Run -> Run All Cells`. \n",
    "2. Notebooks with cell execution numbers out of order or not starting from “1” will have marks deducted. Notebooks without the output displayed may not be graded at all (because we need to see the output in order to grade your work).\n",
    "3. Upload the assignment using Gradescope's drag and drop tool. Check out this [Gradescope Student Guide](https://lthub.ubc.ca/guides/gradescope-student-guide/) if you need help with Gradescope submission. "
   ]
  },
  {
   "cell_type": "markdown",
   "metadata": {},
   "source": [
    "![](eva-congrats.png)"
   ]
  },
  {
   "cell_type": "code",
   "execution_count": null,
   "metadata": {},
   "outputs": [],
   "source": []
  }
 ],
 "metadata": {
  "anaconda-cloud": {},
  "kernelspec": {
   "display_name": "Python [conda env:cpsc330]",
   "language": "python",
   "name": "conda-env-cpsc330-py"
  },
  "language_info": {
   "codemirror_mode": {
    "name": "ipython",
    "version": 3
   },
   "file_extension": ".py",
   "mimetype": "text/x-python",
   "name": "python",
   "nbconvert_exporter": "python",
   "pygments_lexer": "ipython3",
   "version": "3.9.5"
  }
 },
 "nbformat": 4,
 "nbformat_minor": 4
}
